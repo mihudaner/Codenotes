{
 "cells": [
  {
   "cell_type": "markdown",
   "metadata": {},
   "source": [
    "### 打印输入的名字"
   ]
  },
  {
   "cell_type": "code",
   "execution_count": 1,
   "metadata": {},
   "outputs": [
    {
     "name": "stdout",
     "output_type": "stream",
     "text": [
      "你好，wd!\n"
     ]
    }
   ],
   "source": [
    "\n",
    "name = input(\"请输入你的姓名:\")\n",
    "print(\"你好，\"+name+\"!\")#拼接"
   ]
  },
  {
   "cell_type": "markdown",
   "metadata": {},
   "source": [
    "### 判断数字"
   ]
  },
  {
   "cell_type": "code",
   "execution_count": null,
   "metadata": {},
   "outputs": [],
   "source": [
    "\n",
    "temp= input(\"输入一个数字1-100\")\n",
    "num = int(temp)\n",
    "if 0<num<100:#不要打括号，且&没用\n",
    "  print (\"nimeihaopiaoliang\")\n",
    "else:\n",
    "  print(\"nidaye\")\n"
   ]
  },
  {
   "cell_type": "markdown",
   "metadata": {},
   "source": [
    "### 打印字符串"
   ]
  },
  {
   "cell_type": "code",
   "execution_count": null,
   "metadata": {},
   "outputs": [],
   "source": [
    "\n",
    "f=520\n",
    "s=\"520\"\n",
    "f=s\n",
    "print(f)"
   ]
  },
  {
   "cell_type": "markdown",
   "metadata": {},
   "source": [
    "\n",
    "### game"
   ]
  },
  {
   "cell_type": "code",
   "execution_count": 4,
   "metadata": {},
   "outputs": [
    {
     "name": "stdout",
     "output_type": "stream",
     "text": [
      "cuo\n",
      "over\n"
     ]
    },
    {
     "data": {
      "text/plain": [
       "'7'"
      ]
     },
     "execution_count": 4,
     "metadata": {},
     "output_type": "execute_result"
    }
   ],
   "source": [
    "\n",
    "temp = input(\"猜猜数字\")      #1.空格和对齐，2. 不用；\n",
    "\n",
    "guss = int(temp)              #  dir(__builtins__)  bif内置函数\n",
    "\n",
    "                              #  import this 一首pyhon之诗\n",
    "if guss == 8:\n",
    "      print(\"dui\")\n",
    "else:\n",
    "      print(\"cuo\")\n",
    "      print(\"over\")\n",
    "input(\"x:\") "
   ]
  }
 ],
 "metadata": {
  "kernelspec": {
   "display_name": "Python 3.10.4 64-bit",
   "language": "python",
   "name": "python3"
  },
  "language_info": {
   "codemirror_mode": {
    "name": "ipython",
    "version": 3
   },
   "file_extension": ".py",
   "mimetype": "text/x-python",
   "name": "python",
   "nbconvert_exporter": "python",
   "pygments_lexer": "ipython3",
   "version": "3.10.4"
  },
  "orig_nbformat": 4,
  "vscode": {
   "interpreter": {
    "hash": "d533ad8ead974ef2863af58c6dd965ec76a73ec9b0d6bfff6efc64af475660a3"
   }
  }
 },
 "nbformat": 4,
 "nbformat_minor": 2
}
