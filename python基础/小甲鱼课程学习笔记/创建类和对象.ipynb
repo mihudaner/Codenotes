{
 "cells": [
  {
   "cell_type": "markdown",
   "metadata": {},
   "source": [
    "# 类和对象1\n",
    "\n",
    "结构体不可以定义函数的，结构体一般都只有数据成员，而没有函数成员。也就是int、double这样的数据类型，函数需要单独定义，结构体里只能通过定义函数指针指向函数。如\n",
    "\n",
    "果必需使用函数，就得用类概念了\n"
   ]
  },
  {
   "cell_type": "markdown",
   "metadata": {},
   "source": [
    "创建一个dog类"
   ]
  },
  {
   "cell_type": "code",
   "execution_count": 11,
   "metadata": {},
   "outputs": [],
   "source": [
    "\n",
    "class dog():\n",
    "#属性\n",
    "    color = 'green'\n",
    "    weight=10\n",
    "    legs=4\n",
    "    shell = True\n",
    "    mouth = '很大的嘴'\n",
    "\n",
    "#方法\n",
    "    def climb(self):\n",
    "        print('这只狗在爬')\n",
    "    def run(self):\n",
    "        print('这只狗在跑')\n",
    "    def bite(self):\n",
    "        print('这只狗在咬')\n",
    "    def eat(self):\n",
    "        print('这只狗在吃')\n",
    "    def sleep(self):\n",
    "        print('这只狗在睡')"
   ]
  },
  {
   "cell_type": "markdown",
   "metadata": {},
   "source": [
    "把类付给一个对象出来，并且执行方法"
   ]
  },
  {
   "cell_type": "code",
   "execution_count": 12,
   "metadata": {},
   "outputs": [
    {
     "name": "stdout",
     "output_type": "stream",
     "text": [
      "这只狗在咬\n"
     ]
    }
   ],
   "source": [
    "dog1=dog()\n",
    "dog1.bite()\n"
   ]
  },
  {
   "cell_type": "markdown",
   "metadata": {},
   "source": [
    "### 类的特点\n",
    "\n",
    "- 封装：对外部隐藏对象的工作细节\n",
    "    \n",
    "+ 继承：子类自动共享父类之间的数据\n",
    "\n",
    "+ 多态：可以对不同类对象调用相同的方法"
   ]
  },
  {
   "cell_type": "markdown",
   "metadata": {},
   "source": [
    "\n",
    "创建一个mylist类\n",
    "\n",
    "mylist继承了list的属性和方法,list的help可以看到list是一个class"
   ]
  },
  {
   "cell_type": "code",
   "execution_count": 13,
   "metadata": {},
   "outputs": [
    {
     "name": "stdout",
     "output_type": "stream",
     "text": [
      "Help on mylist in module __main__ object:\n",
      "\n",
      "class mylist(builtins.list)\n",
      " |  mylist(iterable=(), /)\n",
      " |  \n",
      " |  Method resolution order:\n",
      " |      mylist\n",
      " |      builtins.list\n",
      " |      builtins.object\n",
      " |  \n",
      " |  Data descriptors defined here:\n",
      " |  \n",
      " |  __dict__\n",
      " |      dictionary for instance variables (if defined)\n",
      " |  \n",
      " |  __weakref__\n",
      " |      list of weak references to the object (if defined)\n",
      " |  \n",
      " |  ----------------------------------------------------------------------\n",
      " |  Methods inherited from builtins.list:\n",
      " |  \n",
      " |  __add__(self, value, /)\n",
      " |      Return self+value.\n",
      " |  \n",
      " |  __contains__(self, key, /)\n",
      " |      Return key in self.\n",
      " |  \n",
      " |  __delitem__(self, key, /)\n",
      " |      Delete self[key].\n",
      " |  \n",
      " |  __eq__(self, value, /)\n",
      " |      Return self==value.\n",
      " |  \n",
      " |  __ge__(self, value, /)\n",
      " |      Return self>=value.\n",
      " |  \n",
      " |  __getattribute__(self, name, /)\n",
      " |      Return getattr(self, name).\n",
      " |  \n",
      " |  __getitem__(...)\n",
      " |      x.__getitem__(y) <==> x[y]\n",
      " |  \n",
      " |  __gt__(self, value, /)\n",
      " |      Return self>value.\n",
      " |  \n",
      " |  __iadd__(self, value, /)\n",
      " |      Implement self+=value.\n",
      " |  \n",
      " |  __imul__(self, value, /)\n",
      " |      Implement self*=value.\n",
      " |  \n",
      " |  __init__(self, /, *args, **kwargs)\n",
      " |      Initialize self.  See help(type(self)) for accurate signature.\n",
      " |  \n",
      " |  __iter__(self, /)\n",
      " |      Implement iter(self).\n",
      " |  \n",
      " |  __le__(self, value, /)\n",
      " |      Return self<=value.\n",
      " |  \n",
      " |  __len__(self, /)\n",
      " |      Return len(self).\n",
      " |  \n",
      " |  __lt__(self, value, /)\n",
      " |      Return self<value.\n",
      " |  \n",
      " |  __mul__(self, value, /)\n",
      " |      Return self*value.\n",
      " |  \n",
      " |  __ne__(self, value, /)\n",
      " |      Return self!=value.\n",
      " |  \n",
      " |  __repr__(self, /)\n",
      " |      Return repr(self).\n",
      " |  \n",
      " |  __reversed__(self, /)\n",
      " |      Return a reverse iterator over the list.\n",
      " |  \n",
      " |  __rmul__(self, value, /)\n",
      " |      Return value*self.\n",
      " |  \n",
      " |  __setitem__(self, key, value, /)\n",
      " |      Set self[key] to value.\n",
      " |  \n",
      " |  __sizeof__(self, /)\n",
      " |      Return the size of the list in memory, in bytes.\n",
      " |  \n",
      " |  append(self, object, /)\n",
      " |      Append object to the end of the list.\n",
      " |  \n",
      " |  clear(self, /)\n",
      " |      Remove all items from list.\n",
      " |  \n",
      " |  copy(self, /)\n",
      " |      Return a shallow copy of the list.\n",
      " |  \n",
      " |  count(self, value, /)\n",
      " |      Return number of occurrences of value.\n",
      " |  \n",
      " |  extend(self, iterable, /)\n",
      " |      Extend list by appending elements from the iterable.\n",
      " |  \n",
      " |  index(self, value, start=0, stop=9223372036854775807, /)\n",
      " |      Return first index of value.\n",
      " |      \n",
      " |      Raises ValueError if the value is not present.\n",
      " |  \n",
      " |  insert(self, index, object, /)\n",
      " |      Insert object before index.\n",
      " |  \n",
      " |  pop(self, index=-1, /)\n",
      " |      Remove and return item at index (default last).\n",
      " |      \n",
      " |      Raises IndexError if list is empty or index is out of range.\n",
      " |  \n",
      " |  remove(self, value, /)\n",
      " |      Remove first occurrence of value.\n",
      " |      \n",
      " |      Raises ValueError if the value is not present.\n",
      " |  \n",
      " |  reverse(self, /)\n",
      " |      Reverse *IN PLACE*.\n",
      " |  \n",
      " |  sort(self, /, *, key=None, reverse=False)\n",
      " |      Sort the list in ascending order and return None.\n",
      " |      \n",
      " |      The sort is in-place (i.e. the list itself is modified) and stable (i.e. the\n",
      " |      order of two equal elements is maintained).\n",
      " |      \n",
      " |      If a key function is given, apply it once to each list item and sort them,\n",
      " |      ascending or descending, according to their function values.\n",
      " |      \n",
      " |      The reverse flag can be set to sort in descending order.\n",
      " |  \n",
      " |  ----------------------------------------------------------------------\n",
      " |  Class methods inherited from builtins.list:\n",
      " |  \n",
      " |  __class_getitem__(...) from builtins.type\n",
      " |      See PEP 585\n",
      " |  \n",
      " |  ----------------------------------------------------------------------\n",
      " |  Static methods inherited from builtins.list:\n",
      " |  \n",
      " |  __new__(*args, **kwargs) from builtins.type\n",
      " |      Create and return a new object.  See help(type) for accurate signature.\n",
      " |  \n",
      " |  ----------------------------------------------------------------------\n",
      " |  Data and other attributes inherited from builtins.list:\n",
      " |  \n",
      " |  __hash__ = None\n",
      "\n",
      "None\n"
     ]
    }
   ],
   "source": [
    "class mylist(list):\n",
    "    pass\n",
    "list1=mylist()\n",
    "\n",
    "print(help(list1))"
   ]
  },
  {
   "cell_type": "markdown",
   "metadata": {},
   "source": [
    "\n",
    "self把这个类付给的实体的名字***，类实例对象的标志\n",
    "\n",
    "这里之后a.的调用时候，self就等于a"
   ]
  },
  {
   "cell_type": "code",
   "execution_count": 14,
   "metadata": {},
   "outputs": [
    {
     "name": "stdout",
     "output_type": "stream",
     "text": [
      "我叫土豆\n"
     ]
    }
   ],
   "source": [
    "\n",
    "class ball:\n",
    "    def setname(self,name):\n",
    "        self.name=name\n",
    "    def speak(self):\n",
    "        print('我叫%s'% self.name)\n",
    "a=ball()\n",
    "a.setname('土豆')\n",
    "a.speak()\n",
    "\n"
   ]
  },
  {
   "cell_type": "markdown",
   "metadata": {},
   "source": [
    "### 魔法方法\n",
    "在某种情况下自动被调用，双下滑线表示"
   ]
  },
  {
   "cell_type": "code",
   "execution_count": 15,
   "metadata": {},
   "outputs": [
    {
     "name": "stdout",
     "output_type": "stream",
     "text": [
      "我叫百灵鸟\n"
     ]
    }
   ],
   "source": [
    "\n",
    "\n",
    "\n",
    "class bird:\n",
    "    def __init__(self,name):\n",
    "        self.name=name#这一句是在\n",
    "    def speak(self):\n",
    "        print('我叫%s'% self.name)\n",
    "b=bird('百灵鸟')\n",
    "b.speak()\n",
    "\n",
    "\n"
   ]
  },
  {
   "cell_type": "markdown",
   "metadata": {},
   "source": [
    "### 共有和私有，\n",
    "python默认的属性和方法都是公有的，可以在变量和函数前加两个下划线变私有\n",
    "\n",
    "他是名字改编了而已，是一种伪私有可以通过函数获取私有变量"
   ]
  },
  {
   "cell_type": "code",
   "execution_count": 16,
   "metadata": {},
   "outputs": [
    {
     "name": "stdout",
     "output_type": "stream",
     "text": [
      "王凯\n",
      "王凯\n"
     ]
    }
   ],
   "source": [
    "\n",
    "\n",
    "class person:\n",
    "    __name='王凯'\n",
    "    def getname(self):\n",
    "                return self.__name\n",
    "person1=person()\n",
    "#两种发法获得伪私有\n",
    "print(person1.getname())\n",
    "print(person1._person__name)\n",
    "\n"
   ]
  },
  {
   "cell_type": "code",
   "execution_count": 17,
   "metadata": {},
   "outputs": [],
   "source": [
    "\n",
    "'''class Rectangle:\n",
    "    length =float(input('长:'))\n",
    "    width = float(input('宽：'))\n",
    "\n",
    "    def setRect(self):\n",
    "        print(\"打印长和宽\")\n",
    "        self.length = length \n",
    "        self.width = width\n",
    "\n",
    "    def getRect(self):\n",
    "        print(\"这个矩形的长是%.2f,宽是%.2f\" % (self.length,self.width))\n",
    "\n",
    "    def getArea(self):\n",
    "        return  self.length * self.width\n",
    "    \n",
    "p = Rectangle()'''\n",
    "\n"
   ]
  },
  {
   "cell_type": "markdown",
   "metadata": {},
   "source": [
    "### 第37讲\n",
    "\n",
    "### 游戏编程：\n",
    "按以下要求定义一个乌龟类和鱼类并尝试编写游戏。（初学者不一定可以完整实现，但请务必先自己动手，你会从中学习到很多知识的^_^）\n",
    "假设游戏场景为范围（x, y）为0<=x<=10，0<=y<=10\n",
    "\n",
    "游戏生成1只乌龟和10条鱼\n",
    "\n",
    "它们的移动方向均随机\n",
    "\n",
    "乌龟的最大移动能力是2（Ta可以随机选择1还是2移动），鱼儿的最大移动能力是1\n",
    "\n",
    "当移动到场景边缘，自动向反方向移动\n",
    "\n",
    "乌龟初始化体力为100（上限）\n",
    "\n",
    "乌龟每移动一次，体力消耗1\n",
    "\n",
    "当乌龟和鱼坐标重叠，乌龟吃掉鱼，乌龟体力增加20\n",
    "\n",
    "鱼暂不计算体力\n",
    "\n",
    "当乌龟体力值为0（挂掉）或者鱼儿的数量为0游戏结束\n"
   ]
  },
  {
   "cell_type": "code",
   "execution_count": 19,
   "metadata": {},
   "outputs": [
    {
     "name": "stdout",
     "output_type": "stream",
     "text": [
      "有一条鱼儿被吃掉了...\n",
      "有一条鱼儿被吃掉了...\n",
      "有一条鱼儿被吃掉了...\n",
      "有一条鱼儿被吃掉了...\n",
      "有一条鱼儿被吃掉了...\n",
      "有一条鱼儿被吃掉了...\n",
      "有一条鱼儿被吃掉了...\n",
      "有一条鱼儿被吃掉了...\n",
      "有一条鱼儿被吃掉了...\n",
      "有一条鱼儿被吃掉了...\n",
      "鱼儿都吃完了，游戏结束！\n"
     ]
    }
   ],
   "source": [
    "\n",
    "import random as r\n",
    "\n",
    "legal_x = [0, 10]\n",
    "legal_y = [0, 10]\n",
    "\n",
    "class Turtle:\n",
    "    def __init__(self):\n",
    "        # 初始体力\n",
    "        self.power = 100\n",
    "        # 初始位置随机\n",
    "        self.x = r.randint(legal_x[0], legal_x[1])\n",
    "        self.y = r.randint(legal_y[0], legal_y[1])\n",
    "\n",
    "    def move(self):\n",
    "        # 随机计算方向并移动到新的位置（x, y）\n",
    "        new_x = self.x + r.choice([1, 2, -1, -2])\n",
    "        new_y = self.y + r.choice([1, 2, -1, -2])\n",
    "        # 检查移动后是否超出场景x轴边界\n",
    "        if new_x < legal_x[0]:\n",
    "            self.x = legal_x[0] - (new_x - legal_x[0])\n",
    "        elif new_x > legal_x[1]:\n",
    "            self.x = legal_x[1] - (new_x - legal_x[1])\n",
    "        else:\n",
    "            self.x = new_x\n",
    "        # 检查移动后是否超出场景y轴边界\n",
    "        if new_y < legal_y[0]:\n",
    "            self.y = legal_y[0] - (new_y - legal_y[0])\n",
    "        elif new_y > legal_y[1]:\n",
    "            self.y = legal_y[1] - (new_y - legal_y[1])\n",
    "        else:\n",
    "            self.y = new_y        \n",
    "        # 体力消耗\n",
    "        self.power -= 1\n",
    "        # 返回移动后的新位置\n",
    "        return (self.x, self.y)\n",
    "\n",
    "    def eat(self):\n",
    "        self.power += 20\n",
    "        if self.power > 100:\n",
    "            self.power = 100\n",
    "\n",
    "class Fish:\n",
    "    def __init__(self):\n",
    "        self.x = r.randint(legal_x[0], legal_x[1])\n",
    "        self.y = r.randint(legal_y[0], legal_y[1])\n",
    "        \n",
    "    def move(self):\n",
    "        # 随机计算方向并移动到新的位置（x, y）\n",
    "        new_x = self.x + r.choice([1, -1])\n",
    "        new_y = self.y + r.choice([1, -1])\n",
    "        # 检查移动后是否超出场景x轴边界\n",
    "        if new_x < legal_x[0]:\n",
    "            self.x = legal_x[0] - (new_x - legal_x[0])\n",
    "        elif new_x > legal_x[1]:\n",
    "            self.x = legal_x[1] - (new_x - legal_x[1])\n",
    "        else:\n",
    "            self.x = new_x\n",
    "        # 检查移动后是否超出场景y轴边界\n",
    "        if new_y < legal_y[0]:\n",
    "            self.y = legal_y[0] - (new_y - legal_y[0])\n",
    "        elif new_y > legal_y[1]:\n",
    "            self.y = legal_y[1] - (new_y - legal_y[1])\n",
    "        else:\n",
    "            self.y = new_y\n",
    "        # 返回移动后的新位置\n",
    "        return (self.x, self.y)\n",
    "\n",
    "turtle = Turtle()\n",
    "fish = []\n",
    "for i in range(10):\n",
    "    new_fish = Fish()\n",
    "    fish.append(new_fish)\n",
    "\n",
    "while True:\n",
    "    if not len(fish):\n",
    "        print(\"鱼儿都吃完了，游戏结束！\")\n",
    "        break\n",
    "    if not turtle.power:\n",
    "        print(\"乌龟体力耗尽，挂掉了！\")\n",
    "        break\n",
    "\n",
    "    pos = turtle.move()\n",
    "    # 在迭代器中删除列表元素是非常危险的，经常会出现意想不到的问题，因为迭代器\n",
    "    #是直接引用列表的数据进行引用这里我们把列表拷贝给迭代器，然后对原列表进行\n",
    "    #删除操作就不会有问题了^_^\n",
    "    for each_fish in fish[:]:\n",
    "        if each_fish.move() == pos:\n",
    "            # 鱼儿被吃掉了\n",
    "            turtle.eat()\n",
    "            fish.remove(each_fish)\n",
    "            print(\"有一条鱼儿被吃掉了...\")\n"
   ]
  }
 ],
 "metadata": {
  "kernelspec": {
   "display_name": "Python 3.10.4 64-bit",
   "language": "python",
   "name": "python3"
  },
  "language_info": {
   "codemirror_mode": {
    "name": "ipython",
    "version": 3
   },
   "file_extension": ".py",
   "mimetype": "text/x-python",
   "name": "python",
   "nbconvert_exporter": "python",
   "pygments_lexer": "ipython3",
   "version": "3.10.4"
  },
  "orig_nbformat": 4,
  "vscode": {
   "interpreter": {
    "hash": "d533ad8ead974ef2863af58c6dd965ec76a73ec9b0d6bfff6efc64af475660a3"
   }
  }
 },
 "nbformat": 4,
 "nbformat_minor": 2
}
