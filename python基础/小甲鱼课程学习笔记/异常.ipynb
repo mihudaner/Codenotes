{
 "cells": [
  {
   "cell_type": "markdown",
   "metadata": {},
   "source": [
    "# 异常处理"
   ]
  },
  {
   "cell_type": "markdown",
   "metadata": {},
   "source": [
    "### raise 主动引出异常\n",
    "\n",
    "\n",
    "- else 不仅可以与if搭配\n",
    "+ else和while 搭配，在完成循环后没有执行break执行else内的语句\n",
    "\n",
    "+ else和try 搭配，在完成内容后没有异常执行else内的语句"
   ]
  },
  {
   "cell_type": "code",
   "execution_count": 1,
   "metadata": {},
   "outputs": [
    {
     "name": "stdout",
     "output_type": "stream",
     "text": [
      "文件出错了吖[Errno 2] No such file or directory: './data/重命名.txt'\n",
      "出错也执行\n"
     ]
    }
   ],
   "source": [
    "\n",
    "\n",
    "try:   \n",
    "    f=open('./data/重命名.txt','r', encoding=\"utf-8\")\n",
    "    print(f.read())\n",
    "    sum =1+'1'\n",
    "    f.close()\n",
    "except OSError as reason:\n",
    "    print(\"文件出错了吖\" +str(reason))\n",
    "except TypeError as reason:\n",
    "    print(\"类型出错了吖\" +str(reason))\n",
    "#except:\n",
    "#    print(\"出错了吖\" )\n",
    "finally:\n",
    "    print('出错也执行')\n",
    "\n"
   ]
  },
  {
   "cell_type": "markdown",
   "metadata": {},
   "source": [
    "###  assert断言 自动崩溃并抛出AssertionError的异常"
   ]
  },
  {
   "cell_type": "code",
   "execution_count": 1,
   "metadata": {},
   "outputs": [
    {
     "ename": "AssertionError",
     "evalue": "",
     "output_type": "error",
     "traceback": [
      "\u001b[1;31m---------------------------------------------------------------------------\u001b[0m",
      "\u001b[1;31mAssertionError\u001b[0m                            Traceback (most recent call last)",
      "\u001b[1;32mc:\\Users\\wangkai\\Desktop\\pythonwork\\小甲鱼课程学习笔记\\异常.ipynb Cell 5\u001b[0m in \u001b[0;36m<cell line: 1>\u001b[1;34m()\u001b[0m\n\u001b[1;32m----> <a href='vscode-notebook-cell:/c%3A/Users/wangkai/Desktop/pythonwork/%E5%B0%8F%E7%94%B2%E9%B1%BC%E8%AF%BE%E7%A8%8B%E5%AD%A6%E4%B9%A0%E7%AC%94%E8%AE%B0/%E5%BC%82%E5%B8%B8.ipynb#ch0000004?line=0'>1</a>\u001b[0m \u001b[39massert\u001b[39;00m \u001b[39m3\u001b[39m\u001b[39m>\u001b[39m\u001b[39m4\u001b[39m\n",
      "\u001b[1;31mAssertionError\u001b[0m: "
     ]
    }
   ],
   "source": [
    "assert 3>4"
   ]
  },
  {
   "cell_type": "code",
   "execution_count": 1,
   "metadata": {},
   "outputs": [
    {
     "name": "stdout",
     "output_type": "stream",
     "text": [
      "404\n",
      "b'<html>\\r\\n<head><title>404 Not Found</title></head>\\r\\n<body bgcolor=\"white\">\\r\\n<center><h1>404 Not Found</h1></center>\\r\\n<hr><center>nginx</center>\\r\\n</body>\\r\\n</html>\\r\\n'\n"
     ]
    }
   ],
   "source": [
    "\n",
    "#异常处理\n",
    "import urllib.error\n",
    "import urllib.request\n",
    "#req = urllib.request.Request('http://www.ooxx-fishc.com')\n",
    "req = urllib.request.Request('http://www.fishc.com/ooxx.html')\n",
    "try:\n",
    "    urllib.request.urlopen(req)\n",
    "\n",
    "except urllib.error.HTTPError as e:\n",
    "    print(e.code)\n",
    "    print(e.read())\n",
    "except urllib.error.URLError as e:\n",
    "    print(e.reason)\n"
   ]
  }
 ],
 "metadata": {
  "kernelspec": {
   "display_name": "Python 3.10.4 64-bit",
   "language": "python",
   "name": "python3"
  },
  "language_info": {
   "codemirror_mode": {
    "name": "ipython",
    "version": 3
   },
   "file_extension": ".py",
   "mimetype": "text/x-python",
   "name": "python",
   "nbconvert_exporter": "python",
   "pygments_lexer": "ipython3",
   "version": "3.10.4"
  },
  "orig_nbformat": 4,
  "vscode": {
   "interpreter": {
    "hash": "d533ad8ead974ef2863af58c6dd965ec76a73ec9b0d6bfff6efc64af475660a3"
   }
  }
 },
 "nbformat": 4,
 "nbformat_minor": 2
}
