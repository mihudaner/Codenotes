{
 "cells": [
  {
   "cell_type": "markdown",
   "metadata": {},
   "source": [
    "# easyui\n"
   ]
  },
  {
   "cell_type": "markdown",
   "metadata": {},
   "source": [
    "### 文本框，按钮选择"
   ]
  },
  {
   "cell_type": "code",
   "execution_count": 1,
   "metadata": {},
   "outputs": [
    {
     "name": "stdout",
     "output_type": "stream",
     "text": [
      "Image file 9.gif does not exist.\n"
     ]
    },
    {
     "data": {
      "text/plain": [
       "'帅'"
      ]
     },
     "execution_count": 1,
     "metadata": {},
     "output_type": "execute_result"
    }
   ],
   "source": [
    "#import easygui\n",
    "#from easygui import *\n",
    "import easygui as g\n",
    "\n",
    "g.msgbox('我爱小甲鱼^_^', '鱼油心声')\n",
    "g.msgbox(\"我一定要学会编程!\", ok_button=\"加油!\")\n",
    "choices = ['愿意', '不愿意', '有钱的时候就愿意']\n",
    "reply = g.choicebox('你愿意购买资源打包支持小甲鱼吗？', choices = choices)\n",
    "g.buttonbox('大家说我长得帅吗？', image='9.gif', choices=('帅', '不帅', '!@#$%'))\n",
    "\n",
    "\n"
   ]
  },
  {
   "cell_type": "markdown",
   "metadata": {},
   "source": [
    "### '选择窗口'"
   ]
  },
  {
   "cell_type": "code",
   "execution_count": null,
   "metadata": {},
   "outputs": [],
   "source": [
    "import easygui as g\n",
    "import os\n",
    "\n",
    "def choice():\n",
    "    '选择窗口'\n",
    "    if g.ccbox(msg='文本',title='标题',choices=('C[o]ntinue', 'C[a]ncel'),\\\n",
    "        image=None, default_choice='C[o]ntinue', cancel_choice='C[a]ncel'):\n",
    "        #default_choice返回1，cancel_choice返回0\n",
    "            pass        \n",
    "    else: \n",
    "            return 1\n",
    "\n",
    "x=choice()\n",
    "\n"
   ]
  },
  {
   "cell_type": "markdown",
   "metadata": {},
   "source": [
    "### 猜字游戏改进"
   ]
  },
  {
   "cell_type": "code",
   "execution_count": null,
   "metadata": {},
   "outputs": [],
   "source": [
    "import easygui as g\n",
    "import os\n",
    "import random\n",
    "g.msgbox(' '*30+\"小游戏的第一个界面\")\n",
    "secret = random.randint(1,10)\n",
    "msg=\"猜一猜随机的数字是几\"\n",
    "title=\"猜字游戏\"\n",
    "guess = g.integerbox(msg,title,lowerbound=1,upperbound=10)\n",
    "\n",
    "while True:\n",
    "    if guess==secret:\n",
    "        g.msgbox('恭喜啊，猜对了')\n",
    "        break\n",
    "    else:\n",
    "        if guess>secret:\n",
    "            g.msgbox(\"猜大啦\")\n",
    "        else:\n",
    "            g.msgbox(\"猜小啦\")\n",
    "        guess = g.integerbox(msg,title,lowerbound=1,upperbound=10)\n"
   ]
  },
  {
   "cell_type": "markdown",
   "metadata": {},
   "source": [
    "### 登记界面"
   ]
  },
  {
   "cell_type": "code",
   "execution_count": null,
   "metadata": {},
   "outputs": [],
   "source": [
    "\n",
    "import easygui as g\n",
    "msg= \"填写一下信息\"\n",
    "title=\"账号中心\"\n",
    "fieldnames=[\"*用户名\",'*姓名','电话','手机','QQ','email']\n",
    "fieldvalues=[]\n",
    "fieldvalues=g.multenterbox(msg,title,fieldnames)\n",
    "\n",
    "while 1:\n",
    "    if fieldvalues == None:\n",
    "        break\n",
    "    errmsg=''\n",
    "    for i in range(len(fieldnames)):\n",
    "        option = fieldnames[i].strip()#移除前后的空格\n",
    "        if fieldvalues[i].strip() =='' and option[0]=='*':\n",
    "            errmsg+=f'{fieldnames[i]}为必填项\\n\\n'\n",
    "    if errmsg=='':\n",
    "        break\n",
    "    fieldvalues=g.multenterbox(msg,title,fieldnames)\n",
    "dictmsg=dict(zip(fieldnames,fieldvalues))\n",
    "print(\"用户资料如下：【%s】\"%str(dictmsg))\n"
   ]
  },
  {
   "cell_type": "markdown",
   "metadata": {},
   "source": [
    "### 提供一个文件夹浏览框，让用户选择需要打开的文本文件，打开并且文件显示内容"
   ]
  },
  {
   "cell_type": "code",
   "execution_count": null,
   "metadata": {},
   "outputs": [],
   "source": [
    "\n",
    "import easygui as g\n",
    "import os\n",
    "\n",
    "file_path = g.fileopenbox(default=\"./data/*.txt\")\n",
    "with open(file_path,'r',encoding='utf-8') as old_f:\n",
    "    title = os.path.basename(file_path)\n",
    "    msg = '文件【%s】的内容如下：'%title\n",
    "    text = old_f.read()\n",
    "    text_after=g.textbox(msg, title, text)\n",
    "\n",
    "if text!=text_after:\n",
    "    choice = g.buttonbox('检测到修改是否修改','警告',('覆盖','放弃','另存为'))\n",
    "    if choice =='覆盖':\n",
    "       with open(file_path,'r',encoding='utf-8') as old_f:\n",
    "           old_f.write()\n",
    "    if choice =='放弃':\n",
    "        pass\n",
    "    if choice =='另存为':\n",
    "        another_path=g.fileopenbox(default=\"./data/*.txt\")\n",
    "        if os.path.splitext(another_path)[1]!='.txt':\n",
    "              another_path+='.txt'\n",
    "        with open(another_path,'w',encoding='utf-8') as new_file:\n",
    "            new_file.write(text_after)\n"
   ]
  }
 ],
 "metadata": {
  "kernelspec": {
   "display_name": "Python 3.10.4 64-bit",
   "language": "python",
   "name": "python3"
  },
  "language_info": {
   "codemirror_mode": {
    "name": "ipython",
    "version": 3
   },
   "file_extension": ".py",
   "mimetype": "text/x-python",
   "name": "python",
   "nbconvert_exporter": "python",
   "pygments_lexer": "ipython3",
   "version": "3.10.4"
  },
  "orig_nbformat": 4,
  "vscode": {
   "interpreter": {
    "hash": "d533ad8ead974ef2863af58c6dd965ec76a73ec9b0d6bfff6efc64af475660a3"
   }
  }
 },
 "nbformat": 4,
 "nbformat_minor": 2
}
