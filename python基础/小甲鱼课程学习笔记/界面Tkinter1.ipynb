{
 "cells": [
  {
   "cell_type": "markdown",
   "metadata": {},
   "source": [
    "# Tkinter1"
   ]
  },
  {
   "cell_type": "markdown",
   "metadata": {},
   "source": [
    "### 顶层窗口和按钮 \n",
    "root = tk.Tk() \n",
    "\n",
    "tk.Button"
   ]
  },
  {
   "cell_type": "code",
   "execution_count": 1,
   "metadata": {},
   "outputs": [
    {
     "name": "stdout",
     "output_type": "stream",
     "text": [
      "hi\n"
     ]
    }
   ],
   "source": [
    "#import tkinter as tk\n",
    "#tkinter的UI线程与异步线程   见google的问题收藏夹\n",
    "\n",
    "from tkinter import *  #不用再加tk前缀\n",
    "\n",
    "class APP:\n",
    "    def __init__(self,master):\n",
    "        frame = Frame(master)\n",
    "        frame.pack(side=LEFT,padx=10,pady=10)#自动调节尺寸，位置\n",
    "\n",
    "        self.hi_there = Button(frame,text='打招呼',bg='black',fg='white',command = self.say_hi)\n",
    "        self.hi_there.pack()\n",
    "        \n",
    "    def say_hi(self):\n",
    "        print('hi')\n",
    "\n",
    "\n",
    "root = Tk()#app是顶层窗口实例\n",
    "app=APP(root)\n",
    "\n",
    "root.mainloop()#主事件循环，进入后由tkint接管进程\n",
    "\n"
   ]
  },
  {
   "cell_type": "markdown",
   "metadata": {},
   "source": [
    "### button如何传递参数问题"
   ]
  },
  {
   "cell_type": "code",
   "execution_count": 1,
   "metadata": {},
   "outputs": [
    {
     "name": "stdout",
     "output_type": "stream",
     "text": [
      "传递参数成功\n",
      "传递参数成功\n",
      "传递参数成功\n"
     ]
    }
   ],
   "source": [
    "from tkinter import *  #不用再加tk前缀\n",
    "\n",
    "class APP:\n",
    "    def __init__(self,master):\n",
    "        frame = Frame(master)\n",
    "        frame.pack(side=LEFT,padx=10,pady=10)#自动调节尺寸，位置\n",
    "\n",
    "        self.hi_there = Button(frame,text='打招呼',bg='black',fg='white',command = lambda:self.say_hi('传递参数成功'))\n",
    "        self.hi_there.pack()\n",
    "        \n",
    "    def say_hi(self,strx):\n",
    "        print(strx)\n",
    "\n",
    "\n",
    "root = Tk()#app是顶层窗口实例\n",
    "app=APP(root)\n",
    "\n",
    "root.mainloop()#主事件循环，进入后由tkint接管进程\n"
   ]
  },
  {
   "cell_type": "markdown",
   "metadata": {},
   "source": [
    "### Frame Label 框架 文本框"
   ]
  },
  {
   "cell_type": "code",
   "execution_count": null,
   "metadata": {},
   "outputs": [],
   "source": [
    "\n",
    "from tkinter import *  #不用再加tk前缀\n",
    "#例2 \n",
    "root = Tk()\n",
    "textLabel =Label(root,text = '二次元动漫头像')\n",
    "textLabel.pack()\n",
    "\n",
    "photo = PhotoImage(file = '9.gif')#只能是gif\n",
    "imgLabe =Label(root,text='学python',\n",
    "            image=photo,\n",
    "            justify=LEFT,\n",
    "            compound=CENTER,\n",
    "            font =('楷体',20),\n",
    "            fg='black')\n",
    "imgLabe.pack()\n",
    "\n",
    "mainloop()\n"
   ]
  },
  {
   "cell_type": "markdown",
   "metadata": {},
   "source": [
    "Frame Label var.set 可变文本框"
   ]
  },
  {
   "cell_type": "code",
   "execution_count": 23,
   "metadata": {},
   "outputs": [],
   "source": [
    "from tkinter import *  #不用再加tk前缀\n",
    "#例3 \n",
    "\n",
    "def call():\n",
    "    var .set('感谢你的陪伴')\n",
    "    \n",
    "root = Tk()\n",
    "frame1 = Frame(root)\n",
    "frame1.pack(expand=True, fill=BOTH)\n",
    "frame2 = Frame(root)\n",
    "frame2.pack(expand=True, fill=BOTH)\n",
    "var = StringVar()\n",
    "var.set('今天又是美好的一天')\n",
    "\n",
    "textLabel =Label(frame1,textvariable = var,justify=LEFT)\n",
    "textLabel.pack(side=LEFT)\n",
    "\n",
    "photo = PhotoImage(file = 'C:/Users/wangkai/Desktop/pythonwork/data/8.gif')#只能是gif\n",
    "imgLabal=Label(frame1,image=photo)\n",
    "imgLabal.pack(side=RIGHT)\n",
    "#不知道为什么总是报错，而且只能识别gif\n",
    "\n",
    "mainloop()"
   ]
  },
  {
   "cell_type": "markdown",
   "metadata": {},
   "source": [
    "***Label 显示图片  相机例程，用到的是已经有label对象了，然后配置label的img***"
   ]
  },
  {
   "cell_type": "code",
   "execution_count": 29,
   "metadata": {},
   "outputs": [
    {
     "name": "stderr",
     "output_type": "stream",
     "text": [
      "C:\\Users\\wangkai\\AppData\\Local\\Temp\\ipykernel_26896\\2618314460.py:21: DeprecationWarning: ANTIALIAS is deprecated and will be removed in Pillow 10 (2023-07-01). Use Resampling.LANCZOS instead.\n",
      "  img2 = Image.fromarray(img1).resize((500, 500), Image.ANTIALIAS)\n"
     ]
    },
    {
     "ename": "",
     "evalue": "",
     "output_type": "error",
     "traceback": [
      "\u001b[1;31mThe Kernel crashed while executing code in the the current cell or a previous cell. Please review the code in the cell(s) to identify a possible cause of the failure. Click <a href='https://aka.ms/vscodeJupyterKernelCrash'>here</a> for more info. View Jupyter <a href='command:jupyter.viewOutput'>log</a> for further details."
     ]
    }
   ],
   "source": [
    "from tkinter import *  #不用再加tk前缀\n",
    "from PIL import Image,ImageTk\n",
    "import cv2\n",
    "#例3 \n",
    "\n",
    "def call():\n",
    "    var .set('感谢你的陪伴')\n",
    "    \n",
    "root = Tk()\n",
    "frame1 = Frame(root)\n",
    "frame1.pack(expand=True, fill=BOTH)\n",
    "\n",
    "var = StringVar()\n",
    "var.set('今天又是美好的一天')\n",
    "\n",
    "textLabel =Label(frame1,textvariable = var,justify=LEFT)\n",
    "textLabel.pack(side=LEFT)\n",
    "\n",
    "\n",
    "img1=cv2.imread(r'C:/Users/wangkai/Desktop/pythonwork/data/1.jpg')\n",
    "img2 = Image.fromarray(img1).resize((500, 500), Image.ANTIALIAS)\n",
    "\n",
    "\n",
    "imgLabal=Label(frame1)\n",
    "imgLabal.pack(side=RIGHT)\n",
    "photo = ImageTk.PhotoImage(image=img2, master=root)#ImageTk.PhotoImage有别上一格的tkinter的photoimage\n",
    "imgLabal.imgtk =photo      \n",
    "imgLabal.config(image=photo)\n",
    "root .obr = photo\n",
    "\n",
    "mainloop()\n",
    "#不知道为什么总是报错，而且只能识别gif"
   ]
  },
  {
   "cell_type": "markdown",
   "metadata": {},
   "source": [
    "### Checkbutton单选择框"
   ]
  },
  {
   "cell_type": "code",
   "execution_count": 4,
   "metadata": {},
   "outputs": [],
   "source": [
    "\n",
    "#例4 \n",
    "\n",
    "root = Tk()\n",
    "\n",
    "v=IntVar()\n",
    "\n",
    "c=Checkbutton(root,text='测试一下',variable=v)\n",
    "c.pack(anchor = W)\n",
    "d=Checkbutton(root,text='测试一下',variable=v)\n",
    "d.pack(anchor = W)\n",
    "l= Label(root,textvariable=v)\n",
    "l.pack()\n",
    "mainloop()\n"
   ]
  },
  {
   "cell_type": "markdown",
   "metadata": {},
   "source": [
    "###  Radiobutton多选择框"
   ]
  },
  {
   "cell_type": "code",
   "execution_count": null,
   "metadata": {},
   "outputs": [],
   "source": [
    "\n",
    "#例5\n",
    "\n",
    "root = Tk()\n",
    "\n",
    "group=LabelFrame(root,text='最好的脚本语言',padx=5,pady=5)\n",
    "group.pack(padx=10,pady=10)\n",
    "v=IntVar()\n",
    "Radiobutton(root,text='one',variable=v,value=1,indicatoron=False).pack(fill=X)\n",
    "Radiobutton(root,text='two',variable=v,value=2).pack(anchor=W)\n",
    "Radiobutton(group,text='three',variable=v,value=3).pack(anchor=W)\n",
    "Radiobutton(group,text='four',variable=v,value=4).pack(anchor=W)\n",
    "mainloop()\n"
   ]
  },
  {
   "cell_type": "markdown",
   "metadata": {},
   "source": [
    "###  Entry输入框"
   ]
  },
  {
   "cell_type": "code",
   "execution_count": null,
   "metadata": {},
   "outputs": [],
   "source": [
    "\n",
    "#例6 \n",
    "\n",
    "root = Tk()\n",
    "\n",
    "e=Entry(root)\n",
    "e.pack(padx=20,pady=20)\n",
    "e.delete(0,END)\n",
    "e.insert(0,'乌拉~~~')\n",
    "\n",
    "mainloop()"
   ]
  },
  {
   "cell_type": "markdown",
   "metadata": {},
   "source": [
    "### grid网格   command响应"
   ]
  },
  {
   "cell_type": "code",
   "execution_count": null,
   "metadata": {},
   "outputs": [],
   "source": [
    "\n",
    "#例6  \n",
    "\n",
    "root = Tk()\n",
    "Label(root,text='作品：').grid(row=0,column=0)\n",
    "Label(root,text='作者：').grid(row=1,column=0)\n",
    "\n",
    "e1 = Entry(root)\n",
    "e2 = Entry(root,show='*')\n",
    "e1.grid(row=0,column=1,padx=10,pady=5)\n",
    "e2.grid(row=1,column=1,padx=10,pady=5) \n",
    "\n",
    "def show():\n",
    "    print('作品：%s'%e1.get())\n",
    "    print('作者：%s'%e2.get())\n",
    "\n",
    "    \n",
    "Button(root,text='获取信息',width = 10 ,command = show)\\\n",
    "    .grid(row=3,column=0,sticky=W,padx=10,pady=5)\n",
    "Button(root,text='退出',width = 10 ,command = root.quit)\\\n",
    "    .grid(row=3,column=2,sticky=E,padx=10,pady=5)\n",
    "\n",
    "mainloop()\n"
   ]
  },
  {
   "cell_type": "markdown",
   "metadata": {},
   "source": [
    "### 数据变化响应 鼠标移出文本框响应 和 StringVar()\n",
    "validate validatecommand"
   ]
  },
  {
   "cell_type": "code",
   "execution_count": 4,
   "metadata": {},
   "outputs": [
    {
     "name": "stdout",
     "output_type": "stream",
     "text": [
      "error\n",
      "test2ing\n"
     ]
    }
   ],
   "source": [
    "\n",
    "#例7  \n",
    "\n",
    "master =Tk()\n",
    "\n",
    "def test1():\n",
    "    if e1.get()=='小甲鱼':\n",
    "        print('true')\n",
    "    else:\n",
    "        print('error')\n",
    "        e1.delete(0,END)\n",
    "        return False\n",
    "    \n",
    "def test2():\n",
    "    #test返回false时候会被调用\n",
    "    print('test2ing')\n",
    "    return True\n",
    "v=StringVar()\n",
    "\n",
    "e1=Entry(master,textvariable=v,validate='focusout'\\\n",
    "        ,validatecommand=test1,invalidcommand=test2)\n",
    "e2=Entry(master)\n",
    "e1.pack(padx=10,pady=5)\n",
    "e2.pack(padx=10,pady=5)\n",
    "\n",
    "l= Label(master,textvariable=v)#必须用StringVar,str显示不出来\n",
    "l.pack(padx=10,pady=5)\n",
    "\n",
    "mainloop()\n",
    "\n"
   ]
  },
  {
   "cell_type": "markdown",
   "metadata": {},
   "source": [
    "### 移除响应的参数传递\n",
    "validatecommand=(testCMD,'%P','%v','%W')"
   ]
  },
  {
   "cell_type": "code",
   "execution_count": 3,
   "metadata": {},
   "outputs": [
    {
     "name": "stdout",
     "output_type": "stream",
     "text": [
      "error\n",
      "xiaojiayu focusout .!entry\n"
     ]
    }
   ],
   "source": [
    "\n",
    "#例7  \n",
    "\n",
    "master =Tk()\n",
    "\n",
    "def test(content,reason,name):\n",
    "    if e1.get()=='小甲鱼':\n",
    "        print('true')\n",
    "        print(content,reason,name)\n",
    "    else:\n",
    "        print('error')\n",
    "        print(content,reason,name)\n",
    "        e1.delete(0,END)\n",
    "        return False\n",
    "    \n",
    "v=StringVar()\n",
    "testCMD =master.register(test)\n",
    "\n",
    "e1=Entry(master,textvariable=v,validate='focusout'\\\n",
    "        ,validatecommand=(testCMD,'%P','%v','%W'))\n",
    "e2=Entry(master)\n",
    "e1.pack(padx=10,pady=5)\n",
    "e2.pack(padx=10,pady=5)\n",
    "\n",
    "l= Label(master,textvariable=v)#必须用StringVar,str显示不出来\n",
    "l.pack(padx=10,pady=5)\n",
    "\n",
    "mainloop()\n",
    "\n"
   ]
  },
  {
   "cell_type": "code",
   "execution_count": 7,
   "metadata": {},
   "outputs": [],
   "source": [
    "\n",
    "\n",
    "import tkinter as tk\n",
    "root = tk.Tk()#app是顶层窗口实例\n",
    "panel = Label(root)\n",
    "panel.place(x=300, y=10,height=400,width=400)\n",
    "mainloop()\n"
   ]
  }
 ],
 "metadata": {
  "kernelspec": {
   "display_name": "Python 3.10.4 64-bit",
   "language": "python",
   "name": "python3"
  },
  "language_info": {
   "codemirror_mode": {
    "name": "ipython",
    "version": 3
   },
   "file_extension": ".py",
   "mimetype": "text/x-python",
   "name": "python",
   "nbconvert_exporter": "python",
   "pygments_lexer": "ipython3",
   "version": "3.10.4"
  },
  "orig_nbformat": 4,
  "vscode": {
   "interpreter": {
    "hash": "d533ad8ead974ef2863af58c6dd965ec76a73ec9b0d6bfff6efc64af475660a3"
   }
  }
 },
 "nbformat": 4,
 "nbformat_minor": 2
}
