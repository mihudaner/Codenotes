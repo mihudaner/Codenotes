{
 "cells": [
  {
   "cell_type": "markdown",
   "metadata": {},
   "source": [
    "### uincode"
   ]
  },
  {
   "cell_type": "code",
   "execution_count": 5,
   "metadata": {},
   "outputs": [
    {
     "name": "stdout",
     "output_type": "stream",
     "text": [
      "Æ\n",
      "Æ\n",
      "\\u00c6\n",
      "\\u00c6\n"
     ]
    }
   ],
   "source": [
    "print(\"\\u00c6\")\n",
    "\n",
    "print('''\\u00c6''')\n",
    "\n",
    "print('''\\\\u00c6''')\n",
    "\n",
    "print(r'''\\u00c6''')\n",
    "\n"
   ]
  },
  {
   "cell_type": "markdown",
   "metadata": {},
   "source": [
    "bool(finlse)布尔类型\n",
    "\n",
    "***and or 可以对字符串和数值操作***  如果都非0，and 算到最后输出后，or输出前算到第一个非0\n",
    "\n",
    "条件表达式 ***if  elif***  \n",
    "\n",
    "除了break还有***continue（结束本轮循环）***\n",
    "\n",
    "for i in \"fish\"\n"
   ]
  },
  {
   "cell_type": "code",
   "execution_count": 7,
   "metadata": {},
   "outputs": [
    {
     "name": "stdout",
     "output_type": "stream",
     "text": [
      "5\n",
      "7\n",
      "9\n",
      "wg\n"
     ]
    }
   ],
   "source": [
    "\n",
    "for i in range(5,10,2):\n",
    "    print(i) #有步长\n",
    "\n",
    "print('wg')\n"
   ]
  },
  {
   "cell_type": "markdown",
   "metadata": {},
   "source": [
    "### 列表的增删改查\n",
    "\n",
    "+ 变量[2:5:2] 一个列表\n",
    "+ ***len 取长度***\n",
    "\n",
    "- 列表的增删改查，切片的概念\n",
    "- 增 var.append(),可改     变量.extend(可迭代对象)\n",
    "- 插 var.insert(位置，值)\n",
    "- 删 var.remove(值)  变量.pop(位置) .clear\n",
    "- 改 var.sort()  .reverse()排序==sort(reverse=Ture)\n",
    "- 查 var.index()\n",
    "\n",
    "+ 列表支持加乘的\n",
    "+ 列表嵌套  元素也是列表[[1, 2, 3], [8, 4, 5]]\n",
    "\n",
    "- 列表的复制可能只是地址的引用，拷贝才是复制,二维列表拷贝也不行，copy只是!!!!!!!!!!!!!!\n",
    "- 拷贝最外层，不能浅拷贝，要深拷贝copy\n",
    "\n",
    "+ s[4:]=[5,6,7]等同s.extend([5,6,7])   也可以用加法操作同类型"
   ]
  },
  {
   "cell_type": "code",
   "execution_count": 1,
   "metadata": {},
   "outputs": [
    {
     "name": "stdout",
     "output_type": "stream",
     "text": [
      "['小甲鱼', '黑夜', '迷途']\n",
      "小甲鱼 88\n",
      "黑夜 90\n",
      "迷途 85\n",
      "怡静 90\n",
      "秋舞斜阳 88\n"
     ]
    }
   ],
   "source": [
    "\n",
    "#列表增加元素 append()、extend() 和 insert()。\n",
    "#append() 方法是将参数作为一个元素增加到列表的末尾。\n",
    "#extend() 方法则是将参数作为一个列表去扩展列表的末尾。\n",
    "#name.insert(2, 's')\n",
    "\n",
    "#插入和打印列表\n",
    "member = ['小甲鱼', '黑夜', '迷途', '怡静', '秋舞斜阳']\n",
    "member.insert(1, 88)\n",
    "member.insert(3, 90)\n",
    "member.insert(5, 85)\n",
    "member.insert(7, 90)\n",
    "member.append(88)\n",
    "print(member[0:6:2])\n",
    "for each in range(len(member)):\n",
    "    if each%2==0:\n",
    "        print(member[each],member[each+1])\n"
   ]
  },
  {
   "cell_type": "markdown",
   "metadata": {},
   "source": [
    "### 列表索引\n",
    "\n",
    "***list1[2:5]是不包含第5个元素的（因为 5-2==3，只有三个元素，只有第2，3，4）***\n",
    "\n",
    "正常索引是从左到右索引，负数索引是从右到左。步长可以是负数，改变方向\n",
    "\n",
    "列表的复制可能只是地址的引用，拷贝才是复制,二维列表也不行 !!!!!!!!!!!!!!"
   ]
  },
  {
   "cell_type": "code",
   "execution_count": 8,
   "metadata": {},
   "outputs": [
    {
     "name": "stdout",
     "output_type": "stream",
     "text": [
      "[2, 9, 7]\n"
     ]
    }
   ],
   "source": [
    "\n",
    "list1 = [1, 3, 2, 9, 7, 8]\n",
    "print(list1[2:5])"
   ]
  },
  {
   "cell_type": "code",
   "execution_count": 11,
   "metadata": {},
   "outputs": [
    {
     "name": "stdout",
     "output_type": "stream",
     "text": [
      "[1, 2, 6, 4, 5]\n",
      "[1, 2, 6, 4, 5]\n",
      "[6]\n",
      "[1, 2, 6, 4, 5]\n"
     ]
    }
   ],
   "source": [
    "old = [1, 2, 3, 4, 5]\n",
    "new = old#浅拷贝，会影响\n",
    "old[2] = 6\n",
    "print(old)\n",
    "print(new)\n",
    "\n",
    "old=[6]\n",
    "print(old)\n",
    "print(new)"
   ]
  },
  {
   "cell_type": "markdown",
   "metadata": {},
   "source": [
    "### 列表递推式\n"
   ]
  },
  {
   "cell_type": "code",
   "execution_count": 13,
   "metadata": {},
   "outputs": [
    {
     "data": {
      "text/plain": [
       "[0, 1, 4, 9, 16, 25, 36, 49, 64, 81]"
      ]
     },
     "execution_count": 13,
     "metadata": {},
     "output_type": "execute_result"
    }
   ],
   "source": [
    "\n",
    "[i*i for i in range(10)]\n"
   ]
  },
  {
   "cell_type": "markdown",
   "metadata": {},
   "source": [
    "-  方法1：list1 = [(x, y) for x in range(10) for y in range(10) if x%2==0 if y%2!=0]\n",
    "-  方法2：两个循环"
   ]
  },
  {
   "cell_type": "code",
   "execution_count": 12,
   "metadata": {},
   "outputs": [
    {
     "name": "stdout",
     "output_type": "stream",
     "text": [
      "[(0, 1), (0, 3), (0, 5), (0, 7), (0, 9), (2, 1), (2, 3), (2, 5), (2, 7), (2, 9), (4, 1), (4, 3), (4, 5), (4, 7), (4, 9), (6, 1), (6, 3), (6, 5), (6, 7), (6, 9), (8, 1), (8, 3), (8, 5), (8, 7), (8, 9)]\n"
     ]
    }
   ],
   "source": [
    "\n",
    "list1 = [(x, y) for x in range(10) for y in range(10) if x%2==0 if y%2!=0]\n",
    "list1 = []\n",
    "for x in range(10):\n",
    "    for y in range(10):\n",
    "        if x%2 == 0:\n",
    "            if y%2 != 0:\n",
    "                list1.append((x, y))\n",
    "print(list1)\n"
   ]
  },
  {
   "cell_type": "markdown",
   "metadata": {},
   "source": [
    "### 列表的zip和zip*"
   ]
  },
  {
   "cell_type": "code",
   "execution_count": 4,
   "metadata": {},
   "outputs": [
    {
     "name": "stdout",
     "output_type": "stream",
     "text": [
      "(1, 4)\n",
      "(2, 5)\n",
      "(3, 6)\n",
      "((1, 2),)\n",
      "((3, 4),)\n",
      "((5, 6),)\n"
     ]
    }
   ],
   "source": [
    "a = [1,2,3]\n",
    "b = [4,5,6]\n",
    "c = zip(a,b)\n",
    "for i in c:\n",
    "    print(i)\n",
    "\n",
    "x = [(1,2),(3,4),(5,6)]\n",
    "y = zip(*[x])\n",
    "for i in y:\n",
    "    print(i)"
   ]
  },
  {
   "cell_type": "code",
   "execution_count": 2,
   "metadata": {},
   "outputs": [],
   "source": [
    "x = [[1,2,3],[4,5,6],[7,8,9]]"
   ]
  },
  {
   "cell_type": "code",
   "execution_count": 3,
   "metadata": {},
   "outputs": [
    {
     "name": "stdout",
     "output_type": "stream",
     "text": [
      "2\n",
      "4\n",
      "6\n",
      "8\n",
      "10\n",
      "12\n",
      "14\n",
      "16\n",
      "18\n"
     ]
    }
   ],
   "source": [
    "for i in x:\n",
    "    for j in i:\n",
    "        j *= 2\n",
    "        print(j)"
   ]
  },
  {
   "cell_type": "code",
   "execution_count": null,
   "metadata": {},
   "outputs": [],
   "source": []
  }
 ],
 "metadata": {
  "kernelspec": {
   "display_name": "Python 3.10.4 64-bit",
   "language": "python",
   "name": "python3"
  },
  "language_info": {
   "codemirror_mode": {
    "name": "ipython",
    "version": 3
   },
   "file_extension": ".py",
   "mimetype": "text/x-python",
   "name": "python",
   "nbconvert_exporter": "python",
   "pygments_lexer": "ipython3",
   "version": "3.10.4"
  },
  "orig_nbformat": 4,
  "vscode": {
   "interpreter": {
    "hash": "d533ad8ead974ef2863af58c6dd965ec76a73ec9b0d6bfff6efc64af475660a3"
   }
  }
 },
 "nbformat": 4,
 "nbformat_minor": 2
}
