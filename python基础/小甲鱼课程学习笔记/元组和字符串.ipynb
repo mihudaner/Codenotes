{
 "cells": [
  {
   "cell_type": "markdown",
   "metadata": {},
   "source": [
    "# 元组"
   ]
  },
  {
   "cell_type": "markdown",
   "metadata": {},
   "source": [
    "元组 rhyme 不可修改 也可切片步进 count index\n",
    "***解包  t=(134,456,452)  x,y,z=t  同样适合列表，字符串***\n",
    "append extend count remove pop sort insert copy clear reverse index"
   ]
  },
  {
   "cell_type": "code",
   "execution_count": 1,
   "metadata": {},
   "outputs": [
    {
     "data": {
      "text/plain": [
       "0"
      ]
     },
     "execution_count": 1,
     "metadata": {},
     "output_type": "execute_result"
    }
   ],
   "source": [
    "\n",
    "x, y, z = 1, 2, 3\n",
    "h = x, y, z\n",
    "tuple1 = (x**2 for x in range(10))\n",
    "tuple2 = [x**2 for x in range(10)]\n",
    "type(x)\n",
    "type(h)\n",
    "type(tuple2)\n",
    "tuple1.__next__()\n"
   ]
  },
  {
   "cell_type": "markdown",
   "metadata": {},
   "source": [
    "### 字符串"
   ]
  },
  {
   "cell_type": "code",
   "execution_count": 6,
   "metadata": {},
   "outputs": [
    {
     "name": "stdout",
     "output_type": "stream",
     "text": [
      "i recoge\n",
      "ize {x}\n",
      "i recoge\\nize {x}\n",
      "i recoge\n",
      "ize go on\n",
      "wda232\n",
      "wdaggmmll\n",
      "\n",
      "asdas\n",
      "sadas\n",
      "asdas\n",
      "\n"
     ]
    }
   ],
   "source": [
    "\n",
    "x=\"go on\"\n",
    "print(\"i recoge\\nize {x}\")\n",
    "print(r\"i recoge\\nize {x}\")  #r表示原始字符，但不能以\\结尾，\n",
    "print(f\"i recoge\\nize {x}\")  #f可以变量传入字符串,.format()\n",
    "print(\"wda{0}{1}{0}\".format(2,3))\n",
    "x={'i':'gg','j':'mm','k':'ll'}\n",
    "print(\"wda{i}{j}{k}\".format(**x))\n",
    "\n",
    "print('''\n",
    "asdas\n",
    "sadas\n",
    "asdas\n",
    "''')"
   ]
  },
  {
   "cell_type": "markdown",
   "metadata": {},
   "source": [
    "### 字符串 format\n",
    "str.format(变量1，变量2)\n",
    "\n",
    "{:{fill}{align}{width}.{prec}{ty}}"
   ]
  },
  {
   "cell_type": "code",
   "execution_count": 4,
   "metadata": {},
   "outputs": [
    {
     "name": "stdout",
     "output_type": "stream",
     "text": [
      "   250    \n",
      "       250250       \n",
      "       250\n",
      ">>>>>>>250\n",
      ">>>>>>>250\n",
      "250.165\n",
      "0b1010000\n",
      "3.14\n",
      "+++3.14+++\n",
      "+++3.14+++\n",
      "wk12\n",
      "Pi=3.14\n"
     ]
    }
   ],
   "source": [
    "\n",
    "\n",
    "x=\"{:^10}\".format(250)\n",
    "print(x)\n",
    "x=\"{1:>10}\"\"{0:<10}\".format(250,250)\n",
    "print(x)\n",
    "x=\"{:>10}\".format(250) \n",
    "print(x)\n",
    "x=\"{:>=10}\".format(250)\n",
    "print(x)\n",
    "x=\"{:>=10}\".format(250)\n",
    "print(x)\n",
    "x=\"{:.6}\".format(250.16515) # 都类似%d操作\n",
    "print(x)\n",
    "x=\"{:#b}\".format(80)\n",
    "print(x)\n",
    "x=\"{:.{prec}f}\".format(3.1415,prec=2)\n",
    "print(x)\n",
    "x=\"{:{fill}{align}{width}.{prec}{ty}}\".format(3.1415,fill='+',align='^',width=10,prec=3,ty='g')\n",
    "print(x)\n",
    "#>>>'+++3.14+++'\n",
    "x=f\"{3.1415:+^10.3g}\"\n",
    "print(x)\n",
    "#>>>'+++3.14+++'\n",
    "x='wk%o'%10\n",
    "print(x)\n",
    "#>>>'wk12'\n",
    "x=\"Pi=\"+f\"{3.141592:.2f}\"\n",
    "print(x)\n",
    "#>>>'Pi=3.14'\n",
    "\n",
    "str=\"{:{fill}{align}{width}.{prec}{ty}}\".format(3.1415,fill='+',align='^',width=10,prec=3,ty='g')\n",
    "#>>>'+++3.14+++'\n",
    "str=f\"{3.1415:+^10.3g}\"\n",
    "#>>>'+++3.14+++'\n",
    "\"Pi=\"+f\"{3.141592:.2f}\"\n",
    "#>>>'Pi=3.14'"
   ]
  },
  {
   "cell_type": "markdown",
   "metadata": {},
   "source": [
    "### 字符串 %"
   ]
  },
  {
   "cell_type": "code",
   "execution_count": 5,
   "metadata": {},
   "outputs": [
    {
     "name": "stdout",
     "output_type": "stream",
     "text": [
      "wk555wk\n"
     ]
    }
   ],
   "source": [
    "x=555\n",
    "x=\"wk%dwk\"%x\n",
    "print(x)\n",
    "\n",
    "\n",
    "str='wk%o'%10\n",
    "#>>>'wk12'\n"
   ]
  },
  {
   "cell_type": "code",
   "execution_count": null,
   "metadata": {},
   "outputs": [],
   "source": [
    "\n",
    "temp = ('小甲鱼', '黑夜', '迷途', '小布丁')\n",
    "# 如果我想在“黑夜”和“迷途”之间加入“怡静”，我们应该：\n",
    "temp = temp[:2] + ('怡静',) + temp[2:]\n",
    "print(temp)\n",
    "type(temp)\n"
   ]
  },
  {
   "cell_type": "code",
   "execution_count": null,
   "metadata": {},
   "outputs": [],
   "source": [
    "\n",
    "file1=open(r'C:\\windows\\1.txt','r')\n",
    "str1 = '<a href=\"http://www.fishc.com/dvd\" target=\"_blank\">鱼C资源打包</a>'\n",
    "str1[20:-36]\n",
    "#>>>'fishc'\n"
   ]
  },
  {
   "cell_type": "code",
   "execution_count": null,
   "metadata": {},
   "outputs": [],
   "source": [
    "\n",
    "#密码安全性检查\n",
    "\n",
    "symbols = r'''`!@#$%^&*()_+-=/*{}[]\\|'\";:/?,.<>'''\n",
    "chars = 'abcdefghijklmnopqrstuvwxyzABCDEFGHIJKLMNOPQRSTUVWXYZ'\n",
    "nums = '0123456789'\n",
    "\n",
    "passwd = input('请输入需要检查的密码组合：')\n",
    "length = len(passwd)\n",
    "\n",
    "while (passwd.isspace() or length == 0) :\n",
    "    passwd = input(\"您输入的密码为空（或空格），请重新输入：\")\n",
    "    length = len(passwd)\n",
    "\n",
    "if length <= 8:\n",
    "    flag_len = 1\n",
    "elif 8 < length < 16:\n",
    "    flag_len = 2\n",
    "else:\n",
    "    flag_len = 3\n",
    "\n",
    "flag_con = 0\n",
    "\n",
    "# 判断是否包含特殊字符\n",
    "for each in passwd:\n",
    "    if each in symbols:\n",
    "        flag_con += 1\n",
    "        break\n",
    "\n",
    "# 判断是否包含字母\n",
    "for each in passwd:\n",
    "    if each in chars:\n",
    "        flag_con += 1\n",
    "        break\n",
    "\n",
    "# 判断是否包含数字\n",
    "for each in passwd:\n",
    "    if each in nums:\n",
    "        flag_con += 1\n",
    "        break   \n",
    "\n",
    "# 打印结果\n",
    "while 1 :\n",
    "    print(\"您的密码安全级别评定为：\", end='') #print 未结束\n",
    "    if flag_len == 1 or flag_con == 1 :\n",
    "        print(\"低\")\n",
    "    elif flag_len == 3 and flag_con == 3 and (passwd[0] in chars):\n",
    "        print(\"高\")\n",
    "        print(\"请继续保持\")\n",
    "        break\n",
    "    else:\n",
    "        print(\"中\")\n",
    "\n",
    "    print(\"请按以下方式提升您的密码安全级别：\\n\\\n",
    "    \\t1. 密码必须由数字、字母及特殊字符三种组合\\n\\\n",
    "    \\t2. 密码只能由字母开头\\n\\\n",
    "    \\t3. 密码长度不能低于16位\")\n",
    "    break\n",
    "\n",
    "\n"
   ]
  },
  {
   "cell_type": "code",
   "execution_count": null,
   "metadata": {},
   "outputs": [],
   "source": [
    "\n",
    "#写一个进制转换工具\n",
    "'''\n",
    "while 1:\n",
    "    num=input (\"请输入一个整数：\")\n",
    "    if num!=\"Q\":\n",
    "        num=int(num)\n",
    "        print(\"{}{:o}\".format('八进制=',num))\n",
    "        print(\"八进制=%o\"%num)\n",
    "    else:\n",
    "        break\n",
    "    \n",
    "'''\n"
   ]
  }
 ],
 "metadata": {
  "kernelspec": {
   "display_name": "Python 3.10.4 64-bit",
   "language": "python",
   "name": "python3"
  },
  "language_info": {
   "codemirror_mode": {
    "name": "ipython",
    "version": 3
   },
   "file_extension": ".py",
   "mimetype": "text/x-python",
   "name": "python",
   "nbconvert_exporter": "python",
   "pygments_lexer": "ipython3",
   "version": "3.10.4"
  },
  "orig_nbformat": 4,
  "vscode": {
   "interpreter": {
    "hash": "d533ad8ead974ef2863af58c6dd965ec76a73ec9b0d6bfff6efc64af475660a3"
   }
  }
 },
 "nbformat": 4,
 "nbformat_minor": 2
}
