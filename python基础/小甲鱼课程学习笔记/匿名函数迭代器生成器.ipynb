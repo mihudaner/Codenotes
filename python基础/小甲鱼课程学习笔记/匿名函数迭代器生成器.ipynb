{
 "cells": [
  {
   "cell_type": "markdown",
   "metadata": {},
   "source": [
    "# 匿名函数 迭代生成器"
   ]
  },
  {
   "cell_type": "markdown",
   "metadata": {},
   "source": [
    "### enumerate()"
   ]
  },
  {
   "cell_type": "code",
   "execution_count": 3,
   "metadata": {},
   "outputs": [
    {
     "name": "stdout",
     "output_type": "stream",
     "text": [
      "i=2\n",
      "data=0\n",
      "i=3\n",
      "data=1\n",
      "i=4\n",
      "data=2\n",
      "i=5\n",
      "data=3\n",
      "i=6\n",
      "data=4\n",
      "i=7\n",
      "data=5\n",
      "i=8\n",
      "data=6\n",
      "i=9\n",
      "data=7\n",
      "i=10\n",
      "data=8\n",
      "i=11\n",
      "data=9\n"
     ]
    }
   ],
   "source": [
    "for i, data in enumerate(range(10), 2):\n",
    "    print(\"i=\"+str(i))\n",
    "    print(\"data=\"+str(data))"
   ]
  },
  {
   "cell_type": "markdown",
   "metadata": {},
   "source": [
    "### lambda函数表达式"
   ]
  },
  {
   "cell_type": "code",
   "execution_count": 8,
   "metadata": {},
   "outputs": [
    {
     "name": "stdout",
     "output_type": "stream",
     "text": [
      "9\n",
      "4\n"
     ]
    }
   ],
   "source": [
    "\n",
    "squre =lambda y:y*y\n",
    "print(squre(3))\n",
    "\n",
    "y=[lambda x:x*x,2,3]\n",
    "print(y[0](y[1]))\n"
   ]
  },
  {
   "cell_type": "code",
   "execution_count": null,
   "metadata": {},
   "outputs": [],
   "source": [
    "f=lambda x,y=3:x*y\n",
    "res=f(3)\n",
    "#等同如下\n",
    "def fun_a(x,y=3):\n",
    "    return x*y\n",
    "res=fun_a(3)"
   ]
  },
  {
   "cell_type": "code",
   "execution_count": null,
   "metadata": {},
   "outputs": [],
   "source": [
    "list_a=list(filter (lambda x:not(x%3),range(1,100)))\n",
    "list_b=list(i for i in range(1,100) if i%3==0)\n",
    "print(list_a)\n",
    "print(list_b)\n",
    "\n",
    "list_c=list(map(lambda x,y:[x,y],[1,2,3],[4,5,6]))#map函数输入得是一个可迭代对象\n",
    "print(list_c)"
   ]
  },
  {
   "cell_type": "markdown",
   "metadata": {},
   "source": [
    "### 迭代器"
   ]
  },
  {
   "cell_type": "code",
   "execution_count": 4,
   "metadata": {},
   "outputs": [
    {
     "name": "stdout",
     "output_type": "stream",
     "text": [
      "[112, 115, 125, 114, 109]\n",
      "[1, 3, 5, 7, 9]\n"
     ]
    }
   ],
   "source": [
    "\n",
    "mapped = map(lambda x : ord(x)+10,'fishc')\n",
    "#map生成一个迭代器，第一个参数是一个函数的应用，第二个参数是一个个的输入\n",
    "list1=list(mapped)\n",
    "list2=list(filter(lambda x:x%2,range(10)))\n",
    "\n",
    "print(list1)\n",
    "print(list2)"
   ]
  },
  {
   "cell_type": "code",
   "execution_count": 5,
   "metadata": {},
   "outputs": [
    {
     "name": "stdout",
     "output_type": "stream",
     "text": [
      "<map object at 0x000001CB348919C0>\n"
     ]
    },
    {
     "data": {
      "text/plain": [
       "115"
      ]
     },
     "execution_count": 5,
     "metadata": {},
     "output_type": "execute_result"
    }
   ],
   "source": [
    "mapped = map(lambda x : ord(x)+10,'fishc')\n",
    "print(mapped)\n",
    "next(mapped)\n",
    "next(mapped)"
   ]
  },
  {
   "cell_type": "markdown",
   "metadata": {},
   "source": [
    "### iter"
   ]
  },
  {
   "cell_type": "code",
   "execution_count": 12,
   "metadata": {},
   "outputs": [
    {
     "name": "stdout",
     "output_type": "stream",
     "text": [
      "2\n",
      "3\n",
      "5\n",
      "6\n",
      "4\n",
      "6\n",
      "5\n",
      "6\n",
      "12\n",
      "2\n",
      "3\n"
     ]
    }
   ],
   "source": [
    "\n",
    "#迭代器\n",
    "\n",
    "list2=[1,2,3,5,6,4,6,5,6,12,2,3]\n",
    "L=iter(list2)\n",
    "next(L)\n",
    "#for语句实现\n",
    "while True:\n",
    "    try:\n",
    "        each = next(L)\n",
    "    except StopIteration:\n",
    "        break\n",
    "    print(each)"
   ]
  },
  {
   "cell_type": "markdown",
   "metadata": {},
   "source": [
    "### 生成器"
   ]
  },
  {
   "cell_type": "code",
   "execution_count": 7,
   "metadata": {},
   "outputs": [
    {
     "name": "stdout",
     "output_type": "stream",
     "text": [
      "0\n",
      "1\n",
      "2\n",
      "3\n",
      "4\n",
      "5\n",
      "<generator object counter at 0x000001CB349004A0>\n",
      "<function x at 0x000001CB3482EB00>\n",
      "<generator object <genexpr> at 0x000001CB34900190>\n"
     ]
    }
   ],
   "source": [
    "\n",
    "def counter():\n",
    "\n",
    "    i=0\n",
    "    while i <= 5:\n",
    "        yield i\n",
    "        i+=1\n",
    "def x():\n",
    "    pass\n",
    "\n",
    "for i in counter():\n",
    "    print(i)\n",
    "    \n",
    "c=counter()\n",
    "next(c)\n",
    "\n",
    "#回顾列表推导式和生成器表达式（生成器）\n",
    "gener=(i**2 for i in range(10))\n",
    "next(gener)\n",
    "\n",
    "print(c)\n",
    "print(x)\n",
    "print(gener)"
   ]
  },
  {
   "cell_type": "markdown",
   "metadata": {},
   "source": [
    "生成器 一但一个函数中含有yield语句，说明这个函数被定义为生成器，返回了yield后面的数值\n",
    "\n",
    "与return不同，返回数据后会暂时挂起"
   ]
  },
  {
   "cell_type": "code",
   "execution_count": 10,
   "metadata": {},
   "outputs": [
    {
     "name": "stdout",
     "output_type": "stream",
     "text": [
      "生成器执行\n",
      "1\n",
      "2\n"
     ]
    }
   ],
   "source": [
    "\n",
    "\n",
    "def mygen():\n",
    "    '''<generator object mtgen at 0x000001C5490C1A80>'''\n",
    "    print('生成器执行')\n",
    "    yield 1\n",
    "    yield 2\n",
    "\n",
    "for i in mygen():\n",
    "    print(i)\n",
    "    \n"
   ]
  },
  {
   "cell_type": "markdown",
   "metadata": {},
   "source": [
    "斐波那契数列"
   ]
  },
  {
   "cell_type": "code",
   "execution_count": 11,
   "metadata": {},
   "outputs": [
    {
     "name": "stdout",
     "output_type": "stream",
     "text": [
      "1\n",
      "1\n",
      "2\n",
      "3\n",
      "5\n",
      "8\n",
      "13\n",
      "21\n",
      "34\n",
      "55\n",
      "89\n",
      "144\n",
      "233\n",
      "377\n",
      "610\n",
      "987\n",
      "1597\n",
      "2584\n",
      "4181\n",
      "6765\n"
     ]
    }
   ],
   "source": [
    "def Fibss():\n",
    "    a=0\n",
    "    b=1\n",
    "    while True:\n",
    "        a,b=b,a+b\n",
    "        yield a\n",
    "\n",
    "fibss2=Fibss()\n",
    "for i in fibss2:\n",
    "    if i<10000:\n",
    "        print(i)\n",
    "    else:\n",
    "        break\n"
   ]
  },
  {
   "cell_type": "markdown",
   "metadata": {},
   "source": [
    "Next同样可以对元组，列表使用"
   ]
  },
  {
   "cell_type": "code",
   "execution_count": null,
   "metadata": {},
   "outputs": [],
   "source": [
    "\n",
    "x=(print(t) for t in range(4))\n",
    "next(x)\n",
    "0\n",
    "next(x)\n",
    "1\n",
    "next(x)\n",
    "2\n",
    "next(x)\n",
    "3"
   ]
  },
  {
   "cell_type": "markdown",
   "metadata": {},
   "source": [
    "\n",
    "### 生成斐波那契数列\n",
    "在yield back1这里返回一个值且参数保留，下次调用继续\n",
    "   "
   ]
  },
  {
   "cell_type": "code",
   "execution_count": null,
   "metadata": {},
   "outputs": [],
   "source": [
    "\n",
    "\n",
    "def fib():\n",
    "    \n",
    "    back1,back2=0,1\n",
    "    while True:      \n",
    "        yield back1\n",
    "        back1,back2=back2,back1+back2\n",
    "f=fib()\n",
    "next(f)\n"
   ]
  },
  {
   "cell_type": "markdown",
   "metadata": {},
   "source": [
    "\n",
    "### 递归\n",
    "函数调用自己，满足调节就结束循环。迭代：使用计数器结束循环\n"
   ]
  },
  {
   "cell_type": "code",
   "execution_count": null,
   "metadata": {},
   "outputs": [],
   "source": [
    "\n",
    "\n",
    "def func(i):\n",
    "\n",
    "    if i >0:\n",
    "        print(i)\n",
    "        i-=1\n",
    "        func(i)\n",
    "func(10) \n",
    "\n",
    "\n",
    "def feb(n):\n",
    "    \"\"\"\n",
    "    #递归实现斐波那契数列\n",
    "    \"\"\"  \n",
    "    if n==1 or n==2:\n",
    "        return 1\n",
    "    else:\n",
    "        return feb(n-1)+feb(n-2)\n",
    "feb(20)#如果数字设置的过大，这里一次次调用函数会返回的很慢\n",
    "\n",
    "\n",
    "def hanoi(n,x,y,z):\n",
    "    \"\"\"\n",
    "    #汉诺塔\n",
    "    \"\"\"\n",
    "    if n==1:\n",
    "        print(x,'->',z)\n",
    "    else:\n",
    "        hanoi(n-1,x,z,y)#将x上的n-1个金片从x移动到y\n",
    "        print(x,'->',z)#将最大的金片从x移动到z\n",
    "        hanoi(n-1,y,x,z)#将x上的n-1个金片从y移动到z\n",
    "hanoi(2,'第一个柱子','第二个柱子','第三个柱子')    \n",
    "\n"
   ]
  },
  {
   "cell_type": "code",
   "execution_count": null,
   "metadata": {},
   "outputs": [],
   "source": [
    "#第23，24讲\n",
    "\n",
    "def dec2(dec):\n",
    "    '递归法转换二进制'\n",
    "    result = ''\n",
    "    if dec:\n",
    "        result=dec2(dec//2)+str(dec%2)\n",
    "        return result\n",
    "    else:\n",
    "        return result\n",
    "print(dec2(9))\n",
    "\n",
    "\n",
    "\n",
    "def get_digit(num):\n",
    "    '递归法把数字得每一位放进列表'\n",
    "    result =[]\n",
    "    if num:\n",
    "        result=get_digit(num//10)+list([num%10])\n",
    "        return result\n",
    "    else:\n",
    "        return []\n",
    "print(get_digit(1524))\n",
    "\n",
    "\n",
    "\n",
    "def is_para(n,start,end):\n",
    "    '递归法求回文数'\n",
    "    if start>end:\n",
    "        return 1\n",
    "    else:\n",
    "        return is_para(n,start+1,end-1) if n[start]==n[end]  else 0\n",
    "    \n",
    "strx='上海自来水来自海上'\n",
    "length=len(strx)-1\n",
    "if is_para(strx,0,length):\n",
    "      print(f'{strx}是回文字符')\n",
    "else:\n",
    "    print(f'{strx}不是回文字符')\n"
   ]
  },
  {
   "cell_type": "markdown",
   "metadata": {},
   "source": [
    "### 函数文档和注释"
   ]
  },
  {
   "cell_type": "code",
   "execution_count": null,
   "metadata": {},
   "outputs": [],
   "source": [
    "\n",
    "def is_para(x:list[int],n:int=3)->list:\n",
    "    '函数文档:上一行表示作者希望输入和输出都是字符串'\n",
    "    return x*n    \n",
    "print(is_para([1,2,3,],3))\n",
    "\n",
    "\n",
    "#函数内省\n",
    "print(is_para.__annotations__)\n",
    "print(is_para.__doc__)\n",
    "print(help(is_para))\n",
    "\n",
    "\n",
    "#functools\n",
    "def add(x,y):\n",
    "    return x+y\n",
    "import functools\n",
    "functools.reduce(add,[1,2,3,4,5,6])#第二个输入是一个可迭代对象\n",
    "#等同\n",
    "add(add(add(add(add(1,2),3),4),5),6)\n",
    "functools.reduce(lambda x,y:x*y, range(1,11))\n",
    "\n",
    "#偏函数\n",
    "square= functools.partial(pow,exp=2)\n",
    "square(4)\n",
    "\n"
   ]
  }
 ],
 "metadata": {
  "kernelspec": {
   "display_name": "Python 3.10.4 64-bit",
   "language": "python",
   "name": "python3"
  },
  "language_info": {
   "codemirror_mode": {
    "name": "ipython",
    "version": 3
   },
   "file_extension": ".py",
   "mimetype": "text/x-python",
   "name": "python",
   "nbconvert_exporter": "python",
   "pygments_lexer": "ipython3",
   "version": "3.10.4"
  },
  "orig_nbformat": 4,
  "vscode": {
   "interpreter": {
    "hash": "d533ad8ead974ef2863af58c6dd965ec76a73ec9b0d6bfff6efc64af475660a3"
   }
  }
 },
 "nbformat": 4,
 "nbformat_minor": 2
}
