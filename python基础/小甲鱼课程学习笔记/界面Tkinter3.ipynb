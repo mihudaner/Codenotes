{
 "cells": [
  {
   "cell_type": "markdown",
   "metadata": {},
   "source": [
    "# Tkiner3"
   ]
  },
  {
   "cell_type": "markdown",
   "metadata": {},
   "source": [
    "###  返回点击位置"
   ]
  },
  {
   "cell_type": "code",
   "execution_count": null,
   "metadata": {},
   "outputs": [],
   "source": [
    "\n",
    "#例1  返回点击位置\n",
    "from tkinter import *  \n",
    "root = Tk()\n",
    "def call(event):\n",
    "    print('位置',event.x,event.y)#窗口的位置  event.x_root 屏幕的位置\n",
    "\n",
    "frame =Frame(root,width=200,height=200)\n",
    "frame.bind('<Button-1>',call)\n",
    "frame.pack()\n",
    "\n",
    "mainloop()\n",
    "\n"
   ]
  },
  {
   "cell_type": "markdown",
   "metadata": {},
   "source": [
    "###  键盘的值"
   ]
  },
  {
   "cell_type": "code",
   "execution_count": null,
   "metadata": {},
   "outputs": [],
   "source": [
    "\n",
    "\n",
    "\n",
    "#例2 键盘的值\n",
    "\n",
    "from tkinter import *  \n",
    "root = Tk()\n",
    "def call(event):\n",
    "    print(event.char)\n",
    "\n",
    "frame =Frame(root,width=200,height=200)\n",
    "frame.bind('<Key>',call)\n",
    "frame.focus_set()\n",
    "frame.pack()\n",
    "\n",
    "mainloop()\n",
    "\n"
   ]
  },
  {
   "cell_type": "markdown",
   "metadata": {},
   "source": [
    "### 鼠标移动"
   ]
  },
  {
   "cell_type": "code",
   "execution_count": null,
   "metadata": {},
   "outputs": [],
   "source": [
    "\n",
    "\n",
    "\n",
    "#例3 鼠标移动\n",
    "\n",
    "from tkinter import *  \n",
    "root = Tk()\n",
    "def call(event):\n",
    "    print('位置',event.x,event.y)\n",
    "\n",
    "frame =Frame(root,width=200,height=200)\n",
    "frame.bind('<Motion>',call)\n",
    "frame.focus_set()\n",
    "frame.pack()\n",
    "\n",
    "mainloop()\n",
    "\n"
   ]
  },
  {
   "cell_type": "markdown",
   "metadata": {},
   "source": [
    "###   事件序列 <modifier-type-detail>  modifier-组合键    type-事件类型  detail-具体描述"
   ]
  },
  {
   "cell_type": "code",
   "execution_count": null,
   "metadata": {},
   "outputs": [],
   "source": [
    "\n",
    "\n",
    "#例4 事件序列 <modifier-type-detail>  modifier-组合键    type-事件类型  detail-具体描述\n",
    "from tkinter import *  \n",
    "root = Tk()\n",
    "def call(event):\n",
    "    print('位置',event.x,event.y)\n",
    "\n",
    "frame =Frame(root,width=200,height=200)\n",
    "frame.bind('<Control-Shift-Button-1>',call)\n",
    "frame.focus_set()\n",
    "frame.pack()\n"
   ]
  },
  {
   "cell_type": "markdown",
   "metadata": {},
   "source": [
    "### Message文本"
   ]
  },
  {
   "cell_type": "code",
   "execution_count": null,
   "metadata": {},
   "outputs": [],
   "source": [
    "\n",
    "\n",
    "\n",
    "#例5  Message文本\n",
    "\n",
    "from tkinter import *  \n",
    "root = Tk()\n",
    "\n",
    "w1 = Message(root,text='消息\\n文本1',width=200)\n",
    "w1.pack()\n",
    "\n",
    "w2 = Message(root,text='消息文本1',width=200)\n",
    "w2.pack()\n",
    "\n",
    "mainloop()\n",
    "\n",
    "\n"
   ]
  },
  {
   "cell_type": "markdown",
   "metadata": {},
   "source": [
    "### Spinbox数字滑块"
   ]
  },
  {
   "cell_type": "code",
   "execution_count": null,
   "metadata": {},
   "outputs": [],
   "source": [
    "\n",
    "\n",
    "#例6 Spinbox数字滑块\n",
    "\n",
    "from tkinter import *  \n",
    "root = Tk()\n",
    "\n",
    "w1 = Spinbox(root,from_=0,to=10)\n",
    "\n",
    "w1 = Spinbox(root,values=('one','two','three','four','five',))\n",
    "w1.pack()\n",
    "\n",
    "\n",
    "mainloop()\n",
    "\n"
   ]
  },
  {
   "cell_type": "markdown",
   "metadata": {},
   "source": [
    "### PanedWindow()可拖动窗格"
   ]
  },
  {
   "cell_type": "code",
   "execution_count": null,
   "metadata": {},
   "outputs": [],
   "source": [
    "\n",
    "\n",
    "#例7  PanedWindow()可拖动窗格\n",
    "\n",
    "from tkinter import *  \n",
    "m1 =  PanedWindow(showhandle=True,sashrelief=SUNKEN)\n",
    "m1.pack()\n",
    "\n",
    "\n",
    "left=Label(m1,text ='left pane')\n",
    "m1.add(left)\n",
    "\n",
    "m2 =  PanedWindow(orient=VERTICAL,showhandle=True,sashrelief=SUNKEN)\n",
    "m1.add(m2)\n",
    "\n",
    "\n",
    "top=Label(m2,text ='top pane')\n",
    "m2.add(top)\n",
    "\n",
    "botton=Label(m2,text ='botton pane')\n",
    "m2.add(botton)\n",
    "\n",
    "\n",
    "mainloop()\n",
    "\n"
   ]
  },
  {
   "cell_type": "markdown",
   "metadata": {},
   "source": [
    "### Toplevel 顶层窗口"
   ]
  },
  {
   "cell_type": "code",
   "execution_count": null,
   "metadata": {},
   "outputs": [],
   "source": [
    "\n",
    "\n",
    "#例7  Toplevel 顶层窗口\n",
    "\n",
    "from tkinter import *  \n",
    "root=Tk()\n",
    "\n",
    "def create():\n",
    "    top=Toplevel(padx=10,pady=10)\n",
    "    top.attributes('-alpha',0.5)\n",
    "    top.title('wk demo')\n",
    "\n",
    "    msg=Message(top,text='l love mm')\n",
    "    msg.pack()\n",
    "\n",
    "Button(root,text='创建窗口',command=create).pack()\n",
    "\n",
    "\n",
    "mainloop()\n",
    "\n"
   ]
  },
  {
   "cell_type": "markdown",
   "metadata": {},
   "source": [
    "### 布局管理器\n",
    "-  grid网格（***使用的最多）\n",
    "-  pack按顺序添加组\n",
    "-  place自定义大小和位置\n"
   ]
  },
  {
   "cell_type": "code",
   "execution_count": null,
   "metadata": {},
   "outputs": [],
   "source": [
    "\n",
    "#例8 布局管理器  pack按顺序添加组件  grid网格（***使用的最多）   place自定义大小和位置\n",
    "#               不要混合使用\n",
    "\n",
    "\n",
    "from tkinter import *  \n",
    "root=Tk()\n",
    "\n",
    "listbox=Listbox(root)\n",
    "listbox.pack(fill=BOTH,expand=True)#填充附组件，expand是拉伸保持\n",
    "\n",
    "for i in range(10):\n",
    "    listbox.insert(END,str(i))\n",
    "\n",
    "Button(root,text='创建窗口',command=create).pack()\n",
    "\n",
    "\n",
    "mainloop()\n",
    "\n"
   ]
  },
  {
   "cell_type": "markdown",
   "metadata": {},
   "source": [
    "### pack默认纵向填充，改为横向填充"
   ]
  },
  {
   "cell_type": "code",
   "execution_count": null,
   "metadata": {},
   "outputs": [],
   "source": [
    "\n",
    "\n",
    "#例9   pack默认纵向填充，改为横向填充\n",
    "\n",
    "from tkinter import *  \n",
    "root=Tk()\n",
    "\n",
    "Label(root,text ='red',bg='red',fg='white').pack(side=LEFT,fill=BOTH,expand=True)\n",
    "Label(root,text ='green',bg='green',fg='white').pack(side=LEFT,fill=BOTH,expand=True)\n",
    "Label(root,text ='blue',bg='blue',fg='white').pack(side=LEFT,fill=BOTH,expand=True)\n",
    "\n",
    "\n",
    "mainloop()\n",
    "\n"
   ]
  },
  {
   "cell_type": "markdown",
   "metadata": {},
   "source": [
    "###  grid()  columnspan可以跨多行多列"
   ]
  },
  {
   "cell_type": "code",
   "execution_count": null,
   "metadata": {},
   "outputs": [],
   "source": [
    "\n",
    "#例10  grid()  columnspan可以跨多行多列\n",
    "\n",
    "from tkinter import *  \n",
    "root=Tk()\n",
    "\n",
    "Label(root,text ='用户名').grid(row=1,column=0,sticky=W)\n",
    "Label(root,text ='密码').grid(row=1,column=2,sticky=W)\n",
    "\n",
    "\n",
    "Entry(root).grid(row=1,column=1)\n",
    "Entry(root,show='*').grid(row=1,column=3)\n",
    "\n",
    "photo = PhotoImage(file='8.gif')\n",
    "Label(root,image=photo).grid(row=2,column=0,columnspan=4)\n",
    "\n",
    "mainloop()\n",
    "\n"
   ]
  },
  {
   "cell_type": "markdown",
   "metadata": {},
   "source": [
    "### place()自定义大小和位置"
   ]
  },
  {
   "cell_type": "code",
   "execution_count": null,
   "metadata": {},
   "outputs": [],
   "source": [
    "\n",
    "#例11  place()自定义大小和位置\n",
    "\n",
    "from tkinter import *  \n",
    "root=Tk()\n",
    "\n",
    "photo = PhotoImage(file='8.gif')\n",
    "\n",
    "Label(root,image=photo).place(relx=0.5,rely=0.5,relheight=0.75,relwidth=0.75,anchor=CENTER)\n",
    "#place_forget()删除（隐藏）\n",
    "#Label(root,image=photo).pack(fill=BOTH,expand=True)\n",
    "\n",
    "def call():\n",
    "    print('正中靶心')\n",
    "\n",
    "Button(root,text='点我',command = call).place(relx=0.5,rely=0.5,anchor=CENTER)\n",
    "\n",
    "mainloop()\n"
   ]
  },
  {
   "cell_type": "markdown",
   "metadata": {},
   "source": [
    "###  messagebox 对话框"
   ]
  },
  {
   "cell_type": "code",
   "execution_count": null,
   "metadata": {},
   "outputs": [],
   "source": [
    "\n",
    "#例12  messagebox 对话框\n",
    "\n",
    "from tkinter import *  \n",
    "from tkinter import messagebox\n",
    "\n",
    "messagebox.askokcancel('wk demo','发射吗？')\n",
    "\n",
    "\n"
   ]
  },
  {
   "cell_type": "markdown",
   "metadata": {},
   "source": [
    "### filedialog 文件对话框"
   ]
  },
  {
   "cell_type": "code",
   "execution_count": null,
   "metadata": {},
   "outputs": [],
   "source": [
    "\n",
    "\n",
    "#例13  filedialog 文件对话框\n",
    "\n",
    "from tkinter import *  \n",
    "from tkinter import filedialog\n",
    "\n",
    "root = Tk()\n",
    "\n",
    "def call():\n",
    "    filename= filedialog.askopenfilename(defaultextension='.py',\\\n",
    "            filetype=[('PNG','.png'),('JPG','.JPG'),('Python','.py')])\n",
    "    #defaultextention='.py' 指定文件后缀\n",
    "    #filetype               是选件类型\n",
    "    print(filename)\n",
    "\n",
    "Button(root,text='打开文件',command=call).pack()\n",
    "\n",
    "mainloop()\n",
    "\n",
    "\n"
   ]
  },
  {
   "cell_type": "markdown",
   "metadata": {},
   "source": [
    "### colorchooser(颜色选择对话框)"
   ]
  },
  {
   "cell_type": "code",
   "execution_count": 2,
   "metadata": {},
   "outputs": [
    {
     "name": "stdout",
     "output_type": "stream",
     "text": [
      ".\n",
      "(None, None)\n"
     ]
    }
   ],
   "source": [
    "#例14 colorchooser(颜色选择对话框)\n",
    "\n",
    "from tkinter import colorchooser\n",
    "from tkinter import * \n",
    "root = Tk()\n",
    "print(str(root))\n",
    "\n",
    "def call():\n",
    "    filename= colorchooser.askcolor() \n",
    "    print(filename)\n",
    "\n",
    "Button(root,text='选择颜色',command=call).pack()\n",
    "\n",
    "mainloop()\n",
    "\n"
   ]
  }
 ],
 "metadata": {
  "kernelspec": {
   "display_name": "Python 3.10.4 64-bit",
   "language": "python",
   "name": "python3"
  },
  "language_info": {
   "codemirror_mode": {
    "name": "ipython",
    "version": 3
   },
   "file_extension": ".py",
   "mimetype": "text/x-python",
   "name": "python",
   "nbconvert_exporter": "python",
   "pygments_lexer": "ipython3",
   "version": "3.10.4"
  },
  "orig_nbformat": 4,
  "vscode": {
   "interpreter": {
    "hash": "d533ad8ead974ef2863af58c6dd965ec76a73ec9b0d6bfff6efc64af475660a3"
   }
  }
 },
 "nbformat": 4,
 "nbformat_minor": 2
}
