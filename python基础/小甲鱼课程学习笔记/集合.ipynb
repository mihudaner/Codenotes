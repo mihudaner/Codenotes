{
 "cells": [
  {
   "cell_type": "markdown",
   "metadata": {},
   "source": [
    "# 集合"
   ]
  },
  {
   "cell_type": "code",
   "execution_count": 1,
   "metadata": {},
   "outputs": [
    {
     "data": {
      "text/plain": [
       "set"
      ]
     },
     "execution_count": 1,
     "metadata": {},
     "output_type": "execute_result"
    }
   ],
   "source": [
    "type({})\n",
    "#>>> <class 'dict'>\n",
    "type({'one'})\n",
    "#>>> <class 'set'> 集合"
   ]
  },
  {
   "cell_type": "code",
   "execution_count": null,
   "metadata": {},
   "outputs": [],
   "source": [
    "\n",
    "{s for s in \"fishc\"}\n",
    "#>>>{'c', 'h', 's', 'f', 'i'} 集合推导式的结果看出集合是无序的，还是独一无二的\n",
    "set(\"fishc\") #无法用下表索引\n",
    "set([1,1,2,3,5])#用集合的方式去重\n",
    "\n",
    "s=[1,1,2,3,5]\n",
    "len(s)==len(set(s))\n",
    "#>>>False 说明s内存在重复\n",
    "t = s.copy()#浅拷贝 互不影响\n",
    "\n",
    "s=set('fishc')\n",
    "s.isdisjoint(set('python')) \n",
    "#是否有相同元素，这里都有h，所以返回false\n",
    "s.isdisjoint('JAVA')\n",
    "#与fishc好不相干，所以返回TURE\n"
   ]
  },
  {
   "cell_type": "markdown",
   "metadata": {},
   "source": [
    "### 集合操作函数"
   ]
  },
  {
   "cell_type": "code",
   "execution_count": null,
   "metadata": {},
   "outputs": [],
   "source": [
    "\n",
    "s.issubset('fishc.com.cn')#是否是子集\n",
    "s.issuperset('fis')#是否是超集\n",
    "s.union({1,2,3})#并集\n",
    "s.union({1,2,3},'alter')#并集\n",
    "s.intersection(\"fisgg\")#交集\n",
    "s.intersection(\"fisgg\",'ssss')#交集\n",
    "s.difference(\"fis\")#差集，在该集合但不在别的集合\n",
    "s.difference(\"fis\",'gucci')#差集，在该集合但不在别的集合\n",
    "s.symmetric_difference('python')#对称差集，两个集合的并集但是去除掉共有元素\n",
    "\n",
    "\n",
    "#除此之外Python提供许多的符号运算方便使用\n",
    "s<=set('fishc.com')#检测子集\n",
    "s>=set('fishc.com')#检测超集\n",
    "s|set('egg')#并集\n",
    "s&set('http')#交集 \n",
    "s-set('http')#差集\n",
    "s^set('python')#对称差集\n",
    "#使用运算符的话必须都要使用的类型是集合\n",
    "\n",
    "t=frozenset('fishc')#不可变集合\n",
    "\n",
    "s.update([1,1],'23')\n",
    "s.intersection_update(\"fisgg\")#交集\n",
    "s.difference_update(\"f\")#差集\n",
    "s.symmetric_difference_update('python')#对称差集\n",
    "#前面介绍的方法外加update可以修改s的内容\n",
    "\n",
    "s.add('45')\n",
    "#!与update有很大不同，这里的45字符串会被看作一个整体\n",
    "s.remove('q')#会抛出异常\n",
    "s.discard('q')#静默处理\n",
    "s.pop()\n",
    "s.clear()\n",
    "\n"
   ]
  },
  {
   "cell_type": "markdown",
   "metadata": {},
   "source": [
    "字典和集合的元素是可哈希的(不可变的)，可变对象没有哈希值"
   ]
  },
  {
   "cell_type": "code",
   "execution_count": 2,
   "metadata": {},
   "outputs": [],
   "source": [
    "\n",
    "hash(1)\n",
    "hash(1.001)\n",
    "#由于集合元素需要可哈希的，但集合是可变的，不可哈希的，所以不能直接嵌套集合\n",
    "#集合嵌套就需要frozenset\n",
    "\n",
    "s={1,1.0}\n",
    "#>>>s={1}这就是因为1和1.0的哈希值是一样的，所以只存入一个1\n",
    "\n"
   ]
  }
 ],
 "metadata": {
  "kernelspec": {
   "display_name": "Python 3.10.4 64-bit",
   "language": "python",
   "name": "python3"
  },
  "language_info": {
   "codemirror_mode": {
    "name": "ipython",
    "version": 3
   },
   "file_extension": ".py",
   "mimetype": "text/x-python",
   "name": "python",
   "nbconvert_exporter": "python",
   "pygments_lexer": "ipython3",
   "version": "3.10.4"
  },
  "orig_nbformat": 4,
  "vscode": {
   "interpreter": {
    "hash": "d533ad8ead974ef2863af58c6dd965ec76a73ec9b0d6bfff6efc64af475660a3"
   }
  }
 },
 "nbformat": 4,
 "nbformat_minor": 2
}
