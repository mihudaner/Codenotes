{
 "cells": [
  {
   "cell_type": "code",
   "execution_count": null,
   "metadata": {},
   "outputs": [],
   "source": [
    "import time\n",
    "import serial\n",
    "\n",
    "#RS232指令，使用一个字典，把需要被操作的RS232命令封装到一起\n",
    "RS232_Command = {\n",
    "    'command1_utf8': 'DCBA',\n",
    "    'command2_utf8': 'ABCD',\n",
    "}\n",
    "\n",
    "#把字符串类型转换为bytes数据流进行发送，RS232命令发送函数\n",
    "def serial_sent_utf(command):\n",
    "\t#从字典里获取对应的RS232命令\n",
    "    var = RS232_Command[\"%s\" % command]\n",
    "    #encode()函数是编码，把字符串数据转换成bytes数据流\n",
    "    ser.write(var.encode())\n",
    "    data = ser.read(10)\n",
    "    # 获取指令的返回值，并且进行类型转换，转换为字符串后便可以进行字符串对比，因而便可以根据返回值进行判断是否执行特定功能\n",
    "    data = str(data, encoding=\"utf-8\")\n",
    "    return data\n",
    "\n",
    "if __name__ == '__main__':\n",
    "    #实现串口的连接\n",
    "    ser = serial.Serial('COM7', 115200, timeout=3)\n",
    "    command1_utf8 = serial_sent_utf('command1_utf8')\n",
    "    command2_utf8 = serial_sent_utf('command2_utf8')\n"
   ]
  },
  {
   "cell_type": "code",
   "execution_count": 30,
   "metadata": {},
   "outputs": [
    {
     "data": {
      "text/plain": [
       "False"
      ]
     },
     "execution_count": 30,
     "metadata": {},
     "output_type": "execute_result"
    }
   ],
   "source": [
    "ser.isOpen() #查看当前串口的状态，是否已经被打开"
   ]
  },
  {
   "cell_type": "code",
   "execution_count": 22,
   "metadata": {},
   "outputs": [],
   "source": [
    "ser.close()"
   ]
  },
  {
   "cell_type": "code",
   "execution_count": 9,
   "metadata": {},
   "outputs": [],
   "source": [
    "ser.open()"
   ]
  },
  {
   "cell_type": "code",
   "execution_count": 14,
   "metadata": {},
   "outputs": [
    {
     "name": "stdout",
     "output_type": "stream",
     "text": [
      "hell0\n",
      "b'hell0'\n",
      "b'\\xce\\xf7\\xb5\\xe7'\n",
      "b'\\xe8\\xa5\\xbf\\xe7\\x94\\xb5'\n",
      "b'a'\n",
      "97\n"
     ]
    }
   ],
   "source": [
    "print('hell0')\n",
    "print('hell0'.encode())\n",
    "print('西电'.encode('gbk'))\n",
    "print('西电'.encode('utf8'))\n",
    "print('a'.encode('ascii'))\n",
    "print('a'.encode('ascii')[0])\n"
   ]
  },
  {
   "cell_type": "code",
   "execution_count": 1,
   "metadata": {},
   "outputs": [
    {
     "name": "stdout",
     "output_type": "stream",
     "text": [
      "True\n",
      "b'D'\n",
      "b'X'\n",
      "b'1'\n",
      "b'2'\n",
      "b'8'\n",
      "b'0'\n",
      "b'0'\n"
     ]
    }
   ],
   "source": [
    "import time\n",
    "import serial\n",
    "import threading\n",
    "def send_byte(ser_send,byte):\n",
    "    ser_send.write(byte.encode('ascii')) #往串口里面写数据\n",
    "    \n",
    "\n",
    "def target_recv():\n",
    "    global ser_recv\n",
    "    ser_recv = serial.Serial('com2',57600)\n",
    "    for i in range(len(cmd)):\n",
    "        data = ser_recv.read(1)\n",
    "        print(data)\n",
    "    \n",
    "\n",
    "def target_send():\n",
    "    global ser_send\n",
    "    ser_send = serial.Serial('com1',57600)\n",
    "    print(ser_send.isOpen())\n",
    "    \n",
    "    for i in range(len(cmd)):\n",
    "        send_byte(ser_send,cmd[i])\n",
    "    \n",
    "    \n",
    "\n",
    "cmd='DX12800'\n",
    "thread_rev = threading.Thread(target = target_recv)\n",
    "thread_send = threading.Thread(target = target_send)\n",
    "thread_rev.start()\n",
    "thread_send.start()\n",
    "thread_rev.join()\n",
    "thread_send.join()\n",
    "ser_send.close() \n",
    "ser_recv.close()\n",
    "\n"
   ]
  }
 ],
 "metadata": {
  "kernelspec": {
   "display_name": "Python 3.7.13 ('py37')",
   "language": "python",
   "name": "python3"
  },
  "language_info": {
   "codemirror_mode": {
    "name": "ipython",
    "version": 3
   },
   "file_extension": ".py",
   "mimetype": "text/x-python",
   "name": "python",
   "nbconvert_exporter": "python",
   "pygments_lexer": "ipython3",
   "version": "3.7.13"
  },
  "orig_nbformat": 4,
  "vscode": {
   "interpreter": {
    "hash": "09694b1e644387458e8f786c8b50d94218a4acd217f563b912196da71b3c7f27"
   }
  }
 },
 "nbformat": 4,
 "nbformat_minor": 2
}
