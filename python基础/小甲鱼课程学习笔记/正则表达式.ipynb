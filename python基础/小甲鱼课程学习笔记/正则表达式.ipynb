{
 "cells": [
  {
   "cell_type": "markdown",
   "metadata": {},
   "source": [
    "# 正则表达式"
   ]
  },
  {
   "cell_type": "code",
   "execution_count": 1,
   "metadata": {},
   "outputs": [
    {
     "data": {
      "text/plain": [
       "<re.Match object; span=(7, 12), match='fishc'>"
      ]
     },
     "execution_count": 1,
     "metadata": {},
     "output_type": "execute_result"
    }
   ],
   "source": [
    "import re\n",
    "re.search(r'fishc','i love fishc')\n",
    "#通配符*或?，正则表达式用.\n",
    "re.search(r'fish.','i love fishc')\n"
   ]
  },
  {
   "cell_type": "code",
   "execution_count": 2,
   "metadata": {},
   "outputs": [
    {
     "data": {
      "text/plain": [
       "<re.Match object; span=(15, 16), match='.'>"
      ]
     },
     "execution_count": 2,
     "metadata": {},
     "output_type": "execute_result"
    }
   ],
   "source": [
    "\n",
    "re.search(r'\\.','i love 123fishc.com')"
   ]
  },
  {
   "cell_type": "code",
   "execution_count": 3,
   "metadata": {},
   "outputs": [
    {
     "data": {
      "text/plain": [
       "<re.Match object; span=(7, 8), match='1'>"
      ]
     },
     "execution_count": 3,
     "metadata": {},
     "output_type": "execute_result"
    }
   ],
   "source": [
    "\n",
    "re.search(r'\\d','i love 123fishc.com')\n"
   ]
  },
  {
   "cell_type": "code",
   "execution_count": 4,
   "metadata": {},
   "outputs": [
    {
     "data": {
      "text/plain": [
       "<re.Match object; span=(0, 1), match='i'>"
      ]
     },
     "execution_count": 4,
     "metadata": {},
     "output_type": "execute_result"
    }
   ],
   "source": [
    "\n",
    "#[aeiou]字符类，符合其中一个\n",
    "re.search(r'[aeiou]','i love 123fishc.com')\n"
   ]
  },
  {
   "cell_type": "code",
   "execution_count": 5,
   "metadata": {},
   "outputs": [
    {
     "data": {
      "text/plain": [
       "['i', 'l', 'o', 'v', 'e', 'f', 'i', 's', 'h', 'c', 'c', 'o', 'm']"
      ]
     },
     "execution_count": 5,
     "metadata": {},
     "output_type": "execute_result"
    }
   ],
   "source": [
    "\n",
    "\n",
    "re.search(r'[a-z]','i love 123fishc.com')\n",
    "\n",
    "re.search(r'1{3}23','i love 11123fishc.com')\n",
    "re.search(r'1{3-10}23','i love 11123fishc.com')\n",
    "\n",
    "re.search(r'[01]\\d\\d|2[0-4]\\d|25[0-5]','188')\n",
    "\n",
    "re.search(r'(([01]{0,1}\\d{0,1}\\d|2[0-4]\\d|25[0-5])\\.){3}([01]{0,1}\\d{0,1}\\d|2[0-4]\\d|25[0-5])','192.168.1.1')\n",
    "\n",
    "#^匹配开始位置，$匹配结束位置\n",
    "re.search(r'^i','i love 123fishc.com')\n",
    "\n",
    "re.search(r'(fishc)\\1\\1','i love 123fishcfishcfishc.com')\n",
    "\n",
    "re.findall(r'[a-z]','i love 11123fishc.com')\n"
   ]
  },
  {
   "cell_type": "code",
   "execution_count": 6,
   "metadata": {},
   "outputs": [
    {
     "data": {
      "text/plain": [
       "[' ', ' ', '1', '1', '1', '2', '3', '.']"
      ]
     },
     "execution_count": 6,
     "metadata": {},
     "output_type": "execute_result"
    }
   ],
   "source": [
    "\n",
    "re.findall(r'[^a-z]','i love 11123ishc.com')\n"
   ]
  },
  {
   "cell_type": "code",
   "execution_count": null,
   "metadata": {},
   "outputs": [],
   "source": [
    "\n",
    "\n",
    "re.search(r'<.+>','<hmtl><hmtl><hmtl><hmtl>')#贪婪\n",
    "re.search(r'<.+?>','<hmtl><hmtl><hmtl><hmtl>')#非贪婪\n",
    "\n",
    "\n",
    "p=re.compile(r'[a-z]')\n",
    "p.search('i love 11123fishc.com')\n"
   ]
  },
  {
   "cell_type": "code",
   "execution_count": null,
   "metadata": {},
   "outputs": [],
   "source": [
    "\n",
    "result=re.search(r' (\\w+) (\\w+)',\"i love fishc.com!\")\n",
    "result.group()\n",
    "result.group(1)\n",
    "result.group(2)\n",
    "result.start()\n",
    "result.end()\n",
    "result.span()\n",
    "\n",
    "p=r'img src=\"([^\"]+\\.jpg)\"'\n",
    "re.findall(p,'img src=\"dawlkjdlawjdlakwjdlkawjdlawjdkawldjalwd.jpg\"')\n",
    "\n"
   ]
  }
 ],
 "metadata": {
  "kernelspec": {
   "display_name": "Python 3.10.4 64-bit",
   "language": "python",
   "name": "python3"
  },
  "language_info": {
   "codemirror_mode": {
    "name": "ipython",
    "version": 3
   },
   "file_extension": ".py",
   "mimetype": "text/x-python",
   "name": "python",
   "nbconvert_exporter": "python",
   "pygments_lexer": "ipython3",
   "version": "3.10.4"
  },
  "orig_nbformat": 4,
  "vscode": {
   "interpreter": {
    "hash": "d533ad8ead974ef2863af58c6dd965ec76a73ec9b0d6bfff6efc64af475660a3"
   }
  }
 },
 "nbformat": 4,
 "nbformat_minor": 2
}
