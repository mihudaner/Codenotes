{
 "cells": [
  {
   "cell_type": "markdown",
   "metadata": {},
   "source": [
    " # 类和对象2\n",
    " \n",
    " 在迭代器中删除列表元素是非常危险的，经常会出现意想不到的问题，因为迭代器\n",
    "\n",
    "是直接引用列表的数据进行引用这里我们把列表拷贝给迭代器，然后对原列表进行\n",
    "\n",
    "删除操作就不会有问题了\n"
   ]
  },
  {
   "cell_type": "markdown",
   "metadata": {},
   "source": [
    "返回对象的类名"
   ]
  },
  {
   "cell_type": "code",
   "execution_count": 4,
   "metadata": {},
   "outputs": [
    {
     "name": "stdout",
     "output_type": "stream",
     "text": [
      "fly\n"
     ]
    }
   ],
   "source": [
    "\n",
    "class fly():\n",
    "    def a(self):\n",
    "        return self.__class__.__name__#可以返回实例化后的类名\n",
    "\n",
    "fly1=fly()\n",
    "\n",
    "print(fly1.a())\n"
   ]
  },
  {
   "cell_type": "markdown",
   "metadata": {},
   "source": [
    "### 子类对父类的继承机制"
   ]
  },
  {
   "cell_type": "code",
   "execution_count": 6,
   "metadata": {},
   "outputs": [
    {
     "name": "stdout",
     "output_type": "stream",
     "text": [
      "调用的父类...\n",
      "调用的父类...\n"
     ]
    }
   ],
   "source": [
    "\n",
    "\n",
    "class parent:\n",
    "    def hello(self):\n",
    "        print('调用的父类...')\n",
    "\n",
    "\n",
    "class child(parent):\n",
    "    pass\n",
    "\n",
    "a=parent()\n",
    "a.hello()\n",
    "b=child()\n",
    "b.hello()\n"
   ]
  },
  {
   "cell_type": "markdown",
   "metadata": {},
   "source": [
    "子类的同名方法把父类覆盖了"
   ]
  },
  {
   "cell_type": "code",
   "execution_count": 7,
   "metadata": {},
   "outputs": [
    {
     "name": "stdout",
     "output_type": "stream",
     "text": [
      "调用的子类...\n"
     ]
    }
   ],
   "source": [
    "\n",
    "class child(parent):\n",
    "    def hello(self):\n",
    "        print('调用的子类...')\n",
    "c=child()#同名的方法，实例化子类后，子类的方法覆盖父类\n",
    "c.hello()\n"
   ]
  },
  {
   "cell_type": "markdown",
   "metadata": {},
   "source": [
    "继承父类的初始化的方法\n",
    "\n"
   ]
  },
  {
   "cell_type": "code",
   "execution_count": 5,
   "metadata": {},
   "outputs": [
    {
     "name": "stdout",
     "output_type": "stream",
     "text": [
      "my sit is -1 0\n"
     ]
    }
   ],
   "source": [
    "\n",
    "import random as r\n",
    "\n",
    "class fish:\n",
    "    def __init__(self):\n",
    "        self.x=r.randint(0,10)\n",
    "        self.y=r.randint(0,10)\n",
    "    \n",
    "    def move(self):\n",
    "        self.x-=1\n",
    "        print(\"my sit is\",self.x,self.y)\n",
    "\n",
    "class glodfish(fish):\n",
    "    pass\n",
    "\n",
    "class shark(fish):\n",
    "    \n",
    "    def __init__(self):#这里调用了init魔法方法，所以父类的初始化被覆盖了\n",
    "        \n",
    "        #fish.__init__(self)\n",
    "        #1.调用未绑定的父类的方法    \n",
    "        super().__init__()\n",
    "        #2.或者使用super函数，方便简洁，优先使用,不需要给出明确的\n",
    "        #任何基类的名字，自动找出所有基类的对应的方法。\n",
    "        \n",
    "        self.hungry=True\n",
    "    def eat(self):\n",
    "        if self.hungry:\n",
    "            print('要吃东西')\n",
    "            self.hungry=False\n",
    "        else:\n",
    "            print('吃饱了')\n",
    "            \n",
    "s=shark()\n",
    "s.move()\n",
    "\n"
   ]
  },
  {
   "cell_type": "code",
   "execution_count": null,
   "outputs": [],
   "source": [],
   "metadata": {
    "collapsed": false
   }
  },
  {
   "cell_type": "code",
   "execution_count": 13,
   "metadata": {},
   "outputs": [
    {
     "name": "stdout",
     "output_type": "stream",
     "text": [
      "100\n"
     ]
    }
   ],
   "source": [
    "class A:\n",
    "    def __init__(self):\n",
    "        self.num1 = 100\n",
    "        self.__num2 = 200\n",
    "\n",
    "class B(A):\n",
    "    def pout(self):\n",
    "        print(self.num1)\n",
    "\n",
    "b=A()\n",
    "print(b.num1)"
   ]
  },
  {
   "cell_type": "markdown",
   "metadata": {},
   "source": [
    "### 多重继承\n",
    "\n",
    "多重继承调用不当可能会发生重复调用，也叫钻石继承问题\n",
    "\n",
    "super函数在此再次体现出优点，不会出现菱形调用问题"
   ]
  },
  {
   "cell_type": "code",
   "execution_count": 8,
   "metadata": {},
   "outputs": [
    {
     "name": "stdout",
     "output_type": "stream",
     "text": [
      "父类方法fool1...\n",
      "父类方法fool2...\n"
     ]
    }
   ],
   "source": [
    "\n",
    "class base1:\n",
    "    def fool1(self):\n",
    "        print('父类方法fool1...')\n",
    "\n",
    "class base2:\n",
    "    def fool2(self):\n",
    "        print('父类方法fool2...')\n",
    "\n",
    "class C(base1,base2):#继承了两个父类\n",
    "    pass\n",
    "c=C()\n",
    "c.fool1()\n",
    "c.fool2()\n",
    "\n"
   ]
  },
  {
   "cell_type": "markdown",
   "metadata": {},
   "source": [
    "### 组合"
   ]
  },
  {
   "cell_type": "code",
   "execution_count": null,
   "metadata": {},
   "outputs": [],
   "source": [
    "\n",
    "\n",
    "class Fish:\n",
    "    def __init__(self,x):\n",
    "        self.num=x\n",
    "class Turtle:\n",
    "    def __init__(self,x):\n",
    "        self.num=x\n",
    "\n",
    "class Pool:\n",
    "    def __init__(self,x,y):\n",
    "        self.turtle=Turtle(x)#所谓组合就是把几个类的实例放到一个新的类里\n",
    "        self.fish=Fish(y)\n",
    "    def print_num(self):\n",
    "        print('水池里有%d个乌龟,%d条鱼'%(self.turtle.num,self.fish.num))\n",
    "pool1=Pool(10,8)\n",
    "pool1.print_num()\n",
    "\n"
   ]
  },
  {
   "cell_type": "markdown",
   "metadata": {},
   "source": [
    "### 类，类对象和实例对象"
   ]
  },
  {
   "cell_type": "code",
   "execution_count": 9,
   "metadata": {},
   "outputs": [
    {
     "name": "stdout",
     "output_type": "stream",
     "text": [
      "10 100 100\n"
     ]
    }
   ],
   "source": [
    "\n",
    "\n",
    "class C:\n",
    "    count=0\n",
    "a=C()\n",
    "a.count+=10\n",
    "C.count+=100#类对象改变了值\n",
    "b=C()\n",
    "print(a.count,C.count,b.count)\n",
    "#类的属性和方法的定义取名时要有一定的规律，否则会发生覆盖，发生意想不到的错误\n"
   ]
  },
  {
   "cell_type": "markdown",
   "metadata": {},
   "source": [
    "Python严格要求***方法需要有实例才能被调用***，上边的C.count是***类对象属性可以调用***\n",
    "\n",
    "这种限制其实就是Python所谓的绑定的概念\n",
    "\n",
    "就算类对象被删除了，但是已经定义的实例的属性方法都还是存在的"
   ]
  },
  {
   "cell_type": "code",
   "execution_count": 11,
   "metadata": {},
   "outputs": [
    {
     "name": "stdout",
     "output_type": "stream",
     "text": [
      "{}\n",
      "{'__module__': '__main__', 'setXY': <function CC.setXY at 0x0000029E39A8DF30>, 'printXY': <function CC.printXY at 0x0000029E39A8C040>, '__dict__': <attribute '__dict__' of 'CC' objects>, '__weakref__': <attribute '__weakref__' of 'CC' objects>, '__doc__': None}\n",
      "{'x': 4, 'y': 5}\n"
     ]
    }
   ],
   "source": [
    "\n",
    "class CC:\n",
    "    def setXY(self,x,y):\n",
    "        self.x=x\n",
    "        self.y=y\n",
    "    def printXY(self):\n",
    "        print(self.x,self.y)\n",
    "dd=CC()\n",
    "print(dd.__dict__)\n",
    "#>>> {}        #此时对象和方法还什么都查不到\n",
    "print(CC.__dict__)    #可以用dict查看类对象的属性和方法\n",
    "dd.setXY(4,5)\n",
    "print(dd.__dict__)\n",
    "#>>> {'x': 4, 'y': 5} 实例对象绑定了属性了\n",
    "\n"
   ]
  },
  {
   "cell_type": "markdown",
   "metadata": {},
   "source": [
    "### 与类相关的一些BIF\n",
    "\n",
    "- issubclass(B,A) #B是否是A的子类\n",
    "\n",
    "+ isinstance(b1,B) #b1是否是B的实例化对象\n",
    "\n",
    "+ hasattr(b1,'x')  #x是否是b1的属性\n",
    "\n",
    "+ getattr(b1,'x',\"属性不存在\")#获取b1的x的值，失败返回后面的字符串\n",
    "\n",
    "+ property方法来设置对象的获得复制和删除的方法，第一个是获得方法，第二是设置方法，第三是删除"
   ]
  },
  {
   "cell_type": "code",
   "execution_count": 13,
   "metadata": {},
   "outputs": [
    {
     "name": "stdout",
     "output_type": "stream",
     "text": [
      "0\n"
     ]
    }
   ],
   "source": [
    "\n",
    "\n",
    "\n",
    "class A:\n",
    "    pass\n",
    "class B(A):\n",
    "    def __init__(self,x=0):\n",
    "        self.x=x\n",
    "    def getsize(self):\n",
    "        return self.x\n",
    "    def setsize(self,x):\n",
    "        self.x=x\n",
    "    def delsize(self):\n",
    "        del self.x\n",
    "    val=property(getsize,setsize,delsize)\n",
    "    \n",
    "issubclass(B,A) #B是否是A的子类\n",
    "#>>>True  \n",
    "\n",
    "b1=B()\n",
    "isinstance(b1,B) #b1是否是B的实例化对象\n",
    "#>>>True  \n",
    "isinstance(b1,A) #b1是继承的A类,所以也是True \n",
    "#>>>True  \n",
    "\n",
    "hasattr(b1,'x')  #x是否是b1的属性\n",
    "#>>>True  \n",
    "\n",
    "getattr(b1,'x',\"属性不存在\")#获取b1的x的值，失败返回后面的字符串\n",
    "getattr(b1,'y',\"属性不存在\")\n",
    "\n",
    "setattr(b1,'y',9)#设置属性\n",
    "delattr(b1,'y')#删除属性\n",
    "\n",
    "\n",
    "#property方法来设置出来的属性，第一个是获得方法，第二是设置方法，第三是删除\n",
    "#property主要的作用是方便大量的工程的修改\n",
    "print(b1.val)\n",
    "b1.val=18\n",
    "del b1.val\n"
   ]
  },
  {
   "cell_type": "markdown",
   "metadata": {},
   "source": [
    "### 第38讲\n",
    "\n",
    "### 例题：定义点类和直线类，并且使用getLen方法可以获得直线长度"
   ]
  },
  {
   "cell_type": "code",
   "execution_count": null,
   "metadata": {},
   "outputs": [],
   "source": [
    "\n",
    "import math\n",
    "class Point:\n",
    "    def __init__(self,x,y):\n",
    "        self.x=x\n",
    "        self.y=y\n",
    "point1=Point(5,6)\n",
    "point2=Point(8,3)\n",
    "\n",
    "class Line:\n",
    "    def __init__(self,p1,p2):\n",
    "        self.x=p1.x-p2.x\n",
    "        self.y=p1.y-p2.y\n",
    "        self.len=math.sqrt(self.x*self.x+self.y*self.y)\n",
    "    def getlen(self):\n",
    "        print(self.len)\n",
    "line1=Line(point1,point2)\n",
    "line1.getlen()\n",
    "\n"
   ]
  },
  {
   "cell_type": "markdown",
   "metadata": {},
   "source": [
    "### 第39讲 \n",
    "\n",
    "### 类属性和实例属性\n",
    "\n",
    "设置变量对实例创建进行计数"
   ]
  },
  {
   "cell_type": "code",
   "execution_count": null,
   "metadata": {},
   "outputs": [],
   "source": [
    "\n",
    "\n",
    "class test:\n",
    "    count=0#类属性，静态属性变量,可以跟踪该类有多少个实例被创建\n",
    "    def __init__(self):\n",
    "        self.x=4#实例属性变量\n",
    "        self.y=4#实例属性变量\n",
    "        test.count+=1#静态属性变量\n",
    "    def __del__(self):\n",
    "        test.count-=1\n",
    "a=test()\n",
    "b=test()\n",
    "test.count\n",
    "del a\n",
    "test.count\n",
    "\n"
   ]
  },
  {
   "cell_type": "markdown",
   "metadata": {},
   "source": [
    "### 第40讲 类方法，静态方法，实例方法\n",
    "其实正是因为设置静态方法和类方法过于讨人吐槽，\n",
    "因此 Python 的作者才开发出了函数修饰符的形式替代\n",
    "\n",
    "1.  类方法 \n",
    "\n",
    "    可以被类和实例调用\n",
    "\n",
    "    第一个形参是类对象的方法 需要用装饰器@classmethod来标识其为类方法,对于类方法,第一个参数必须是类对象,一般以cls作为第一个参数。\n",
    "        \n",
    "2.  静态方法 \n",
    "\n",
    "    需要通过装饰器@staticmethod来进行修饰,\n",
    "\n",
    "    ***静态方法既不需要传递类对象也不需要传递实例对象***(形参没有self/cls)。\n",
    "\n",
    "    ***静态方法也能够通过实例对象和类对象去访问***\n",
    "\n",
    "    优点就是节省内存，节省开销\n",
    "        \n",
    "3.  实例方法"
   ]
  },
  {
   "cell_type": "code",
   "execution_count": 32,
   "metadata": {},
   "outputs": [
    {
     "name": "stdout",
     "output_type": "stream",
     "text": [
      "调用静态方法 foo()\n",
      "调用类方法 foo()\n"
     ]
    }
   ],
   "source": [
    "\n",
    "\n",
    "class CodeA:\n",
    "    def foo():\n",
    "        print(\"调用静态方法 foo()\")\n",
    "\n",
    "    # 将 foo() 方法设置为静态方法\n",
    "    foo1 = staticmethod(foo)\n",
    "class CodeB:\n",
    "    def foo(cls):\n",
    "        print(\"调用类方法 foo()\")\n",
    "\n",
    "    # 将 foo() 方法设置为类方法\n",
    "    foo1 = classmethod(foo)\n",
    "        \n",
    "CodeA.foo1()\n",
    "\n",
    "b=CodeB()\n",
    "b.foo1()"
   ]
  },
  {
   "cell_type": "code",
   "execution_count": 27,
   "metadata": {},
   "outputs": [
    {
     "name": "stdout",
     "output_type": "stream",
     "text": [
      "调用静态方法 foo()\n",
      "调用类方法 foo()\n",
      "调用类方法 foo()\n"
     ]
    }
   ],
   "source": [
    "\n",
    "class CodeA:\n",
    "    @staticmethod\n",
    "    def foo():\n",
    "        print(\"调用静态方法 foo()\")\n",
    "class CodeB:\n",
    "    @classmethod\n",
    "    def foo(cls):\n",
    "        print(\"调用类方法 foo()\")\n",
    "        \n",
    "CodeA.foo()\n",
    "CodeB.foo()\n",
    "\n",
    "b=CodeB()\n",
    "b.foo()"
   ]
  }
 ],
 "metadata": {
  "kernelspec": {
   "display_name": "Python 3.10.4 64-bit",
   "language": "python",
   "name": "python3"
  },
  "language_info": {
   "codemirror_mode": {
    "name": "ipython",
    "version": 3
   },
   "file_extension": ".py",
   "mimetype": "text/x-python",
   "name": "python",
   "nbconvert_exporter": "python",
   "pygments_lexer": "ipython3",
   "version": "3.10.4"
  },
  "orig_nbformat": 4,
  "vscode": {
   "interpreter": {
    "hash": "d533ad8ead974ef2863af58c6dd965ec76a73ec9b0d6bfff6efc64af475660a3"
   }
  }
 },
 "nbformat": 4,
 "nbformat_minor": 2
}
