{
 "cells": [
  {
   "cell_type": "markdown",
   "metadata": {},
   "source": [
    "# 数学计算"
   ]
  },
  {
   "cell_type": "markdown",
   "metadata": {},
   "source": [
    "基本语法\n",
    "- python3  中文可以作为变量名，可以直接赋值 字符 数值\n",
    "- x,y=y,x 交换xy数值\n",
    "- \\加回车可以换行编辑，也可以三引号编辑\n",
    "- 可以字符串加法拼接，乘法复制\n",
    "- 不像c语言 x<10&&x>2   而是 10<x<50 或者 (x<50) and (x>10)\n",
    "- and 不同与 && 因为 1 and 3 结果为3，因为是输出后一个非零值 (短路逻辑)\n"
   ]
  },
  {
   "cell_type": "markdown",
   "metadata": {},
   "source": [
    "\n",
    "### 第四讲\n",
    "\n",
    "### 写一个程序，一直打印到x\n"
   ]
  },
  {
   "cell_type": "code",
   "execution_count": 1,
   "metadata": {},
   "outputs": [
    {
     "name": "stdout",
     "output_type": "stream",
     "text": [
      "12\n",
      "11\n",
      "10\n",
      "9\n",
      "8\n",
      "7\n",
      "6\n",
      "5\n",
      "4\n",
      "3\n",
      "2\n",
      "1\n",
      "            ************\n",
      "           ***********\n",
      "          **********\n",
      "         *********\n",
      "        ********\n",
      "       *******\n",
      "      ******\n",
      "     *****\n",
      "    ****\n",
      "   ***\n",
      "  **\n",
      " *\n"
     ]
    }
   ],
   "source": [
    "\n",
    "temp = input (\"输入一个整数：\")\n",
    "x = int(temp)\n",
    "for  i in range(x) :#!!必须要可迭代对象\n",
    "    print(x-i)\n",
    "\n",
    "\n",
    "#写一个程序，一直打印  空格+x\n",
    "\n",
    "temp = input (\"输入一个整数：\")\n",
    "x = int(temp)\n",
    "while x:#!!必须要可迭代对象\n",
    "    print(\" \"*x+\"*\"*x)\n",
    "    x-=1\n"
   ]
  },
  {
   "cell_type": "markdown",
   "metadata": {},
   "source": [
    "### 第五讲\n",
    "\n",
    "### 写一个程序，判断给定年份是否为闰年"
   ]
  },
  {
   "cell_type": "code",
   "execution_count": null,
   "metadata": {},
   "outputs": [],
   "source": [
    "\n",
    "\n",
    "\n",
    "temp = input (\"输入一个整数：\")\n",
    "year = int(temp)\n",
    "if year%4==0 :\n",
    "    if year%100!=0:\n",
    "        print(\"是闰年\")\n",
    "    else:\n",
    "        print(\"不是闰年\")   \n",
    "else:\n",
    "    print(\"不是闰年\")    \n"
   ]
  }
 ],
 "metadata": {
  "kernelspec": {
   "display_name": "Python 3.10.4 64-bit",
   "language": "python",
   "name": "python3"
  },
  "language_info": {
   "codemirror_mode": {
    "name": "ipython",
    "version": 3
   },
   "file_extension": ".py",
   "mimetype": "text/x-python",
   "name": "python",
   "nbconvert_exporter": "python",
   "pygments_lexer": "ipython3",
   "version": "3.10.4"
  },
  "orig_nbformat": 4,
  "vscode": {
   "interpreter": {
    "hash": "d533ad8ead974ef2863af58c6dd965ec76a73ec9b0d6bfff6efc64af475660a3"
   }
  }
 },
 "nbformat": 4,
 "nbformat_minor": 2
}
