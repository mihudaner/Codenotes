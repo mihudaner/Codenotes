{
 "cells": [
  {
   "cell_type": "markdown",
   "metadata": {},
   "source": [
    "# 文件处理"
   ]
  },
  {
   "cell_type": "markdown",
   "metadata": {},
   "source": [
    "### 文件操作"
   ]
  },
  {
   "cell_type": "code",
   "execution_count": 21,
   "metadata": {},
   "outputs": [
    {
     "name": "stdout",
     "output_type": "stream",
     "text": [
      "i love pythoni love hdu\n",
      "\n",
      "ggok\n"
     ]
    }
   ],
   "source": [
    "\n",
    "f=open(\"../data/fishc.txt\",'w')\n",
    "f.write(\"i love python\")\n",
    "f.writelines([\"i love hdu\\n\",\"ggok\"])\n",
    "f.close()\n",
    "f=open(\"../data/fishc.txt\",'r+')\n",
    "for each in f:\n",
    "    print(each)\n",
    "f.tell()\n",
    "f.seek(0)#移动指针\n",
    "f.readline()#读一行\n",
    "f.read()\n",
    "f.flush()#不用关闭\n",
    "f.truncate(10)#截断\n",
    "f.flush()\n",
    "f=open(\"../data/fishc.txt\",'r+')#如果这r+换成w，关闭后会清空，因为单独的写入模式也会关闭时候截断\n",
    "f.close()\n"
   ]
  },
  {
   "cell_type": "markdown",
   "metadata": {},
   "source": [
    "### 处理路径"
   ]
  },
  {
   "cell_type": "code",
   "execution_count": 22,
   "metadata": {},
   "outputs": [
    {
     "name": "stdout",
     "output_type": "stream",
     "text": [
      "c:\\Users\\wangkai\\Desktop\\pythonwork\\小甲鱼课程学习笔记\n",
      "C:\\Users\\wangkai\\Desktop\\pythonwork\\data\n",
      "C:\\Users\\wangkai\\Desktop\\pythonwork\n",
      "C:\\Users\\wangkai\\Desktop\n",
      "C:\\Users\\wangkai\n",
      "C:\\Users\n",
      "C:\\\n"
     ]
    },
    {
     "data": {
      "text/plain": [
       "10"
      ]
     },
     "execution_count": 22,
     "metadata": {},
     "output_type": "execute_result"
    }
   ],
   "source": [
    "\n",
    "\n",
    "from pathlib import Path\n",
    "print(Path.cwd())\n",
    "p=Path('C:/Users/wangkai/Desktop/pythonwork/data/')\n",
    "q=p/\"fishc.txt\"\n",
    "p.is_dir()\n",
    "q.is_file()\n",
    "q.exists()\n",
    "q.name#获取文件名\n",
    "q.stem#获取文件名\n",
    "q.suffix#获取文件后缀\n",
    "q.parent#获取父级目录\n",
    "pt=q.parents#逐级目录\n",
    "for each in pt:\n",
    "    print(each)\n",
    "q.parts\n",
    "q.stat().st_size\n"
   ]
  },
  {
   "cell_type": "markdown",
   "metadata": {},
   "source": [
    "### 绝对路径和相对路径"
   ]
  },
  {
   "cell_type": "code",
   "execution_count": 23,
   "metadata": {},
   "outputs": [],
   "source": [
    "\n",
    "\n",
    "Path(\"./doc1\").resolve()#相对路径\n",
    "Path(\"../doc2\").resolve()\n",
    "q=Path(\"fishc.txt\")\n"
   ]
  },
  {
   "cell_type": "code",
   "execution_count": 24,
   "metadata": {},
   "outputs": [],
   "source": [
    "\n",
    "path = os.path.realpath(os.curdir)#获取当前目录的绝对路径\n",
    "path = os.path.join(path, \"1.txt\")#加上文件名"
   ]
  },
  {
   "cell_type": "markdown",
   "metadata": {},
   "source": [
    "### 当前路径下的所以有子文件"
   ]
  },
  {
   "cell_type": "code",
   "execution_count": 25,
   "metadata": {},
   "outputs": [
    {
     "name": "stdout",
     "output_type": "stream",
     "text": [
      "C:\\Users\\wangkai\\Desktop\\pythonwork\\data\\1.jpg\n",
      "C:\\Users\\wangkai\\Desktop\\pythonwork\\data\\8.gif\n",
      "C:\\Users\\wangkai\\Desktop\\pythonwork\\data\\9.gif\n",
      "C:\\Users\\wangkai\\Desktop\\pythonwork\\data\\big.mp4\n",
      "C:\\Users\\wangkai\\Desktop\\pythonwork\\data\\data\n",
      "C:\\Users\\wangkai\\Desktop\\pythonwork\\data\\data.pkl\n",
      "C:\\Users\\wangkai\\Desktop\\pythonwork\\data\\fishc.txt\n",
      "C:\\Users\\wangkai\\Desktop\\pythonwork\\data\\haarcascade_frontalface_default.xml\n",
      "C:\\Users\\wangkai\\Desktop\\pythonwork\\data\\haarcascade_frontalface_default.zip\n",
      "C:\\Users\\wangkai\\Desktop\\pythonwork\\data\\lenna.png\n",
      "C:\\Users\\wangkai\\Desktop\\pythonwork\\data\\lenna_big.png\n",
      "C:\\Users\\wangkai\\Desktop\\pythonwork\\data\\lenna_face.png\n",
      "C:\\Users\\wangkai\\Desktop\\pythonwork\\data\\lenna_gray.png\n",
      "C:\\Users\\wangkai\\Desktop\\pythonwork\\data\\ninelie.mp3\n",
      "C:\\Users\\wangkai\\Desktop\\pythonwork\\data\\OOXX\n",
      "C:\\Users\\wangkai\\Desktop\\pythonwork\\data\\qd.jpg\n",
      "C:\\Users\\wangkai\\Desktop\\pythonwork\\data\\small.mp4\n",
      "C:\\Users\\wangkai\\Desktop\\pythonwork\\data\\team.mp4\n",
      "C:\\Users\\wangkai\\Desktop\\pythonwork\\data\\team.png\n",
      "C:\\Users\\wangkai\\Desktop\\pythonwork\\data\\turtle.png\n",
      "C:\\Users\\wangkai\\Desktop\\pythonwork\\data\\zaodian.jpg\n"
     ]
    }
   ],
   "source": [
    "\n",
    "for each in p.iterdir():\n",
    "    print(each)\n",
    "listf=[x for x in p.iterdir() if x.is_file()]\n"
   ]
  },
  {
   "cell_type": "code",
   "execution_count": 26,
   "metadata": {},
   "outputs": [],
   "source": [
    "p=Path('C:/Users/wangkai/Desktop/pythonwork/data/')\n",
    "n=p/\"fishc\"\n",
    "n.mkdir(parents=True,exist_ok=True)\n",
    "p=n/\"fishc.txt\"\n",
    "f=p.open(\"w\")\n",
    "f.write(\"tatak!\")\n",
    "f.close()\n"
   ]
  },
  {
   "cell_type": "code",
   "execution_count": 27,
   "metadata": {},
   "outputs": [
    {
     "data": {
      "text/plain": [
       "WindowsPath('C:/Users/wangkai/Desktop/pythonwork/data/fishc/wk.txt')"
      ]
     },
     "execution_count": 27,
     "metadata": {},
     "output_type": "execute_result"
    }
   ],
   "source": [
    "import os\n",
    "p.rename(n/\"wk.txt\") #p路径的文件重命名\"\n"
   ]
  },
  {
   "cell_type": "code",
   "execution_count": 29,
   "metadata": {},
   "outputs": [
    {
     "data": {
      "text/plain": [
       "WindowsPath('C:/Users/wangkai/Desktop/pythonwork/data/fishc/wk1.txt')"
      ]
     },
     "execution_count": 29,
     "metadata": {},
     "output_type": "execute_result"
    }
   ],
   "source": [
    "p=Path('C:/Users/wangkai/Desktop/pythonwork/data/')\n",
    "n=p/\"fishc\"\n",
    "p=n/\"wk.txt\"\n",
    "p.replace(n/\"wk1.txt\")#p路径的文件删除，生成n/\"wk.txt\"\n"
   ]
  },
  {
   "cell_type": "markdown",
   "metadata": {},
   "source": [
    "删除了fishc文件夹"
   ]
  },
  {
   "cell_type": "code",
   "execution_count": 30,
   "metadata": {},
   "outputs": [],
   "source": [
    "(n/\"wk1.txt\").unlink()\n",
    "n.rmdir()\n"
   ]
  },
  {
   "cell_type": "code",
   "execution_count": 31,
   "metadata": {},
   "outputs": [
    {
     "name": "stdout",
     "output_type": "stream",
     "text": [
      "[]\n",
      "[WindowsPath('C:/Users/wangkai/Desktop/pythonwork/ply.py'), WindowsPath('C:/Users/wangkai/Desktop/pythonwork/data/data/tutorial/tutorial/items.py'), WindowsPath('C:/Users/wangkai/Desktop/pythonwork/data/data/tutorial/tutorial/middlewares.py'), WindowsPath('C:/Users/wangkai/Desktop/pythonwork/data/data/tutorial/tutorial/pipelines.py'), WindowsPath('C:/Users/wangkai/Desktop/pythonwork/data/data/tutorial/tutorial/settings.py'), WindowsPath('C:/Users/wangkai/Desktop/pythonwork/data/data/tutorial/tutorial/__init__.py'), WindowsPath('C:/Users/wangkai/Desktop/pythonwork/data/data/tutorial/tutorial/spiders/dmoz_spider.py'), WindowsPath('C:/Users/wangkai/Desktop/pythonwork/data/data/tutorial/tutorial/spiders/__init__.py'), WindowsPath('C:/Users/wangkai/Desktop/pythonwork/deeplearn_andrew/【吴恩达课后编程作业】第二周 - PA1 - 具有神经网络思维的Logistic回归/lr_utils.py'), WindowsPath('C:/Users/wangkai/Desktop/pythonwork/Leecode/isBoomerang.py'), WindowsPath('C:/Users/wangkai/Desktop/pythonwork/Leecode/romanToInt.py'), WindowsPath('C:/Users/wangkai/Desktop/pythonwork/Leecode/Solution.py'), WindowsPath('C:/Users/wangkai/Desktop/pythonwork/Leecode/sum_oftwo_numbers.py'), WindowsPath('C:/Users/wangkai/Desktop/pythonwork/Leecode/thread.py'), WindowsPath('C:/Users/wangkai/Desktop/pythonwork/multprocess_thread_mofan/multiprocessing1.py'), WindowsPath('C:/Users/wangkai/Desktop/pythonwork/multprocess_thread_mofan/multiprocessing2.py'), WindowsPath('C:/Users/wangkai/Desktop/pythonwork/multprocess_thread_mofan/multiprocessing3.py'), WindowsPath('C:/Users/wangkai/Desktop/pythonwork/multprocess_thread_mofan/multiprocessing4.py'), WindowsPath('C:/Users/wangkai/Desktop/pythonwork/multprocess_thread_mofan/pipe1.py'), WindowsPath('C:/Users/wangkai/Desktop/pythonwork/multprocess_thread_mofan/queue1.py'), WindowsPath('C:/Users/wangkai/Desktop/pythonwork/multprocess_thread_mofan/sharememory1.py'), WindowsPath('C:/Users/wangkai/Desktop/pythonwork/multprocess_thread_mofan/sharevalue.py'), WindowsPath('C:/Users/wangkai/Desktop/pythonwork/multprocess_thread_mofan/thread1.py'), WindowsPath('C:/Users/wangkai/Desktop/pythonwork/multprocess_thread_mofan/thread2.py'), WindowsPath('C:/Users/wangkai/Desktop/pythonwork/multprocess_thread_mofan/thread3.py'), WindowsPath('C:/Users/wangkai/Desktop/pythonwork/multprocess_thread_mofan/thread4.py'), WindowsPath('C:/Users/wangkai/Desktop/pythonwork/multprocess_thread_mofan/threading_tk.py'), WindowsPath('C:/Users/wangkai/Desktop/pythonwork/opencv/opencv_1.py'), WindowsPath('C:/Users/wangkai/Desktop/pythonwork/opencv/opencv_cornerdetect.py'), WindowsPath('C:/Users/wangkai/Desktop/pythonwork/opencv/opencv_fourier.py'), WindowsPath('C:/Users/wangkai/Desktop/pythonwork/opencv/opencv_图像融合plt.py'), WindowsPath('C:/Users/wangkai/Desktop/pythonwork/opencv/opencv_平滑.py'), WindowsPath('C:/Users/wangkai/Desktop/pythonwork/opencv/opencv_梯度.py'), WindowsPath('C:/Users/wangkai/Desktop/pythonwork/opencv/opencv_模板匹配，均衡化.py'), WindowsPath('C:/Users/wangkai/Desktop/pythonwork/opencv/opencv_礼帽.py'), WindowsPath('C:/Users/wangkai/Desktop/pythonwork/opencv/opencv_腐蚀膨胀开闭.py'), WindowsPath('C:/Users/wangkai/Desktop/pythonwork/opencv/opencv_金字塔二值轮廓.py'), WindowsPath('C:/Users/wangkai/Desktop/pythonwork/opencv/face_recognize/face_Recognizer.py'), WindowsPath('C:/Users/wangkai/Desktop/pythonwork/opencv/face_recognize/face_train_recognizer.py'), WindowsPath('C:/Users/wangkai/Desktop/pythonwork/opencv/face_recognize/fishc_cv.py'), WindowsPath('C:/Users/wangkai/Desktop/pythonwork/opencv/face_recognize/graduate_video.py'), WindowsPath('C:/Users/wangkai/Desktop/pythonwork/opencv/face_recognize/graduate_video_threading.py'), WindowsPath('C:/Users/wangkai/Desktop/pythonwork/opencv/temp/template-matching-ocr/myutils.py'), WindowsPath('C:/Users/wangkai/Desktop/pythonwork/opencv/temp/template-matching-ocr/ocr_template_match.py'), WindowsPath('C:/Users/wangkai/Desktop/pythonwork/THU/mydemo/MvImport/CameraParams_const.py'), WindowsPath('C:/Users/wangkai/Desktop/pythonwork/THU/mydemo/MvImport/CameraParams_header.py'), WindowsPath('C:/Users/wangkai/Desktop/pythonwork/THU/mydemo/MvImport/MvCameraControl_class.py'), WindowsPath('C:/Users/wangkai/Desktop/pythonwork/THU/mydemo/MvImport/MvErrorDefine_const.py'), WindowsPath('C:/Users/wangkai/Desktop/pythonwork/THU/mydemo/MvImport/PixelType_header.py'), WindowsPath('C:/Users/wangkai/Desktop/pythonwork/THU/mydemo/MyBasicDemo/BasicDemo.py'), WindowsPath('C:/Users/wangkai/Desktop/pythonwork/THU/mydemo/MyBasicDemo/CamOperation_class.py'), WindowsPath('C:/Users/wangkai/Desktop/pythonwork/THU/mydemo/MyMultipleCameras/CamOperation_class.py'), WindowsPath('C:/Users/wangkai/Desktop/pythonwork/THU/mydemo/MyMultipleCameras/MultipleCamerasDemo.py'), WindowsPath('C:/Users/wangkai/Desktop/pythonwork/THU/THU_Project1/HKAPI/CameraParams_const.py'), WindowsPath('C:/Users/wangkai/Desktop/pythonwork/THU/THU_Project1/HKAPI/CameraParams_header.py'), WindowsPath('C:/Users/wangkai/Desktop/pythonwork/THU/THU_Project1/HKAPI/CamOperation_class.py'), WindowsPath('C:/Users/wangkai/Desktop/pythonwork/THU/THU_Project1/HKAPI/MvCameraControl_class.py'), WindowsPath('C:/Users/wangkai/Desktop/pythonwork/THU/THU_Project1/HKAPI/MvErrorDefine_const.py'), WindowsPath('C:/Users/wangkai/Desktop/pythonwork/THU/THU_Project1/HKAPI/PixelType_header.py'), WindowsPath('C:/Users/wangkai/Desktop/pythonwork/THU/THU_Project1/program/camera.py'), WindowsPath('C:/Users/wangkai/Desktop/pythonwork/THU/THU_Project1/program/main.py'), WindowsPath('C:/Users/wangkai/Desktop/pythonwork/THU/THU_Project2/HKAPI/CameraParams_const.py'), WindowsPath('C:/Users/wangkai/Desktop/pythonwork/THU/THU_Project2/HKAPI/CameraParams_header.py'), WindowsPath('C:/Users/wangkai/Desktop/pythonwork/THU/THU_Project2/HKAPI/CamOperation_class.py'), WindowsPath('C:/Users/wangkai/Desktop/pythonwork/THU/THU_Project2/HKAPI/MvCameraControl_class.py'), WindowsPath('C:/Users/wangkai/Desktop/pythonwork/THU/THU_Project2/HKAPI/MvErrorDefine_const.py'), WindowsPath('C:/Users/wangkai/Desktop/pythonwork/THU/THU_Project2/HKAPI/PixelType_header.py'), WindowsPath('C:/Users/wangkai/Desktop/pythonwork/THU/THU_Project2/program/camera.py'), WindowsPath('C:/Users/wangkai/Desktop/pythonwork/THU/THU_Project2/program/main.py'), WindowsPath('C:/Users/wangkai/Desktop/pythonwork/图中图小例子/generate.py'), WindowsPath('C:/Users/wangkai/Desktop/pythonwork/图中图小例子/parse_by_pil.py'), WindowsPath('C:/Users/wangkai/Desktop/pythonwork/小甲鱼课程学习笔记/fistgame.py'), WindowsPath('C:/Users/wangkai/Desktop/pythonwork/小甲鱼课程学习笔记/function1.py'), WindowsPath('C:/Users/wangkai/Desktop/pythonwork/小甲鱼课程学习笔记/function2.py'), WindowsPath('C:/Users/wangkai/Desktop/pythonwork/小甲鱼课程学习笔记/function3.py'), WindowsPath('C:/Users/wangkai/Desktop/pythonwork/小甲鱼课程学习笔记/list.py'), WindowsPath('C:/Users/wangkai/Desktop/pythonwork/小甲鱼课程学习笔记/magic_method.py'), WindowsPath('C:/Users/wangkai/Desktop/pythonwork/小甲鱼课程学习笔记/mathcalculate and str.py'), WindowsPath('C:/Users/wangkai/Desktop/pythonwork/小甲鱼课程学习笔记/mathtype.py'), WindowsPath('C:/Users/wangkai/Desktop/pythonwork/小甲鱼课程学习笔记/module.py'), WindowsPath('C:/Users/wangkai/Desktop/pythonwork/小甲鱼课程学习笔记/pygame1.py'), WindowsPath('C:/Users/wangkai/Desktop/pythonwork/小甲鱼课程学习笔记/read.py'), WindowsPath('C:/Users/wangkai/Desktop/pythonwork/小甲鱼课程学习笔记/save.py'), WindowsPath('C:/Users/wangkai/Desktop/pythonwork/小甲鱼课程学习笔记/save2.py'), WindowsPath('C:/Users/wangkai/Desktop/pythonwork/小甲鱼课程学习笔记/set.py'), WindowsPath('C:/Users/wangkai/Desktop/pythonwork/小甲鱼课程学习笔记/spider.py'), WindowsPath('C:/Users/wangkai/Desktop/pythonwork/小甲鱼课程学习笔记/spider2 .py'), WindowsPath('C:/Users/wangkai/Desktop/pythonwork/小甲鱼课程学习笔记/tkinter1.py'), WindowsPath('C:/Users/wangkai/Desktop/pythonwork/小甲鱼课程学习笔记/tkinter2_cal.py'), WindowsPath('C:/Users/wangkai/Desktop/pythonwork/小甲鱼课程学习笔记/tkinter3.py'), WindowsPath('C:/Users/wangkai/Desktop/pythonwork/小甲鱼课程学习笔记/tkinter4.py'), WindowsPath('C:/Users/wangkai/Desktop/pythonwork/小甲鱼课程学习笔记/tuple.py'), WindowsPath('C:/Users/wangkai/Desktop/pythonwork/小甲鱼课程学习笔记/ui.py'), WindowsPath('C:/Users/wangkai/Desktop/pythonwork/小甲鱼课程学习笔记/write.py'), WindowsPath('C:/Users/wangkai/Desktop/pythonwork/小甲鱼课程学习笔记/xulie.py'), WindowsPath('C:/Users/wangkai/Desktop/pythonwork/小甲鱼课程学习笔记/zhengze.py'), WindowsPath('C:/Users/wangkai/Desktop/pythonwork/文件关键字查找/save2.py')]\n"
     ]
    }
   ],
   "source": [
    "\n",
    "p=Path(\"C:/Users/wangkai/Desktop\")\n",
    "list_txt=list(p.glob(\"*/*.txt\"))\n",
    "print(list_txt)\n",
    "p=Path(\"C:/Users/wangkai/Desktop/pythonwork\")\n",
    "list_py=list(p.glob(\"**/*.py\"))#两个星号表示包括子目录\n",
    "print(list_py)\n"
   ]
  },
  {
   "cell_type": "markdown",
   "metadata": {},
   "source": [
    "with as 上下文管理器\n",
    "\n",
    "with 语句，自动关闭文件"
   ]
  },
  {
   "cell_type": "code",
   "execution_count": null,
   "metadata": {},
   "outputs": [],
   "source": [
    "\n",
    "\n",
    "with open(\"./data/fishc.txt\",\"w\") as f:\n",
    "    f.write(\"ttk!!\")\n",
    "\n",
    "with open(\"C:/Users/wangkai/Desktop/test.txt\",\"w\") as f:\n",
    "    f.write(\"ttk!!\")#虽然没有f.close但是还是写入了\n"
   ]
  }
 ],
 "metadata": {
  "kernelspec": {
   "display_name": "Python 3.10.4 64-bit",
   "language": "python",
   "name": "python3"
  },
  "language_info": {
   "codemirror_mode": {
    "name": "ipython",
    "version": 3
   },
   "file_extension": ".py",
   "mimetype": "text/x-python",
   "name": "python",
   "nbconvert_exporter": "python",
   "pygments_lexer": "ipython3",
   "version": "3.10.4"
  },
  "orig_nbformat": 4,
  "vscode": {
   "interpreter": {
    "hash": "d533ad8ead974ef2863af58c6dd965ec76a73ec9b0d6bfff6efc64af475660a3"
   }
  }
 },
 "nbformat": 4,
 "nbformat_minor": 2
}
