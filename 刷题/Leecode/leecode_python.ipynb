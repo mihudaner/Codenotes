{
 "cells": [
  {
   "attachments": {},
   "cell_type": "markdown",
   "metadata": {},
   "source": [
    "# 基础\n"
   ]
  },
  {
   "attachments": {},
   "cell_type": "markdown",
   "metadata": {},
   "source": [
    "### 求三点是否共线"
   ]
  },
  {
   "cell_type": "code",
   "execution_count": 58,
   "metadata": {},
   "outputs": [
    {
     "name": "stdout",
     "output_type": "stream",
     "text": [
      "test...isBoomerang\n",
      "[[1, 1], [2, 3], [3, 2]]\n",
      "True\n"
     ]
    }
   ],
   "source": [
    "def isBoomerang( points:list)->bool:\n",
    "    '''\n",
    "    求三点是否共线\n",
    "\n",
    "    :type points: List[List[int]]\n",
    "    :rtype: bool\n",
    "\n",
    "    '''\n",
    "    #用两条线的数量积\n",
    "    x1= points[1][0]-points[0][0] \n",
    "    x2= points[2][0]-points[1][0]\n",
    "    y1= points[1][1]-points[0][1]\n",
    "    y2= points[2][1]-points[1][1]\n",
    "    \n",
    "    if x1*y2-x2*y1==0:\n",
    "        return False\n",
    "\n",
    "    else:\n",
    "        return True\n",
    "                \n",
    "\n",
    "print('test...isBoomerang')                \n",
    "list1=[[1,1],[2,3],[3,2]]\n",
    "print(list1)\n",
    "print(isBoomerang(list1))\n",
    "\n"
   ]
  },
  {
   "attachments": {},
   "cell_type": "markdown",
   "metadata": {},
   "source": [
    "### 给定一个罗马数字，将其转换成整数。"
   ]
  },
  {
   "cell_type": "code",
   "execution_count": 59,
   "metadata": {},
   "outputs": [
    {
     "name": "stdout",
     "output_type": "stream",
     "text": [
      "test...romanToInt\n",
      "MCMXCIV\n",
      "MC\n",
      "CM\n",
      "XC\n",
      "IV\n",
      "1994\n"
     ]
    }
   ],
   "source": [
    "def romanToInt(s: str) -> int:\n",
    "    '''\n",
    "    给定一个罗马数字，将其转换成整数。\n",
    "    '''\n",
    "    d = {'I': 1, 'IV': 4, 'V': 5, 'IX': 9, 'X': 10, 'XL': 40, 'L': 50, 'XC': 90,  'C': 100, 'CD': 400, 'D': 500, 'CM': 900, 'M': 1000}\n",
    "    result = 0\n",
    "    i = 0\n",
    "    while i < len(s):\n",
    "        #查看当前位和下一位的字符\n",
    "        str1 = s[i:i+2] #！！注意这个前两位要到i+2，s[0,2]只有两个字符\n",
    "        print(str1) \n",
    "        #如果当前位置是特殊情况，那么返回其在字典中对应值，并且下一次从特殊字符之后一位开始索引\n",
    "        if str1 in d: \n",
    "            result += d.get(str1) \n",
    "            i += 2\n",
    "        #如果当前位不是特殊情况，那么只返回当前位的数值\n",
    "        else:\n",
    "            result += d[s[i]] \n",
    "            i += 1\n",
    "    return result\n",
    "\n",
    "print('test...romanToInt')\n",
    "test = \"MCMXCIV\"\n",
    "print(test)\n",
    "print(romanToInt(test))"
   ]
  },
  {
   "cell_type": "code",
   "execution_count": 60,
   "metadata": {},
   "outputs": [
    {
     "name": "stdout",
     "output_type": "stream",
     "text": [
      "test...romanToInt\n",
      "MCMXCIV\n",
      "1994\n"
     ]
    }
   ],
   "source": [
    "def romanToInt_answer(s: str) -> int:\n",
    "    '''\n",
    "    答案，给定一个罗马数字，将其转换成整数\n",
    "    '''\n",
    "    d = {'I':1, 'IV':3, 'V':5, 'IX':8, 'X':10, 'XL':30, 'L':50, 'XC':80, 'C':100, 'CD':300, 'D':500, 'CM':800, 'M':1000}\n",
    "    return sum(d.get(s[max(i-1, 0):i+1], d[n]) for i, n in enumerate(s))\n",
    "    #for i, n in enumerate(s)) 的i和n是对应字符串的位置和值\n",
    "    #d.get(s[max(i-1, 0):i+1], d[n])表示获得s[[max(i-1, 0):i+1]的值，没找到则返回d[n]\n",
    "\n",
    "print('test...romanToInt')\n",
    "test = \"MCMXCIV\"\n",
    "print(test)\n",
    "print(romanToInt_answer(test))\n"
   ]
  },
  {
   "attachments": {},
   "cell_type": "markdown",
   "metadata": {},
   "source": [
    "### 输入一个整数判断是否是回文数"
   ]
  },
  {
   "cell_type": "code",
   "execution_count": 61,
   "metadata": {},
   "outputs": [
    {
     "name": "stdout",
     "output_type": "stream",
     "text": [
      "test...isPalindrome\n",
      "12321\n",
      "True\n"
     ]
    }
   ],
   "source": [
    "def isPalindrome( x:int)->bool:\n",
    "    '''\n",
    "    输入一个整数判断是否是回文数\n",
    "    '''\n",
    "    strx=str(x)\n",
    "    long=len(strx)\n",
    "    errorflag=0\n",
    "\n",
    "    for i in range(long//2): \n",
    "\n",
    "            if strx[i]==strx[long-i-1]:\n",
    "                pass\n",
    "            else:\n",
    "                errorflag=1\n",
    "\n",
    "    if errorflag==1:\n",
    "        return False\n",
    "    else:\n",
    "        return True\n",
    "\n",
    "print('test...isPalindrome')\n",
    "test = 12321\n",
    "print(test)\n",
    "print(isPalindrome(test))"
   ]
  },
  {
   "attachments": {},
   "cell_type": "markdown",
   "metadata": {},
   "source": [
    "# 字符串"
   ]
  },
  {
   "attachments": {},
   "cell_type": "markdown",
   "metadata": {},
   "source": [
    "### 最长相同前缀"
   ]
  },
  {
   "cell_type": "code",
   "execution_count": 62,
   "metadata": {},
   "outputs": [
    {
     "name": "stdout",
     "output_type": "stream",
     "text": [
      "test...longestCommonPrefix\n",
      "['flower', 'flow', 'flight']\n",
      "6\n",
      "4\n",
      "0 0\n",
      "1 0\n",
      "2 0\n",
      "f\n",
      "0 1\n",
      "1 1\n",
      "2 1\n",
      "fl\n",
      "0 2\n",
      "1 2\n",
      "2 2\n",
      "不等\n",
      "fl\n"
     ]
    }
   ],
   "source": [
    "def longestCommonPrefix(strs:list)->str:\n",
    "    \"\"\"\n",
    "    最长相同前缀\n",
    "    \"\"\"\n",
    "    answer=''\n",
    "    i=0\n",
    "    nums=len(strs)\n",
    "    minlong=9999\n",
    "    for i in range(nums):\n",
    "        if minlong>len(strs[i]):\n",
    "            minlong=len(strs[i])\n",
    "            print(minlong)\n",
    "    for j in range(minlong):\n",
    "        for i in range(nums):\n",
    "            print(i, j)\n",
    "            if strs[0][j]==strs[i][j]:\n",
    "                appendflag=1\n",
    "            else:\n",
    "                print('不等')\n",
    "                appendflag=0\n",
    "                break\n",
    "        if appendflag==1:\n",
    "            answer= answer+strs[0][j]\n",
    "            print(answer)\n",
    "\n",
    "        else:\n",
    "            break\n",
    "    return  answer#自己的也修改对了   \n",
    "\n",
    "print('test...longestCommonPrefix')\n",
    "test = [\"flower\",\"flow\",\"flight\"]\n",
    "print(test)\n",
    "print(longestCommonPrefix(test))"
   ]
  },
  {
   "cell_type": "code",
   "execution_count": 63,
   "metadata": {},
   "outputs": [
    {
     "name": "stdout",
     "output_type": "stream",
     "text": [
      "test...longestCommonPrefix\n",
      "['flower', 'flow', 'flight']\n",
      "<zip object at 0x000001FF387D9748>\n",
      "fl\n"
     ]
    }
   ],
   "source": [
    "def longestCommonPrefix_answer( strs:list)->str:\n",
    "    \"\"\"\n",
    "    最长相同前缀\n",
    "    \"\"\"\n",
    "    res = \"\"\n",
    "    print(zip(*strs))\n",
    "    for tmp in zip(*strs):#zip(*strs)表示每一个字母拉成一个元组\n",
    "        tmp_set = set(tmp)#构建不重复的元组\n",
    "        #set((1,2,3,4,1,2,3))\n",
    "        #>>>{1, 2, 3, 4}\n",
    "        if len(tmp_set) == 1:\n",
    "            res += tmp[0]\n",
    "        else:\n",
    "            break\n",
    "    return res\n",
    "\n",
    "\n",
    "print('test...longestCommonPrefix')\n",
    "test = [\"flower\",\"flow\",\"flight\"]\n",
    "print(test)\n",
    "print(longestCommonPrefix_answer(test))"
   ]
  },
  {
   "attachments": {},
   "cell_type": "markdown",
   "metadata": {},
   "source": [
    "### 查括号使用是否合法"
   ]
  },
  {
   "cell_type": "code",
   "execution_count": 64,
   "metadata": {},
   "outputs": [
    {
     "name": "stdout",
     "output_type": "stream",
     "text": [
      "test...isValid\n",
      "{[]})[]\n",
      "len=7\n",
      "i=0\n",
      "len=7\n",
      "i=1\n",
      "{\n",
      "{}\n",
      "{})\n",
      "{})[\n",
      "{})[]\n",
      "len=5\n",
      "i=0\n",
      ")\n",
      ")[\n",
      ")[]\n",
      "len=3\n",
      "i=0\n",
      "len=3\n",
      "i=1\n",
      ")\n",
      "False\n"
     ]
    }
   ],
   "source": [
    "def isValid( s:str) -> bool:\n",
    "    \"\"\"\n",
    "    自己写的过不了最后一个数量巨大的括号，运行太慢了\n",
    "    \"\"\"\n",
    "    dictkh={'(':0,')':1,'[':2,']':3,'{':4,'}':5}\n",
    "    flag=1\n",
    "    new_str = \"\"\n",
    "    while flag:#找到符合的子项就再次循环\n",
    "        flag=0\n",
    "        for i in range(len(s)-1):#从第一个开始查找符合的子项\n",
    "            print('len=%d'%len(s))\n",
    "            print('i=%d'%i)\n",
    "            if ( (dictkh.get(s[i])+1) == dictkh.get(s[i+1]) ) and (dictkh.get(s[i])%2==0):#如果符合删除符合的这两个\n",
    "                new_str = \"\"\n",
    "                for j in range(0, len(s)):#同s[0,2]，range(0,2)也只有0和1\n",
    "                    if j != i and j != i+1:\n",
    "                        new_str = new_str +s[j]\n",
    "                        print(new_str)\n",
    "                s=new_str\n",
    "                flag=1\n",
    "                break\n",
    "    if s==\"\":\n",
    "        return True\n",
    "    else:\n",
    "        return False\n",
    "    \n",
    "print('test...isValid')\n",
    "test = \"{[]})[]\"\n",
    "print(test)\n",
    "print(isValid(test))"
   ]
  },
  {
   "cell_type": "code",
   "execution_count": 65,
   "metadata": {},
   "outputs": [
    {
     "name": "stdout",
     "output_type": "stream",
     "text": [
      "test...isValid\n",
      "{[]})[]\n",
      "False\n"
     ]
    }
   ],
   "source": [
    "\n",
    "\n",
    "def isValid_answer( s):\n",
    "    \"\"\"\n",
    "    查括号使用是否合法的答案\n",
    "    \"\"\"\n",
    "    dic = {'{': '}',  '[': ']', '(': ')', '?': '?'}\n",
    "    stack = ['?']\n",
    "    for c in s:\n",
    "        if c in dic: stack.append(c)\n",
    "        elif dic[stack.pop()] != c: return False \n",
    "    return len(stack) == 1\n",
    "\n",
    "print('test...isValid')\n",
    "test = \"{[]})[]\"\n",
    "print(test)\n",
    "print(isValid_answer(test))"
   ]
  },
  {
   "attachments": {},
   "cell_type": "markdown",
   "metadata": {},
   "source": [
    "### 查找子字符串的位置"
   ]
  },
  {
   "cell_type": "code",
   "execution_count": 66,
   "metadata": {},
   "outputs": [
    {
     "name": "stdout",
     "output_type": "stream",
     "text": [
      "test...strStr\n",
      "0\n",
      "i\n",
      "s\n",
      "s\n",
      "d\n",
      "1\n",
      "2\n",
      "3\n",
      "4\n",
      "i\n",
      "s\n",
      "s\n",
      "d\n",
      "o\n",
      "4\n"
     ]
    }
   ],
   "source": [
    "\n",
    "\n",
    "def strStr(haystack: str, needle: str) -> int:\n",
    "    \"\"\"\n",
    "    查找子字符串的位置\n",
    "    \"\"\"\n",
    "    if len(needle)==0:\n",
    "        return 0\n",
    "    else:\n",
    "        for i in range(len(haystack)):\n",
    "            print(i)          \n",
    "            if  haystack[i]==needle[0]:\n",
    "                p=i\n",
    "                j=0\n",
    "                for i in range(len(needle)):\n",
    "                    if p<len(haystack):\n",
    "                        if haystack[p]==needle[j]:\n",
    "                            print(haystack[p])\n",
    "                            p+=1\n",
    "                            j+=1\n",
    "                        else:\n",
    "                            break\n",
    "                    else:\n",
    "                        break\n",
    "                if j==len(needle):\n",
    "                    return p-len(needle)\n",
    "\n",
    "        else:\n",
    "            return -1\n",
    "\n",
    "print('test...strStr')\n",
    "s1='issdissdop'\n",
    "s2='issdo'\n",
    "print(strStr(s1,s2))\n"
   ]
  },
  {
   "attachments": {},
   "cell_type": "markdown",
   "metadata": {},
   "source": [
    "# 数组"
   ]
  },
  {
   "attachments": {},
   "cell_type": "markdown",
   "metadata": {},
   "source": [
    "### 两数之和:给定一个整数数组 nums和一个整数目标值 target,请你在该数组中找出 和为目标值"
   ]
  },
  {
   "cell_type": "code",
   "execution_count": 67,
   "metadata": {},
   "outputs": [
    {
     "name": "stdout",
     "output_type": "stream",
     "text": [
      "test...twoSum\n",
      "[2, 7, 11, 15]\n",
      "[0, 1]\n"
     ]
    }
   ],
   "source": [
    "def twoSum(nums:list, target:int)->list:\n",
    "        '''\n",
    "        两数之和:给定一个整数数组 nums和一个整数目标值 target,请你在该数组中找出 和为目标值\n",
    "        target 的那 两个 整数，并返回它们的数组下标。你可以假设每种输入只会对应一个答案。\n",
    "        但是，数组中同一个元素在答案里不能重复出现。你可以按任意顺序返回答案\n",
    "        \n",
    "        '''\n",
    "        for i in range(len(nums)-1):\n",
    "            for j in range(i+1,len(nums)):\n",
    "                if nums[i]+nums[j]==target:\n",
    "                #两层循环，第二层从第一次i的位置开始，这样避免同一个下标\n",
    "                    return [i,j]\n",
    "\n",
    "\n",
    "print('test...twoSum')                \n",
    "list1=[2,7,11,15]\n",
    "print(list1)\n",
    "print(twoSum(list1,9))"
   ]
  },
  {
   "attachments": {},
   "cell_type": "markdown",
   "metadata": {},
   "source": [
    "### 给定一个排序数组和一个目标值，在数组中找到目标值，并返回其索引。如果目标值不存在于数组中，返回它将会被按顺序插入的位置"
   ]
  },
  {
   "cell_type": "code",
   "execution_count": 68,
   "metadata": {},
   "outputs": [
    {
     "name": "stdout",
     "output_type": "stream",
     "text": [
      "test...searchInsert\n",
      "3\n",
      "[1, 2, 3, 4, 5, 6, 7]\n"
     ]
    }
   ],
   "source": [
    "\n",
    "def searchInsert(nums:list, target:int)-> int:\n",
    "    \"\"\"\n",
    "    给定一个排序数组和一个目标值，在数组中找到目标值，\n",
    "    并返回其索引。如果目标值不存在于数组中，返回它将会被按顺序插入的位置。\n",
    "    \"\"\"\n",
    "    if len(nums)==1:\n",
    "        if nums[0]>target:\n",
    "            nums.insert(0,target)\n",
    "            return 0\n",
    "        elif nums[0]==target:\n",
    "            return 0\n",
    "        else:\n",
    "            nums.insert(1,target)\n",
    "            return 1\n",
    "\n",
    "    elif nums[len(nums)-1]==target:    \n",
    "        return len(nums)-1\n",
    "    else:\n",
    "\n",
    "        for i in range(len(nums)-1):\n",
    "            if nums[0]>target:\n",
    "                nums.insert(0,target)\n",
    "                return 0\n",
    "            else:    \n",
    "                if nums[i]==target:\n",
    "                    return i\n",
    "                else:\n",
    "                    if  nums[i]<target<nums[i+1]:\n",
    "                        nums.insert(i+1,target)\n",
    "                        return i+1\n",
    "        nums.append(target)\n",
    "        return len(nums)-1\n",
    "        \n",
    "print('test...searchInsert')\n",
    "s1=[1,2,3,5,6,7]\n",
    "s2=4\n",
    "print(searchInsert(s1,s2))\n",
    "print(s1)"
   ]
  },
  {
   "attachments": {},
   "cell_type": "markdown",
   "metadata": {},
   "source": [
    "### 给你一个 升序排列 的数组 nums ，请你 原地 删除重复出现的元素"
   ]
  },
  {
   "cell_type": "code",
   "execution_count": 69,
   "metadata": {},
   "outputs": [
    {
     "name": "stdout",
     "output_type": "stream",
     "text": [
      "test...removeDuplicates\n",
      "[1, 2, 2, 3, 3, 3, 4, 4]\n",
      "4\n",
      "[1, 2, 3, 4]\n"
     ]
    }
   ],
   "source": [
    "\n",
    "def removeDuplicates( nums:list)-> int:\n",
    "    \"\"\"\n",
    "    给你一个 升序排列 的数组 nums ，请你 原地 删除重复出现的元素，\n",
    "    使每个元素 只出现一次 ，返回删除后数组的新长度。元素的】相对顺序】应该保持 一致 。\n",
    "    :type nums: List[int]\n",
    "    :rtype: int\n",
    "    assert\n",
    "    \"\"\"\n",
    "    i=0\n",
    "    lens=len(nums)\n",
    "    while i<lens-1:          \n",
    "        if nums[i]==nums[i+1]:\n",
    "            del nums[i]\n",
    "            lens-=1\n",
    "            continue\n",
    "        i+=1\n",
    "\n",
    "    return lens\n",
    "\n",
    "print('test...removeDuplicates')\n",
    "test = [1,2,2,3,3,3,4,4]\n",
    "print(test)\n",
    "print(removeDuplicates(test))\n",
    "print(test)\n"
   ]
  },
  {
   "attachments": {},
   "cell_type": "markdown",
   "metadata": {},
   "source": [
    "### 返回最后一个单词的长度"
   ]
  },
  {
   "cell_type": "code",
   "execution_count": 70,
   "metadata": {},
   "outputs": [
    {
     "name": "stdout",
     "output_type": "stream",
     "text": [
      "test...lengthOfLastWord\n",
      "22\n",
      "5\n"
     ]
    }
   ],
   "source": [
    "\n",
    "def lengthOfLastWord(s:str)->int:\n",
    "    \"\"\"\n",
    "    返回最后一个单词的长度\n",
    "    \"\"\"\n",
    "    for i in range(len(s)):\n",
    "        if  s[len(s)-1-i]!=' ':\n",
    "            start=len(s)-1-i\n",
    "            print(start)\n",
    "            break\n",
    "    for i in range(len(s)):\n",
    "        if  (len(s)-1-i)<=start and s[len(s)-1-i]==' ':\n",
    "            index=len(s)-i\n",
    "            return i-(len(s)-1-start)\n",
    "    return len(s)-(len(s)-1-start)\n",
    "\n",
    "print('test...lengthOfLastWord')\n",
    "s1= '  wd  wdwdw dwdw  fishc  '\n",
    "print(lengthOfLastWord(s1))"
   ]
  },
  {
   "cell_type": "code",
   "execution_count": 15,
   "metadata": {},
   "outputs": [
    {
     "data": {
      "text/plain": [
       "Text(0, 0.5, '发现概率')"
      ]
     },
     "execution_count": 15,
     "metadata": {},
     "output_type": "execute_result"
    },
    {
     "data": {
      "image/png": "[encoded data removed]",
      "text/plain": [
       "<Figure size 640x480 with 1 Axes>"
      ]
     },
     "metadata": {},
     "output_type": "display_data"
    }
   ],
   "source": [
    "import numpy as np\n",
    "import matplotlib.pyplot as plt\n",
    "from matplotlib import font_manager\n",
    "x = [0.015,0.02,0.025,0.03,0.035,0.04,0.045,0.5]\n",
    "data = [0.0029,0.00046,0.000072,0.000018,0.0000018,0.00000027,0.0000000034,0.0000000037]\n",
    "x = [1, 2, 3, 4, 5, 6, 7, 8, 9, 10, 11, 12, 13, 14, 15, 16]\n",
    "data = [7.5,8.19,8.23,10.58,10,10.4,11.11,12,11.5,12.63,13.15,12.63,12.43,12.22,11.63,11.15]\n",
    "x = [0.000000001,0.00000001,0.0000001,0.000001,0.00001,0.0001,0.001]\n",
    "data = [1.8,5.7,15.6,34.5,61.1,85.4,97.1]\n",
    "y = [np.mean(i) for i in data]\n",
    "plt.plot(x, y, linewidth=1, color=\"orange\", marker=\"o\",label=\"Mean value\")\n",
    "my_font=font_manager.FontProperties(fname=\"C:\\Windows\\Fonts\\SIMLI.TTF\",size=20)\n",
    "plt.legend([\"Mean value\",\"Standard deviation\"],loc=\"upper left\")#设置线条标识\n",
    "plt.grid()  # 设置网格模式\n",
    "plt.xlabel(\"虚警概率\",fontproperties=my_font)\n",
    "plt.ylabel(\"发现概率\",fontproperties=my_font)"
   ]
  },
  {
   "cell_type": "code",
   "execution_count": null,
   "metadata": {},
   "outputs": [],
   "source": []
  }
 ],
 "metadata": {
  "kernelspec": {
   "display_name": "Python 3",
   "language": "python",
   "name": "python3"
  },
  "language_info": {
   "codemirror_mode": {
    "name": "ipython",
    "version": 3
   },
   "file_extension": ".py",
   "mimetype": "text/x-python",
   "name": "python",
   "nbconvert_exporter": "python",
   "pygments_lexer": "ipython3",
   "version": "3.7.13"
  },
  "orig_nbformat": 4
 },
 "nbformat": 4,
 "nbformat_minor": 2
}
