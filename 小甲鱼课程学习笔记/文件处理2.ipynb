{
 "cells": [
  {
   "cell_type": "markdown",
   "metadata": {},
   "source": [
    "# 文件操作"
   ]
  },
  {
   "cell_type": "markdown",
   "metadata": {},
   "source": [
    "## sys\n"
   ]
  },
  {
   "cell_type": "markdown",
   "metadata": {},
   "source": [
    "### 接收用户输入并且保存为新的文件'"
   ]
  },
  {
   "cell_type": "code",
   "execution_count": null,
   "metadata": {},
   "outputs": [],
   "source": [
    "#第29讲\n",
    "import sys\n",
    "\n",
    "def file_write(file_name):\n",
    "    \n",
    "    f=open(file_name,\"w\")\n",
    "    print(\"请输入，输入的内容为\\\":w\\\"保存并退出\")\n",
    "    while True:\n",
    "        write_some =input()\n",
    "        if write_some != \":w\":\n",
    "            f.write(\"%s\\n\"%write_some)#字符串还能这样写\n",
    "        else:\n",
    "            break\n",
    "    f.close()\n",
    "\n",
    "file_name = input(\"输入文件名\")\n",
    "file_write(\".\\data\\\\\"+file_name)\n",
    "\n",
    "\n"
   ]
  },
  {
   "cell_type": "markdown",
   "metadata": {},
   "source": [
    "### '把指定路径的文件的前N行内容打印到屏幕'"
   ]
  },
  {
   "cell_type": "code",
   "execution_count": null,
   "metadata": {},
   "outputs": [],
   "source": [
    "import sys\n",
    "\n",
    "\n",
    "def file_view(file_name, line_num):\n",
    "    '把指定路径的文件的前N行内容打印到屏幕'\n",
    "    print('\\n文件%s的前%s的内容如下: \\n' %(file_name, line_num))\n",
    "    f = open (file_name,\"r\", encoding=\"utf-8\")#这里需要设置为encoding=\"utf-8\"编码格式\n",
    "  #  f = open (file_name)\n",
    "    for i in range (int (line_num)):\n",
    "        print(f.readline(), end= '')\n",
    "    f.close()\n",
    "file_name = input (r'请输入要打开的文件(C: (test.txt)：')\n",
    "line_num = input('请输入需要显示该文件前几行：')\n",
    "file_view(\".\\\\data\\\\\"+file_name, line_num)\n",
    "\n"
   ]
  },
  {
   "cell_type": "markdown",
   "metadata": {},
   "source": [
    "### '编写一个函数可以把输入路径的文件的一个字符串全部替换成新的字符串'"
   ]
  },
  {
   "cell_type": "code",
   "execution_count": null,
   "metadata": {},
   "outputs": [],
   "source": [
    "import sys\n",
    "\n",
    "def file_replace(file_name, rep_word, new_word):\n",
    "    '编写一个函数可以把输入路径的文件的一个字符串全部替换成新的字符串'\n",
    "    f_read = open (file_name,\"r\", encoding=\"utf-8\")\n",
    "    content= []\n",
    "    count = 0 \n",
    "    for eachline in f_read:#!!这里的f_read是一个迭代对象，并且每一行都是\n",
    "        if rep_word in eachline:\n",
    "            count += eachline.count (rep_word)#count减觉应该用这个\n",
    "            eachline = eachline.replace(rep_word,new_word)\n",
    "        content.append (eachline)\n",
    "    decide = input('\\n文件%s共有%s个【%s】\\n确认全部【%s】替换【%s】?\\n' \\\n",
    "                   %(file_name, count, rep_word, rep_word,new_word))\n",
    "    if decide in ('YES', 'Yes', 'yes'):\n",
    "        f_write = open(file_name, 'w')\n",
    "        f_write.writelines(content)\n",
    "        f_write. close()\n",
    "file_name=input('请输入文件名：')\n",
    "rep_word,=input('请输入需替换单词：')\n",
    "new_word=input('请输入新单词：')\n",
    "file_replace(file_name, rep_word, new_word)\n",
    "\n"
   ]
  },
  {
   "cell_type": "markdown",
   "metadata": {},
   "source": [
    "## os"
   ]
  },
  {
   "cell_type": "markdown",
   "metadata": {},
   "source": [
    "\n",
    "- getcwd()                  \n",
    "\n",
    "    返回当前工作目录\n",
    "- chdir(path)               \n",
    "\n",
    "    改变工作目录\n",
    "- listdir(path='.')         \n",
    "\n",
    "    列举指定目录中的文件名（'.'表示当前目录，'..'表示上一级目录）!!!!\n",
    "- mkdir(path)               \n",
    "\n",
    "    创建单层目录，如该目录已存在抛出异常\n",
    "- makedirs(path)            \n",
    "\n",
    "    递归创建多层目录，如该目录已存在抛出异常，注意：'E:\\\\a\\\\b'和'E:\\\\a\\\\c'并不会冲突\n",
    "- remove(path)              \n",
    "\n",
    "    删除文件\n",
    "- rmdir(path)               \n",
    "\n",
    "    删除单层目录，如该目录非空则抛出异常\n",
    "- removedirs(path)          \n",
    "\n",
    "    递归删除目录，从子目录到父目录逐层尝试删除，遇到目录非空则抛出异常\n",
    "- rename(old, new)          \n",
    "\n",
    "    将文件old重命名为newj,路径不一样可以移动位置               "
   ]
  },
  {
   "cell_type": "code",
   "execution_count": 2,
   "metadata": {},
   "outputs": [],
   "source": [
    "\n",
    "#os 模块操作系统\n",
    "import os\n",
    "os.getcwd()\n",
    "os.listdir()\n",
    "\n",
    "#os.system('cmd')  #打开命令行\n",
    "#os.system('calc') #打开计算器\n"
   ]
  },
  {
   "cell_type": "markdown",
   "metadata": {},
   "source": [
    "## 文件查询内容功能"
   ]
  },
  {
   "cell_type": "code",
   "execution_count": null,
   "metadata": {},
   "outputs": [],
   "source": [
    "\n",
    "\n",
    "import os\n",
    "\n",
    "def print_pos(key_dict):\n",
    "    '输入的是关键字和关键字的位置的字典'\n",
    "    keys = key_dict.keys()\n",
    "    keys = sorted(keys)# 由于字典是无序的，我们这里对行数进行排序\n",
    "\n",
    "    for each_key in keys:\n",
    "        print('关键字出现在第%s行，第 %s个位置' %(each_key, str(key_dict[each_key])))\n",
    "\n",
    "    \n",
    "def pos_in_line(line, key):\n",
    "    '输入一行字符串和关键字，返回这一行的列位置的列表'\n",
    "    pos =[]\n",
    "    begin = line.find(key)\n",
    "    while begin != -1:#如果没有找到，会返回-1\n",
    "        pos.append(begin+1)#用户的角度是从1开始数\n",
    "        begin =  line.find(key, begin+1)#从下一个位置继续查找\n",
    "    return pos\n",
    "\n",
    "def search_in_file(file_name, key):\n",
    "    '输入文件名字，返回一个列表，字典的键是行，值是列位置的列表'\n",
    "    '''print(search_in_file('C:\\\\Users\\\\wangkai\\\\Desktop\\\\重命名.txt', '的'))'''\n",
    "    f = open (file_name,\"r\", encoding=\"utf-8\")\n",
    "    count = 0#记录行数\n",
    "    key_dict = dict()#字典，用户存放key所在行，值对应具体位置\n",
    "    for each_line in f:\n",
    "        count += 1\n",
    "        if key in each_line:\n",
    "            pos = pos_in_line(each_line,key)# pos里key在每行的列位置\n",
    "            key_dict[count] = pos\n",
    "    f.close()\n",
    "    return key_dict\n",
    "\n",
    "def search_files(key, detail):\n",
    "    '输入关键字，返回所在的位置的顶层文件'\n",
    "    all_files = os.walk(os.getcwd())\n",
    "    #遍历top路径以下所有的子目录，返回一个三元组：(路径, [包含目录], [包含文件])\n",
    "    txt_files = []\n",
    "    for i in all_files:#i中是一个元组，元组的元素是每一类文件的列表\n",
    "        for each_file in i[2]:#i[2]中是文本文件\n",
    "            if os.path.splitext(each_file)[1] =='.py':\n",
    "            #split(path)分割文件名与路径，返回(f_path, f_name)元组\n",
    "                each_file = os.path.join(i[0],each_file)#i(0)是父文件路径\n",
    "                txt_files.append(each_file)\n",
    "    for each_txt_file in txt_files:\n",
    "        key_dict = search_in_file(each_txt_file, key)\n",
    "        if key_dict:\n",
    "            print('======================================================')\n",
    "            print('在文件【%s】中找到关键字【%s】'%(each_txt_file, key))\n",
    "        if detail in ['YES', 'Yes', 'yes']:\n",
    "            print_pos(key_dict)\n",
    "key =input('将该脚本放入文件夹内，输入查找的关键字：')\n",
    "detail=input('是否需要打印关键字【%s】在文件中的具体位置 (YES/NO) ：'% key)\n",
    "search_files(key, detail)\n",
    "\n",
    "import time\n",
    "while 1:\n",
    "    time.sleep(1000)\n",
    "    \n"
   ]
  },
  {
   "cell_type": "markdown",
   "metadata": {},
   "source": [
    "\n",
    "使用pickle.dump需要用'wb'open模式打开文件\n",
    "\n",
    "读取文件时候需要使用pickle.load需要用'rb'模式打开文件\n"
   ]
  }
 ],
 "metadata": {
  "kernelspec": {
   "display_name": "Python 3.10.4 64-bit",
   "language": "python",
   "name": "python3"
  },
  "language_info": {
   "codemirror_mode": {
    "name": "ipython",
    "version": 3
   },
   "file_extension": ".py",
   "mimetype": "text/x-python",
   "name": "python",
   "nbconvert_exporter": "python",
   "pygments_lexer": "ipython3",
   "version": "3.10.4"
  },
  "orig_nbformat": 4,
  "vscode": {
   "interpreter": {
    "hash": "d533ad8ead974ef2863af58c6dd965ec76a73ec9b0d6bfff6efc64af475660a3"
   }
  }
 },
 "nbformat": 4,
 "nbformat_minor": 2
}
