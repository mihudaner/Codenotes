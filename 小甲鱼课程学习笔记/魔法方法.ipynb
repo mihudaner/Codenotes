{
 "cells": [
  {
   "cell_type": "markdown",
   "metadata": {},
   "source": [
    "# 魔法方法"
   ]
  },
  {
   "cell_type": "markdown",
   "metadata": {},
   "source": [
    "__call__魔法方法，"
   ]
  },
  {
   "cell_type": "markdown",
   "metadata": {},
   "source": [
    "- \\_\\_init__    之前最多用的就是__init__,init返回的必须是NONE\n",
    "- \\_\\_new__    一个对象实例化时候调用***的第一个方法不是__init__而是__new__***"
   ]
  },
  {
   "cell_type": "code",
   "execution_count": 12,
   "metadata": {},
   "outputs": [
    {
     "name": "stdout",
     "output_type": "stream",
     "text": [
      "<class '__main__.Capstr'>\n"
     ]
    }
   ],
   "source": [
    "\n",
    "\n",
    "class Capstr(str):\n",
    "    def __new__(cls,string):#new是一个类方法\n",
    "        string = string.upper()\n",
    "        print(cls)\n",
    "        return str.__new__(cls,string)\n",
    "    def myfun(self):#myfun是一个实例方法\n",
    "        print(self)\n",
    "a=Capstr('wagnkai')\n"
   ]
  },
  {
   "cell_type": "markdown",
   "metadata": {},
   "source": [
    "- \\_\\_del__  删除\n",
    "- python无处不对象，加法其实就是把两个int对象进行加法操作\n",
    "- \\_\\_sub__  减法\n",
    "- \\_\\_add__  加法"
   ]
  },
  {
   "cell_type": "code",
   "execution_count": 2,
   "metadata": {},
   "outputs": [
    {
     "name": "stdout",
     "output_type": "stream",
     "text": [
      "8\n"
     ]
    }
   ],
   "source": [
    "\n",
    "\n",
    "type(int)\n",
    "class New_int(int):\n",
    "    def __sub__(self,other):\n",
    "        return int.__sub__(self,other)#不能写成self + other 因为会再次调用\n",
    "    def __add__(self,other):\n",
    "        return int.__add__(self,other)\n",
    "a=New_int(5)\n",
    "b=New_int(3)\n",
    "print(a+b)\n"
   ]
  },
  {
   "cell_type": "markdown",
   "metadata": {},
   "source": [
    "- 反运算rsub这样一般在前面加一个r"
   ]
  },
  {
   "cell_type": "code",
   "execution_count": 3,
   "metadata": {},
   "outputs": [
    {
     "name": "stdout",
     "output_type": "stream",
     "text": [
      "-2\n"
     ]
    }
   ],
   "source": [
    "\n",
    "class rint(int):\n",
    "    def __sub__(self,other):\n",
    "        return int.__rsub__(self,other)\n",
    "a=rint(5)\n",
    "b=rint(3)\n",
    "print(a-b)"
   ]
  },
  {
   "cell_type": "markdown",
   "metadata": {},
   "source": [
    "### 第41讲 例：定义一个类继承int类型，输入是字符串时候，返回所有字符的ASICC码之和"
   ]
  },
  {
   "cell_type": "code",
   "execution_count": null,
   "metadata": {},
   "outputs": [],
   "source": [
    "\n",
    "\n",
    "class Nint(int):\n",
    "    def __new__(cls,arg=0):\n",
    "        if isinstance(arg,str):#判断是否是字符串\n",
    "            total=0\n",
    "            for each in arg:\n",
    "                total += ord(each)#求ASICC码之和\n",
    "            arg=total\n",
    "        return int.__new__(cls,arg)\n",
    "a=Nint('wangkai')\n",
    "\n",
    "\n"
   ]
  },
  {
   "cell_type": "markdown",
   "metadata": {},
   "source": [
    "###  如果要继承的基类是动态的，可以通过继承一个别名，以便基类可以更变\n",
    " 例：定义一个类当实例化时候自动判断传入了多少个参数"
   ]
  },
  {
   "cell_type": "code",
   "execution_count": null,
   "metadata": {},
   "outputs": [],
   "source": [
    "\n",
    "class C:\n",
    "    def __init__(self,*args):\n",
    "        if not args:\n",
    "            print('没有参数传入')\n",
    "        else:\n",
    "            print('传入了%d个参数'%len(args),end='')\n",
    "            for each in args:\n",
    "                print(each,end='')\n",
    "\n"
   ]
  },
  {
   "cell_type": "markdown",
   "metadata": {},
   "source": [
    "### 魔法方法之属性访问\n",
    "-  t1__dict__ 字典方式返回属性\n",
    "-  t1__getattr__(self,name )- 定义当用户试图获取一个不存在的属性时的行为\n",
    "-  t1__getattribute__(self. name)一定义当该类的属性被访问时的行为\n",
    "-  t1__setattr__(self， name, value )一定义当一个属性被设置时的行为\n",
    "-  t1__delattr__(self,- name )一定义当一个属性被删除时的行为"
   ]
  },
  {
   "cell_type": "code",
   "execution_count": null,
   "metadata": {},
   "outputs": [],
   "source": [
    "\n",
    "class C:\n",
    "    def __getattribute__(self,name):\n",
    "        print('getattribute')\n",
    "        return super().__getattribute__(name)\n",
    "    def __getattr__(self,name):\n",
    "        print('getattr')\n",
    "    def __setattr__(self,name,value):\n",
    "        print('serattr')\n",
    "        super().__setattr__(name,value)\n",
    "    def __delattr__(self,name):\n",
    "        print('delattr')\n",
    "        super().__delattr__(name)\n",
    "c=C()\n",
    "c.x\n",
    "c.x=1\n",
    "c.x\n",
    "del c.x\n"
   ]
  },
  {
   "cell_type": "markdown",
   "metadata": {},
   "source": [
    "### 描述符类用法"
   ]
  },
  {
   "cell_type": "code",
   "execution_count": 10,
   "metadata": {},
   "outputs": [
    {
     "name": "stdout",
     "output_type": "stream",
     "text": [
      "getting <__main__.mydecripter object at 0x00000178C17D3940> <__main__.Test object at 0x00000178C174EEF0> 1\n"
     ]
    }
   ],
   "source": [
    "\n",
    "#描述符类用法\n",
    "class mydecripter:\n",
    "    def __get__(self,instance,owner):\n",
    "        print('getting',self,instance,owner)\n",
    "        #self实例对象,instance拥有者对象,owner内容\n",
    "    def __set__(self,instance,owner):\n",
    "        print('getting',self,instance,owner)\n",
    "    def __del__(self,instance,owner):\n",
    "        print('getting',self,instance)\n",
    "class Test():\n",
    "    x=mydecripter()\n",
    "test=Test()\n",
    "test.x=1\n"
   ]
  },
  {
   "cell_type": "code",
   "execution_count": 11,
   "metadata": {},
   "outputs": [
    {
     "data": {
      "text/plain": [
       "'Xman'"
      ]
     },
     "execution_count": 11,
     "metadata": {},
     "output_type": "execute_result"
    }
   ],
   "source": [
    "\n",
    "\n",
    "class Myproperty:#描述符类\n",
    "    '''#自己写一个property函数'''\n",
    "    def __init__(self,fget=None,fset=None,fdel=None):\n",
    "        self.fget=fget\n",
    "        self.fset=fset\n",
    "        self.fdel=fdel\n",
    "    \n",
    "    def __get__(self,instance,owner):#__get__这个传入的参数必须是三个\n",
    "        return self.fget(instance)\n",
    "    def __set__(self,instance,value):\n",
    "        self.fset(instance,value)\n",
    "    def __delete__(self,instance):\n",
    "        self.fdel(instance)\n",
    "        \n",
    "class C:\n",
    "    def __init__(self):\n",
    "        self._x=None\n",
    "    def getx(self):\n",
    "        return self._x\n",
    "    def setx(self,value):\n",
    "        self._x=value\n",
    "    def delx(self):\n",
    "        del self._x\n",
    "    x=Myproperty(getx,setx,delx)\n",
    "c=C()\n",
    "c.x='Xman'#在给x赋值的时候调用__get__，再调用了getx(c)\n",
    "c.x\n",
    "\n"
   ]
  },
  {
   "cell_type": "markdown",
   "metadata": {},
   "source": [
    "### 计时器类"
   ]
  },
  {
   "cell_type": "code",
   "execution_count": null,
   "metadata": {},
   "outputs": [],
   "source": [
    "import time as t\n",
    "\n",
    "class mytime():\n",
    "    def __init__(self):\n",
    "        self.unit=['年','月','日','小时','分钟','秒']\n",
    "        self.prompt = '未开始计时'\n",
    "        self.lasted =[]\n",
    "        self.begin=0\n",
    "        self.end=0\n",
    "    def __str__(self):\n",
    "        return self.prompt\n",
    "    \n",
    "    __repr__ =__str__\n",
    "\n",
    "    def __add__(self,other):\n",
    "        prompt = '总共运行了'\n",
    "        result=[]\n",
    "        for index in range(6):\n",
    "            result.append(self.lasted[index]+other.lasted[index])\n",
    "            if result[index]:\n",
    "                prompt +=str(str(result[index])+self.unit[index])\n",
    "        return prompt\n",
    "    def start(self):\n",
    "        '''开始计时'''\n",
    "        self.begin=t.localtime()\n",
    "        self.prompt = '需要先停止计时'\n",
    "        print('计时开始'+str(self.begin))\n",
    "    def stop(self):\n",
    "        if not self.begin:\n",
    "            print( '需要先开始计时')\n",
    "        else:\n",
    "            self.end=t.localtime()\n",
    "            self._calc()#内部方法\n",
    "            print('计时结束'+str(self.end))\n",
    "        \n",
    "    def _calc(self):\n",
    "        #内部方法，计算运行时间        \n",
    "        self.prompt = '总共运行了'\n",
    "        for index in range(6):\n",
    "            self.lasted.append(self.end[index]-self.begin[index])\n",
    "            if self.lasted[index]:\n",
    "                self.prompt +=str(str(self.lasted[index])+self.unit[index])\n",
    "        print(self.prompt)\n",
    "t1=mytime()\n",
    "t1.start()\n",
    "t2=mytime()\n",
    "t2.start()\n",
    "t.sleep(2)\n",
    "t1.stop()\n",
    "t2.stop()\n",
    "t1+t2\n"
   ]
  },
  {
   "cell_type": "markdown",
   "metadata": {},
   "source": [
    "### 定义一个温度类，有华氏度和摄氏度两个描述符属性"
   ]
  },
  {
   "cell_type": "code",
   "execution_count": null,
   "metadata": {},
   "outputs": [],
   "source": [
    "\n",
    "#定义一个温度类，有华氏度和摄氏度两个描述符属性\n",
    "class celsius:\n",
    "    def __init__(self,value=26.0):\n",
    "        self.value=float(value)\n",
    "\n",
    "    def __get__(self,instance,owner):#__get__这个传入的参数必须是三个\n",
    "        return self.value\n",
    "    def __set__(self,instance,value):\n",
    "        self.value=float(value)\n",
    "\n",
    "class fahrenheit:\n",
    "\n",
    "    def __get__(self,instance,owner):#__get__这个传入的参数必须是三个\n",
    "        return instance.cel*1.8+32\n",
    "    def __set__(self,instance,value):#华氏度的获取和设置都是通过摄氏度\n",
    "        instance.cel=(float(value)-32)/1.8\n",
    "\n",
    "class Temperature:\n",
    "    cel=celsius()\n",
    "    fah=fahrenheit()\n",
    "\n",
    "tp=Temperature()\n",
    "tp.cel=39.1\n",
    "tp.fah=100\n",
    "\n"
   ]
  },
  {
   "cell_type": "markdown",
   "metadata": {},
   "source": [
    "魔法方法__getitem__实现list列表功能"
   ]
  },
  {
   "cell_type": "code",
   "execution_count": null,
   "metadata": {},
   "outputs": [],
   "source": [
    "\n",
    "#容器类型的协议和定制\n",
    "class mylist:\n",
    "    '''不可变列表类，可以实现参数查看的次数'''\n",
    "    def __init__(self,*args):        \n",
    "        self.values=[x for x in args]\n",
    "        self.count = {}.fromkeys(range(len(self.values)),0)\n",
    "        #>>{0: 0, 1: 0, 2: 0, 3: 0, 4: 0, 5: 0}\n",
    "    def __len__(self):\n",
    "        return len(self.values)\n",
    "    def __getitem__(self,key):\n",
    "        self.count[key]+=1\n",
    "        return self.values[key]\n",
    "\n",
    "list1=mylist(3,12,'wk',5,64,8)      \n",
    "list1[2]#会自动调用getitem魔法方法\n",
    "#>>>'wk'\n",
    "list1.count\n",
    "#>>>{0: 0, 1: 0, 2: 2, 3: 0, 4: 0, 5: 0}    \n",
    "\n"
   ]
  },
  {
   "cell_type": "markdown",
   "metadata": {},
   "source": [
    "用__next__实现斐波那契数列"
   ]
  },
  {
   "cell_type": "code",
   "execution_count": null,
   "metadata": {},
   "outputs": [],
   "source": [
    "\n",
    "class Fibs:\n",
    "    '''斐波那契迭代器类'''\n",
    "    def __init__(self):\n",
    "        self.a=0\n",
    "        self.b=1\n",
    "    def __iter__(self):\n",
    "        return self\n",
    "    def __next__(self):\n",
    "        self.a,self.b=self.b,self.a+self.b\n",
    "        return self.a\n",
    "fibs1=Fibs()\n",
    "for each in fibs1:\n",
    "    if each <50:\n",
    "        print(each)\n",
    "    else:\n",
    "        break\n"
   ]
  },
  {
   "cell_type": "markdown",
   "metadata": {},
   "source": [
    "\\_\\_call__  实例对象直接调用方法"
   ]
  },
  {
   "cell_type": "code",
   "execution_count": 2,
   "metadata": {},
   "outputs": [
    {
     "name": "stdout",
     "output_type": "stream",
     "text": [
      "乌拉五阿里\n"
     ]
    }
   ],
   "source": [
    "class Fibs:\n",
    "    '''斐波那契迭代器类'''\n",
    "    def __call__(self):\n",
    "        print('乌拉五阿里')\n",
    "fibs1=Fibs()\n",
    "fibs1()"
   ]
  }
 ],
 "metadata": {
  "kernelspec": {
   "display_name": "Python 3.10.4 64-bit",
   "language": "python",
   "name": "python3"
  },
  "language_info": {
   "codemirror_mode": {
    "name": "ipython",
    "version": 3
   },
   "file_extension": ".py",
   "mimetype": "text/x-python",
   "name": "python",
   "nbconvert_exporter": "python",
   "pygments_lexer": "ipython3",
   "version": "3.10.4"
  },
  "orig_nbformat": 4,
  "vscode": {
   "interpreter": {
    "hash": "d533ad8ead974ef2863af58c6dd965ec76a73ec9b0d6bfff6efc64af475660a3"
   }
  }
 },
 "nbformat": 4,
 "nbformat_minor": 2
}
