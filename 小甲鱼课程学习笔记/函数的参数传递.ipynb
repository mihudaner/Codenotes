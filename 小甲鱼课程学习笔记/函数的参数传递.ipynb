{
 "cells": [
  {
   "cell_type": "markdown",
   "metadata": {},
   "source": [
    "# 函数"
   ]
  },
  {
   "cell_type": "markdown",
   "metadata": {},
   "source": [
    "### 创建和调用函数"
   ]
  },
  {
   "cell_type": "code",
   "execution_count": null,
   "metadata": {},
   "outputs": [],
   "source": [
    "\n",
    "def myfunc(name,times):\n",
    "    for i in range(times):\n",
    "        print(f\"i recogenize {name}\")\n",
    "        \n",
    "x='fishc'\n",
    "myfunc(x,5)\n",
    "\n",
    "\n"
   ]
  },
  {
   "cell_type": "markdown",
   "metadata": {},
   "source": [
    "### 函数返回值"
   ]
  },
  {
   "cell_type": "markdown",
   "metadata": {},
   "source": [
    "位置传递参数"
   ]
  },
  {
   "cell_type": "code",
   "execution_count": null,
   "metadata": {},
   "outputs": [],
   "source": [
    "\n",
    "#形式参数和实际参数\n",
    "def div(x,y):\n",
    "    if y==0:\n",
    "        return \"除数不能为零\"\n",
    "    else:\n",
    "        z=x/y\n",
    "        return z\n",
    "print(div(8,0))\n"
   ]
  },
  {
   "cell_type": "markdown",
   "metadata": {},
   "source": [
    "### 参数传递的值还是地址"
   ]
  },
  {
   "cell_type": "markdown",
   "metadata": {},
   "source": [
    "int传入函数就是值，sharevalue,list的值是一个指针\n",
    "\n",
    "这里是给类传递参数，函数类似\n"
   ]
  },
  {
   "cell_type": "code",
   "execution_count": 24,
   "metadata": {},
   "outputs": [
    {
     "name": "stdout",
     "output_type": "stream",
     "text": [
      "10\n",
      "<Synchronized wrapper for c_long(5)>\n",
      "10\n",
      "<Synchronized wrapper for c_long(6)>\n"
     ]
    }
   ],
   "source": [
    "import multiprocessing as mp\n",
    "class dog():\n",
    "    def __init__(self,x,y) -> None:\n",
    "        self.old=x\n",
    "        self.long=y #所以这里赋值的是一个指针\n",
    "        \n",
    "x=10\n",
    "y=mp.Value('i',5)\n",
    "dog1=dog(x,y)\n",
    "print(dog1.old)\n",
    "print(dog1.long)\n",
    "x=11    #x修改但是old不会改变\n",
    "y.value=6   #y修改值，dog1的long值也会变\n",
    "print(dog1.old)\n",
    "print(dog1.long)"
   ]
  },
  {
   "cell_type": "markdown",
   "metadata": {},
   "source": [
    "传入函数内修改原列表会改变，所以传入的也是地址"
   ]
  },
  {
   "cell_type": "code",
   "execution_count": 2,
   "metadata": {},
   "outputs": [
    {
     "name": "stdout",
     "output_type": "stream",
     "text": [
      "[1, 3, 3]\n"
     ]
    }
   ],
   "source": [
    "def fun(list0):\n",
    "    list0[1]=list0[1]+1\n",
    "\n",
    "x=[1,2,3]\n",
    "fun(x)\n",
    "print(x) #传入函数内修改原列表会改变，所以传入的也是地址"
   ]
  },
  {
   "cell_type": "markdown",
   "metadata": {},
   "source": [
    "结果可见，传入的是int时候传入的只是一个值，但是一个对象时候是一个地址"
   ]
  },
  {
   "cell_type": "code",
   "execution_count": 8,
   "metadata": {},
   "outputs": [
    {
     "name": "stdout",
     "output_type": "stream",
     "text": [
      "10\n",
      "8\n",
      "10\n",
      "9\n"
     ]
    }
   ],
   "source": [
    "class dog():\n",
    "    def __init__(self, x, y) -> None:\n",
    "        self.old = x\n",
    "        self.long = y\n",
    "\n",
    "def fun(dog,para):\n",
    "    dog.old += 1\n",
    "    para += 1\n",
    "\n",
    "x=10\n",
    "dog1 = dog(8,10)\n",
    "\n",
    "print(x)\n",
    "print(dog1.old)\n",
    "\n",
    "fun(dog1,x)\n",
    "\n",
    "print(x)\n",
    "print(dog1.old)\n",
    "\n"
   ]
  },
  {
   "cell_type": "markdown",
   "metadata": {},
   "source": [
    "### 参数传递方法"
   ]
  },
  {
   "cell_type": "markdown",
   "metadata": {},
   "source": [
    "函数的参数传递除了位置传递还可以关键字参数传递"
   ]
  },
  {
   "cell_type": "code",
   "execution_count": null,
   "metadata": {},
   "outputs": [],
   "source": [
    "\n",
    "def myfunc1(x,y,z):\n",
    "    print(\"\".join((z,y,x)))  \n",
    "myfunc1(z='我',y='打',x='你')\n"
   ]
  },
  {
   "cell_type": "markdown",
   "metadata": {},
   "source": [
    "若使用默认参数，要把默认参数放到最后"
   ]
  },
  {
   "cell_type": "code",
   "execution_count": null,
   "metadata": {},
   "outputs": [],
   "source": [
    "\n",
    "def myfunc1(x,y,z='迷糊蛋'):\n",
    "     print(\"\".join((z,y,x)))  \n",
    "myfunc1(y='打',x='你')\n",
    "\n"
   ]
  },
  {
   "cell_type": "markdown",
   "metadata": {},
   "source": [
    "/反斜杠左侧参数不能用关键字参数传递，必须要位置参数传递"
   ]
  },
  {
   "cell_type": "code",
   "execution_count": null,
   "metadata": {},
   "outputs": [],
   "source": [
    "\n",
    "\n",
    "def myfunc2(x,/,y,z):\n",
    "  pass\n",
    "\n"
   ]
  },
  {
   "cell_type": "markdown",
   "metadata": {},
   "source": [
    "*右侧参数必须用关键字参数传递"
   ]
  },
  {
   "cell_type": "code",
   "execution_count": null,
   "metadata": {},
   "outputs": [],
   "source": [
    "\n",
    "\n",
    "def myfunc3(x,*,y,z):\n",
    "    pass\n"
   ]
  },
  {
   "cell_type": "markdown",
   "metadata": {},
   "source": [
    "***收集参数***，传入参数可多可少\n",
    "***args***其实是一个变量元组\n",
    "含有收集参数，则其他参数必须是关键字参数"
   ]
  },
  {
   "cell_type": "code",
   "execution_count": 1,
   "metadata": {},
   "outputs": [
    {
     "name": "stdout",
     "output_type": "stream",
     "text": [
      "(1, 2, 3, 4) 5 6\n"
     ]
    }
   ],
   "source": [
    "def myfunc4(*args,a,b):\n",
    "    print(args,a,b)\n",
    "myfunc4(1,2,3,4,a=5,b=6)\n",
    "\n"
   ]
  },
  {
   "cell_type": "markdown",
   "metadata": {},
   "source": [
    "输入参数组合成字典"
   ]
  },
  {
   "cell_type": "code",
   "execution_count": 1,
   "metadata": {},
   "outputs": [
    {
     "name": "stdout",
     "output_type": "stream",
     "text": [
      "{'a': 1, 'b': 2}\n",
      "1 (2, 3, 4, 5) {'fish': 1, 'cat': 2}\n"
     ]
    }
   ],
   "source": [
    "def myfunc5(**keywords):\n",
    "    print(keywords)\n",
    "myfunc5(a=1,b=2)\n",
    "\n",
    "\n",
    "#结合起来如下\n",
    "def myfunc6(a,*b,**c):\n",
    "    print(a,b,c)\n",
    "myfunc6(1,2,3,4,5,fish=1,cat=2)\n"
   ]
  },
  {
   "cell_type": "markdown",
   "metadata": {},
   "source": [
    "传入的参数解包"
   ]
  },
  {
   "cell_type": "code",
   "execution_count": null,
   "metadata": {},
   "outputs": [],
   "source": [
    "\n",
    "arg=(1,2,3)\n",
    "def myfunc7(a,b,c):\n",
    "    print(a,b,c)\n",
    "myfunc7(*arg)"
   ]
  },
  {
   "cell_type": "markdown",
   "metadata": {},
   "source": [
    "***字典传入对应参数的解包***"
   ]
  },
  {
   "cell_type": "code",
   "execution_count": 4,
   "metadata": {},
   "outputs": [
    {
     "name": "stdout",
     "output_type": "stream",
     "text": [
      "2 4 6\n"
     ]
    }
   ],
   "source": [
    "arg={'a':2,'b':4,'c':6}\n",
    "def myfunc7(a,b,c):\n",
    "    print(a,b,c)\n",
    "myfunc7(**arg)"
   ]
  },
  {
   "cell_type": "markdown",
   "metadata": {},
   "source": [
    "### '用欧几里得算法求最大公约数(辗转相除法)'"
   ]
  },
  {
   "cell_type": "code",
   "execution_count": 7,
   "metadata": {},
   "outputs": [
    {
     "name": "stdout",
     "output_type": "stream",
     "text": [
      "3\n"
     ]
    }
   ],
   "source": [
    "\n",
    "def gcd(x,y):\n",
    "    '用欧几里得算法求最大公约数(辗转相除法)'\n",
    "    while y:\n",
    "        t=x%y\n",
    "        x=y\n",
    "        y=t\n",
    "    return x\n",
    "\n",
    "print(gcd(9,30))\n"
   ]
  },
  {
   "cell_type": "markdown",
   "metadata": {},
   "source": [
    "### '十进制转二进制函数'  "
   ]
  },
  {
   "cell_type": "code",
   "execution_count": null,
   "metadata": {},
   "outputs": [],
   "source": [
    "\n",
    "\n",
    "def Dec2Bin(dec):\n",
    "    '十进制转二进制函数'  \n",
    "    temp = []\n",
    "    result = ''\n",
    "   \n",
    "    while dec:#取余存入列表\n",
    "        quo = dec % 2\n",
    "        dec = dec // 2\n",
    "        temp.append(quo)\n",
    "    while temp:#顺序倒过来pop到result\n",
    "        result += str(temp.pop())\n",
    "    return result\n",
    "\n",
    "print(Dec2Bin(62))\n",
    "help(Dec2Bin)#可以用help函数查看函数开头的函数文档\n"
   ]
  },
  {
   "cell_type": "markdown",
   "metadata": {},
   "source": [
    "### a) 计算打印所有参数的和乘以基数（base=3）的结果,\n",
    "\n",
    "\n",
    "### b) 如果参数中最后一个参数为（base=5），则设定基数为5，基数不参与求和计算"
   ]
  },
  {
   "cell_type": "code",
   "execution_count": null,
   "metadata": {},
   "outputs": [],
   "source": [
    "\n",
    "\n",
    "def myfunc1(*x,base=3):\n",
    "    sum=0\n",
    "    for each in x:\n",
    "        sum+=base\n",
    "    sum=sum*u\n",
    "    return sum\n"
   ]
  },
  {
   "cell_type": "markdown",
   "metadata": {},
   "source": [
    "### '''寻找水仙花数'''"
   ]
  },
  {
   "cell_type": "code",
   "execution_count": 5,
   "metadata": {},
   "outputs": [
    {
     "name": "stdout",
     "output_type": "stream",
     "text": [
      "153是水仙花数\n",
      "370是水仙花数\n",
      "371是水仙花数\n",
      "407是水仙花数\n"
     ]
    }
   ],
   "source": [
    "\n",
    "\n",
    "def Narcissus():\n",
    "    '''寻找水仙花数'''\n",
    "    for each in range(100,1000):\n",
    "        sum=0\n",
    "        list1=list(str(each))#也可以用地板除的方式\n",
    "        for x in list1:\n",
    "            sum+=int(x)**3\n",
    "        if sum == each:\n",
    "            print(f'{each}是水仙花数')\n",
    "Narcissus()"
   ]
  },
  {
   "cell_type": "markdown",
   "metadata": {},
   "source": [
    "### 编写一个函数 findstr()，该函数统计一个长度为 2 的子字符串在另一个字符串中出现的次数。"
   ]
  },
  {
   "cell_type": "code",
   "execution_count": 6,
   "metadata": {},
   "outputs": [
    {
     "name": "stdout",
     "output_type": "stream",
     "text": [
      "共出现3次\n"
     ]
    }
   ],
   "source": [
    "\n",
    "def findStr(Str,SubStr):\n",
    "    count=0\n",
    "    lenth=len(Str)\n",
    "    if SubStr not in Str:\n",
    "        print(\"未出现\")\n",
    "    else:\n",
    "        for cnt in range(lenth-1):\n",
    "            if Str[cnt]==SubStr[0]:\n",
    "                if Str[cnt+1]==SubStr[1]:\n",
    "                    count+=1\n",
    "        print(\"共出现{}次\".format(count))  \n",
    "findStr('You cannot improve your past, but you can improve your future. Once time is wasted, life is wasted.','im')\n",
    "\n"
   ]
  },
  {
   "cell_type": "markdown",
   "metadata": {},
   "source": [
    "### '判断输入字符串是否是回文'"
   ]
  },
  {
   "cell_type": "code",
   "execution_count": 2,
   "metadata": {},
   "outputs": [
    {
     "name": "stdout",
     "output_type": "stream",
     "text": [
      "adcdef\n",
      "该字符串不是回文\n"
     ]
    }
   ],
   "source": [
    "\n",
    "#第十九讲\n",
    "print(\"adc\",end='')\n",
    "print('def')\n",
    "\n",
    "def pal(string):\n",
    "    '判断输入字符串是否是回文'\n",
    "    list1=list(string)\n",
    "    list2=reversed(list1)\n",
    "    if list1==list2:\n",
    "        t= \"是\"\n",
    "    else:\n",
    "        t=\"不是\"\n",
    "    print(f\"该字符串{t}回文\")\n",
    "pal('上海自来水来自海上')\n",
    "\n",
    "\n"
   ]
  }
 ],
 "metadata": {
  "kernelspec": {
   "display_name": "Python 3.10.4 64-bit",
   "language": "python",
   "name": "python3"
  },
  "language_info": {
   "codemirror_mode": {
    "name": "ipython",
    "version": 3
   },
   "file_extension": ".py",
   "mimetype": "text/x-python",
   "name": "python",
   "nbconvert_exporter": "python",
   "pygments_lexer": "ipython3",
   "version": "3.10.4"
  },
  "orig_nbformat": 4,
  "vscode": {
   "interpreter": {
    "hash": "d533ad8ead974ef2863af58c6dd965ec76a73ec9b0d6bfff6efc64af475660a3"
   }
  }
 },
 "nbformat": 4,
 "nbformat_minor": 2
}
