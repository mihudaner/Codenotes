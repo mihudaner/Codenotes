{
 "cells": [
  {
   "cell_type": "markdown",
   "metadata": {},
   "source": [
    "# 爬虫"
   ]
  },
  {
   "cell_type": "markdown",
   "metadata": {},
   "source": [
    "- URL地址格式\n",
    "- 网络地址格式 https://www.bilibili.com/具体地址\n",
    "- http是协议，www.bilibili.com是域名"
   ]
  },
  {
   "cell_type": "code",
   "execution_count": 1,
   "metadata": {},
   "outputs": [
    {
     "name": "stdout",
     "output_type": "stream",
     "text": [
      "<!DOCTYPE html>\n",
      "<html lang=\"en\">\n",
      "<head>\n",
      "<meta charset=\"UTF-8\">\n",
      "<meta name=\"apple-mobile-web-app-capable\" content=\"yes\">\n",
      "<meta name=\"apple-touch-fullscreen\" content=\"yes\">\n",
      "<meta name=\"viewport\" content=\"width=device-width, initial-scale=1.0, maximum-scale=1.0\">\n",
      "<meta name=\"keywords\" content=\"鱼C工作室|免费编程视频教学|Python教学|Web开发教学|全栈开发教学|C语言教学|汇编教学|Win32开发|加密与解密|Linux教学\">\n",
      "<meta name=\"description\" content=\"鱼C工作室为大家提供最有趣的编程视频教学。\">\n",
      "<meta name=\"author\" content=\"鱼C工作室\">\n",
      "<title>鱼C工作室-免费编程视频教学|Python教学|Web开发教学|全栈开发教学|C语言教学|汇编教学|Win32开发|加密与解密|Linux教学</title>\n",
      "<link rel=\"shortcut icon\" type=\"image/x-icon\" href=\"img/favicon.ico\">\n",
      "<link rel=\"stylesheet\" href=\"css/styles.css\">\n",
      "<script src=\"js/jq.js\"></script>\n",
      "<script src=\"js/fishcEgg.js\"></script>\n",
      "<style>\n",
      "        html,\n",
      "        body {\n",
      "            height: 100%;\n",
      "            padding: 0px;\n",
      "            margin: 0px;\n",
      "        }\n",
      "    </style>\n",
      "</head>\n",
      "<body>\n",
      "<img src=\"img/tradeMark.png\" alt=\"trademark\" usemap=\"#myTrademark\" style=\"position:absolute; z-index: 99999; position: fixed; top: 15px; border: 0; right:0; display: block;\">\n",
      "<map name=\"myTrademark\">\n",
      "<area shape=\"poly\" coords=\"8,0,45,0,196,148,196,185\" href=\"http://fishc.taobao.com\" alt=\"TaoBao\" target=\"_blank\">\n",
      "<area shape=\"poly\" coords=\"67,0,98,0,196,97,196,129\" href=\"https://fishc.com.cn/thread-1053-1-1.html\" alt=\"Plan\" target=\"_blank\">\n",
      "</map>\n",
      "<img src=\"img/tR.gif\" alt=\"trademark\" usemap=\"#myTrademark\" style=\"position:absolute; z-index: 9999; position: fixed; top: 15px; border: 0; right:0; display: block;\">\n",
      "<map name=\"myTrademark\">\n",
      "<div id=\"timeline-embed\"></div>\n",
      "<script type=\"text/javascript\">\n",
      "\n",
      "            window.onload = function () {\n",
      "                $(\".storyjs-embed.sized-embed\").css(\"padding-top\", \"0\");\n",
      "                $(\".vco-storyjs .vco-feature .vco-slide\").css(\"padding-top\", \"0\");\n",
      "            };\n",
      "\n",
      "            var timeline_config = {\n",
      "                width: \"100%\",\n",
      "                height: \"100%\",\n",
      "                start_at_end: true,\n",
      "                source: 'fishc.json'\n",
      "            }\n",
      "\n",
      "            // 浏览器判断，如果是IE弹出提示框\n",
      "            function getExplore() {\n",
      "                var Sys = {};\n",
      "                var ua = navigator.userAgent.toLowerCase();\n",
      "                var s;\n",
      "                (s = ua.match(/rv:([\\d.]+)\\) like gecko/)) ? Sys.ie = s[1] :\n",
      "                    (s = ua.match(/msie ([\\d\\.]+)/)) ? Sys.ie = s[1] :\n",
      "                        (s = ua.match(/edge\\/([\\d\\.]+)/)) ? Sys.edge = s[1] :\n",
      "                            (s = ua.match(/firefox\\/([\\d\\.]+)/)) ? Sys.firefox = s[1] :\n",
      "                                (s = ua.match(/(?:opera|opr).([\\d\\.]+)/)) ? Sys.opera = s[1] :\n",
      "                                    (s = ua.match(/chrome\\/([\\d\\.]+)/)) ? Sys.chrome = s[1] :\n",
      "                                        (s = ua.match(/version\\/([\\d\\.]+).*safari/)) ? Sys.safari = s[1] : 0;\n",
      "                // 根据关系进行判断\n",
      "                if (Sys.ie) alert('请使用非IE浏览器打开本主页');\n",
      "\n",
      "            }\n",
      "            getExplore();\n",
      "        </script>\n",
      "<script type=\"text/javascript\" src=\"build/js/storyjs-embed.js\"></script>\n",
      "<div class=\"myICP\">\n",
      "<a href=\"http://beian.miit.gov.cn/state/outPortal/loginPortal.action\" target=\"_blank\">粤ICP备18085999号-2</a>\n",
      "</div>\n",
      "</body>\n",
      "</html>\n"
     ]
    }
   ],
   "source": [
    "\n",
    "import urllib.request\n",
    "response = urllib.request.urlopen('http://www.fishc.com')#post请求\n",
    "html=response.read()#返回的是二进制数据,是一个HTTPResponse的实例对象\n",
    "html=html.decode(\"utf-8\")\n",
    "print(html)\n"
   ]
  },
  {
   "cell_type": "markdown",
   "metadata": {},
   "source": [
    "### 识别网页编码"
   ]
  },
  {
   "cell_type": "code",
   "execution_count": 2,
   "metadata": {},
   "outputs": [
    {
     "name": "stdout",
     "output_type": "stream",
     "text": [
      "该网页使用的编码是：utf-8\n"
     ]
    }
   ],
   "source": [
    "\n",
    "\n",
    "import chardet\n",
    "\n",
    "def main1():\n",
    "    url = input(\"请输入URL:\")\n",
    "    response = urllib.request.urlopen(url)\n",
    "    html = response.read()\n",
    "    \n",
    "    encode = chardet.detect(html)['encoding']   # 识别网页编码\n",
    "    if encode == 'GB2312':\n",
    "        encode = 'GBK'\n",
    "\n",
    "    print(\"该网页使用的编码是：%s\" % encode)\n",
    "        \n",
    "if __name__ == \"__main__\":\n",
    "    main1()\n",
    "\n"
   ]
  },
  {
   "cell_type": "markdown",
   "metadata": {},
   "source": [
    "### 写一个程序，依次访问文件中指定的站点，\n",
    "### 并将每个站点返回的内容依次存放到不同的文件中"
   ]
  },
  {
   "cell_type": "code",
   "execution_count": 10,
   "metadata": {},
   "outputs": [],
   "source": [
    "\n",
    "\n",
    "import urllib.request\n",
    "\n",
    "def main2():\n",
    "    \n",
    "    i = 0\n",
    "    \n",
    "    with open(r\"C:\\Users\\wangkai\\Desktop\\pythonwork\\data\\fishcdata\\web.txt\", \"r\") as f:\n",
    "        # 读取待访问的网址\n",
    "        # 由于urls.txt每一行一个URL\n",
    "        # 所以按换行符'\\n'分割\n",
    "        urls = f.read().splitlines()     \n",
    "    for each_url in urls:\n",
    "        response = urllib.request.urlopen(each_url)\n",
    "        html = response.read()\n",
    "\n",
    "        # 识别网页编码\n",
    "        encode = chardet.detect(html)['encoding']\n",
    "        if encode == 'GB2312':\n",
    "            encode = 'GBK'\n",
    "        \n",
    "        i += 1\n",
    "        filename =r\"C:\\Users\\wangkai\\Desktop\\pythonwork\\data\\fishcdata\\url_%d.txt\" % i\n",
    "\n",
    "        with open(filename, \"w\", encoding=encode) as each_file:\n",
    "            each_file.write(html.decode(encode, \"ignore\"))\n",
    "\n",
    "if __name__ == \"__main__\":\n",
    "    main2()\n",
    "\n"
   ]
  },
  {
   "cell_type": "markdown",
   "metadata": {},
   "source": [
    "### 存储一个猫猫图片"
   ]
  },
  {
   "cell_type": "code",
   "execution_count": null,
   "metadata": {},
   "outputs": [],
   "source": [
    "\n",
    "import easygui as g\n",
    "import urllib.request\n",
    "import json\n",
    "import re\n",
    "from http.cookiejar import CookieJar\n",
    "\n",
    "#例题：存储一个猫猫图片\n",
    "\n",
    "response = urllib.request.urlopen('http://placekitten.com/g/500/600')\n",
    "response.geturl()\n",
    "response.getcode()#状态码\n",
    "print(response.info())\n",
    "\n",
    "cat_img = response.read()\n",
    "\n",
    "with open('r\"C:\\Users\\wangkai\\Desktop\\pythonwork\\data\\fishcdata\\cat_5000_6000.jpg','wb') as f:\n",
    "    f.write(cat_img)\n"
   ]
  },
  {
   "cell_type": "markdown",
   "metadata": {},
   "source": [
    "### 存储一个猫猫图片"
   ]
  },
  {
   "cell_type": "code",
   "execution_count": 12,
   "metadata": {},
   "outputs": [
    {
     "name": "stdout",
     "output_type": "stream",
     "text": [
      "None\n"
     ]
    }
   ],
   "source": [
    "import easygui as g\n",
    "import urllib.request\n",
    "import json\n",
    "import re\n",
    "from http.cookiejar import CookieJar\n",
    "\n",
    "#例题：存储一个猫猫图片\n",
    "\n",
    "def main():\n",
    "    msg = \"请填写喵的尺寸\"\n",
    "    title = \"下载一只喵\"\n",
    "    fieldNames = [\"宽：\", \"高：\"]\n",
    "    size = width, height = 400, 600\n",
    "    global fieldValues\n",
    "    fieldValues = []\n",
    "    fieldValues = g.multenterbox(msg, title, fieldNames, size)#['400', '600']\n",
    "\n",
    "    \n",
    "    while 1:\n",
    "        print(fieldValues)\n",
    "        if fieldValues == None:\n",
    "        #cancel则fieldValues==None,如果不输入fieldValues==['', '']，\n",
    "            break\n",
    "        errmsg = \"\"\n",
    "\n",
    "        try:\n",
    "            width = int(fieldValues[0].strip())\n",
    "        except:\n",
    "            errmsg += \"宽度必须为整数！\"\n",
    "\n",
    "        try:\n",
    "            height = int(fieldValues[1].strip())\n",
    "        except:\n",
    "            errmsg += \"高度必须为整数！\"    \n",
    "\n",
    "        if errmsg == \"\":\n",
    "            break\n",
    "        \n",
    "        fieldValues = g.multenterbox(errmsg, title, fieldNames, fieldValues)\n",
    "\n",
    "    url = \"http://placekitten.com/g/%d/%d\" % (width, height)\n",
    "\n",
    "    response = urllib.request.urlopen(url)\n",
    "    cat_img = response.read()\n",
    "\n",
    "    filepath = g.diropenbox(\"请选择存放喵的文件夹\")\n",
    "\n",
    "    if filepath:\n",
    "        filename = '%s/cat_%d_%d.jpg' % (filepath, width, height)\n",
    "    else:\n",
    "        filename = 'cat_%d_%d.jpg' % (width, height)\n",
    "\n",
    "    with open(filename, 'wb') as f:\n",
    "        f.write(cat_img)\n",
    "\n",
    "if __name__ == \"__main__\":\n",
    "    main()\n"
   ]
  },
  {
   "cell_type": "markdown",
   "metadata": {},
   "source": [
    "### 翻译程序"
   ]
  },
  {
   "cell_type": "code",
   "execution_count": null,
   "metadata": {},
   "outputs": [],
   "source": [
    "import easygui as g\n",
    "import urllib.request\n",
    "import json\n",
    "import re\n",
    "from http.cookiejar import CookieJar\n",
    "#get是只请求数据\n",
    "#post是向服务器提交需要处理的数据\n",
    "head={}\n",
    "head['User-Agent']='Mozilla/5.0 (Windows NT 10.0; Win64; x64) AppleWebKit/537.36 (KHTML, like Gecko) Chrome/97.0.4692.99 Safari/537.36'\n",
    "headers={\n",
    "        'User-Agent':'Mozilla/5.0 (Windows NT 10.0; Win64; x64) AppleWebKit/537.36 (KHTML, like Gecko) Chrome/97.0.4692.99 Safari/537.36'\n",
    "        }\n",
    "#例题：翻译程序\n",
    "\n",
    "content=input('请输入需要翻译的内容：')\n",
    "url='https://fanyi.youdao.com/translate?martresult=dict&smartresult=rule'\n",
    "data={}\n",
    "data['type']='AUTO'\n",
    "data['to']='AUTO'\n",
    "data['i']=content #'study computer language is funny'\n",
    "data['doctype']='json'\n",
    "data['version']='2.1'\n",
    "data['keyfrom']='fanyi.web'\n",
    "data['ue']='UTF-8'\n",
    "data['typoResult']='true'\n",
    "data = urllib.parse.urlencode(data).encode('utf-8')#unicode转uft8\n",
    "req=urllib.request.Request(url,data,head)\n",
    "#req.add_header('User-Agent','Mozilla/5.0 (Windows NT 10.0; Win64; x64) AppleWebKit/537.36 (KHTML, like Gecko) Chrome/97.0.4692.99 Safari/537.36')\n",
    "response = urllib.request.urlopen(req)#也可以传入一个Request类\n",
    "html= response.read().decode('utf-8')#utf8转unicode\n",
    "\n",
    "target=json.loads(html)#转码后的json数据转字典\n",
    "print(target)\n",
    "print(\"翻译结果：%s\"%target['translateResult'][0][0]['tgt'])\n"
   ]
  },
  {
   "cell_type": "markdown",
   "metadata": {},
   "source": [
    "### 代理"
   ]
  },
  {
   "cell_type": "code",
   "execution_count": null,
   "metadata": {},
   "outputs": [],
   "source": [
    "\n",
    "#HTTP 协议是基于请求响应模式，就是客户端发一个请求，服务端回复一个响应\n",
    "#HTTP 协议是无状态的，也就是说客户端这会儿给服务端提交了账号密码，\n",
    "#服务端回复验证通过，但下一秒客户端就不知道你是谁了\n",
    "\n",
    "#代理（404）\n",
    "import easygui as g\n",
    "import urllib.request\n",
    "import json\n",
    "import re\n",
    "from http.cookiejar import CookieJar\n",
    "import random\n",
    "\n",
    "url='http://www.whatismyip.com.tw'\n",
    "iplist=['47.101.44.122:80','116.63.93.172:8081','60.255.151.82:80']\n",
    "#参数是一个字典\n",
    "proxy_support = urllib.request.ProxyHandler({'http':'121.199.78.228:8888'})#代理ip要最新的\n",
    "#定制一个opener,之前是用的python默认的opener\n",
    "opener = urllib.request.build_opener(proxy_support)\n",
    "opener.addheaders =[('User-Agent','Mozilla/5.0 (Windows NT 10.0; Win64; x64) AppleWebKit/537.36 (KHTML, like Gecko) Chrome/97.0.4692.99 Safari/537.36')]\n",
    "#安装opener\n",
    "urllib.request.install_opener(opener)\n",
    "response = urllib.request.urlopen(url)\n",
    "html= response.read().decode('utf-8')\n",
    "print(html)\n",
    "\n"
   ]
  },
  {
   "cell_type": "markdown",
   "metadata": {},
   "source": [
    "### 百度百科"
   ]
  },
  {
   "cell_type": "code",
   "execution_count": null,
   "metadata": {},
   "outputs": [],
   "source": [
    "\n",
    "#百度百科\n",
    "\n",
    "import urllib.request\n",
    "import re\n",
    "from bs4 import BeautifulSoup\n",
    "\n",
    "def main():\n",
    "    url = \"http://baike.baidu.com/view/284853.htm\"\n",
    "    \n",
    "    req=urllib.request.Request(url=url,method=\"GET\")\n",
    "    req.add_header('User-Agent','Mozilla/5.0 (Windows NT 10.0; Win64; x64) AppleWebKit/537.36 (KHTML, like Gecko) Chrome/97.0.4692.99 Safari/537.36')\n",
    "    #或者\n",
    "    #req=urllib.request.Request(url=url,headers=headers,method=\"GET\")\n",
    "    response = urllib.request.urlopen(req)#也可以传入一个Request类\n",
    "    html= response.read().decode('utf-8')#utf8转unicode\n",
    "    soup = BeautifulSoup(html, \"html.parser\") # 使用 Python 默认的解析器   \n",
    "    for each in soup.find_all(href=re.compile(\"view\")):\n",
    "        print(each.text, \"->\", ''.join([\"http://baike.baidu.com\", each[\"href\"]]))\n",
    "        # 上边用 join() 不用 + 直接拼接，是因为 join() 被证明执行效率要高很多\n",
    "\n",
    "if __name__ == \"__main__\":\n",
    "    main()\n",
    "\n"
   ]
  },
  {
   "cell_type": "markdown",
   "metadata": {},
   "source": [
    "### 下载图片"
   ]
  },
  {
   "cell_type": "code",
   "execution_count": null,
   "metadata": {},
   "outputs": [],
   "source": [
    "\n",
    "\n",
    "#下载图片\n",
    "\n",
    "import urllib.request\n",
    "import os\n",
    "import random\n",
    "def url_open(url):\n",
    "    req=urllib.request.Request(url)\n",
    "    req.add_header('User-Agent','Mozilla/5.0 (Windows NT 10.0; Win64; x64) AppleWebKit/537.36 (KHTML, like Gecko) Chrome/97.0.4692.99 Safari/537.36')\n",
    "    response = urllib.request.urlopen(req)\n",
    "    html= response.read()\n",
    "    return html\n",
    "\n",
    "def get_page(url):\n",
    "    html=url_open(url).decode('utf-8')\n",
    "    a = html.find('current-comment-page')+23\n",
    "    b = html.find(']',a)\n",
    "    print(html[a:b+1] )\n",
    "    return html[a:b+1]\n",
    "\n",
    "def find_imgs(url):\n",
    "    html=url_open(url).decode('utf-8')\n",
    "    print(html)\n",
    "    img_addrs=[]\n",
    "    #a=html.find('img src=')\n",
    "    a=html.find('img data-src=')\n",
    "    while a != -1:\n",
    "        b=html.find('.jpg',a,a+255)\n",
    "        if b !=-1:\n",
    "            str1='\\\\'\n",
    "            if html[a+15] is not str1:\n",
    "                img_addrs.append(html[a+14:b+4])\n",
    "                print(html[a+14:b+4])\n",
    "        else:\n",
    "            #b=a+9\n",
    "            b=a+20\n",
    "        #a=a=html.find('img src=',b)\n",
    "        a=html.find('img data-src=',b)\n",
    "    #for each in img_addrs:\n",
    "    #   print(each)\n",
    "    return img_addrs\n",
    "\n",
    "def save_imgs(folder,img_addrs):\n",
    "    for each in img_addrs:\n",
    "        filename = each.split('/')[-1]\n",
    "        urllib.request.urlretrieve(\"https:\"+each,filename,None)#与下面等效\n",
    "        '''\n",
    "        with open(filename,'wb') as f:\n",
    "            img = url_open(\"https:\"+each)\n",
    "            f.write(img)\n",
    "        '''\n",
    "def down_mm(folder='OOXX',pages=10):\n",
    "    #os.mkdir(folder)\n",
    "    os.chdir(folder)#切换保存地址到folder了\n",
    "    url=\"http://jandan.net/pic/\"\n",
    "    #page_num =int(get_page(url))\n",
    "    '''\n",
    "    page_num = 5\n",
    "    for i in range(5):\n",
    "        page_num -= 1\n",
    "        page_url = url+'MjAyMjA2MDEtMTg'+str(page_num)+'#comments'\n",
    "        print(page_url )\n",
    "        img_addrs = find_imgs(page_url)\n",
    "        save_imgs(folder,img_addrs)\n",
    "     '''\n",
    "    page_url ='https://www.bilibili.com/read/cv12262966'\n",
    "    img_addrs = find_imgs(page_url)\n",
    "    save_imgs(folder,img_addrs)\n",
    "\n",
    "if __name__ == \"__main__\":\n",
    "    down_mm()\n",
    "\n",
    "\n"
   ]
  }
 ],
 "metadata": {
  "kernelspec": {
   "display_name": "Python 3.10.4 64-bit",
   "language": "python",
   "name": "python3"
  },
  "language_info": {
   "codemirror_mode": {
    "name": "ipython",
    "version": 3
   },
   "file_extension": ".py",
   "mimetype": "text/x-python",
   "name": "python",
   "nbconvert_exporter": "python",
   "pygments_lexer": "ipython3",
   "version": "3.10.4"
  },
  "orig_nbformat": 4,
  "vscode": {
   "interpreter": {
    "hash": "d533ad8ead974ef2863af58c6dd965ec76a73ec9b0d6bfff6efc64af475660a3"
   }
  }
 },
 "nbformat": 4,
 "nbformat_minor": 2
}
