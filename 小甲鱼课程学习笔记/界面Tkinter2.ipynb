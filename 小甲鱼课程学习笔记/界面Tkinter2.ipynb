{
 "cells": [
  {
   "cell_type": "markdown",
   "metadata": {},
   "source": [
    "# Tkinter2"
   ]
  },
  {
   "cell_type": "markdown",
   "metadata": {},
   "source": [
    "### Listbox列表  Scrollba滚动条"
   ]
  },
  {
   "cell_type": "code",
   "execution_count": null,
   "metadata": {},
   "outputs": [],
   "source": [
    "from tkinter import *  \n",
    "#例8     Listbox列表  Scrollba滚动条\n",
    "\n",
    "master =Tk()\n",
    "sb = Scrollbar(master)\n",
    "sb.pack(side=RIGHT,fill=Y)\n",
    "\n",
    "theLB=Listbox(master,selectmode=EXTENDED,height=11,yscrollcommand=sb.set)#列表响应滚动条\n",
    "theLB.pack(padx=10,pady=5)\n",
    "sb.config(command=theLB.yview)#滚动条响应列表\n",
    "#theLB.delete()\n",
    "\n",
    "\n",
    "for item in range(100):\n",
    "    theLB.insert(END,item)\n",
    "\n",
    "theButton = Button(master,text ='删除它',\\\n",
    "                    command=lambda x=theLB:x.delete(ACTIVE))\n",
    "theButton.pack(padx=10,pady=5)\n",
    "\n",
    "mainloop()\n"
   ]
  },
  {
   "cell_type": "markdown",
   "metadata": {},
   "source": [
    "### Scale()标尺"
   ]
  },
  {
   "cell_type": "code",
   "execution_count": null,
   "metadata": {},
   "outputs": [],
   "source": [
    "\n",
    "#例9   Scale()标尺\n",
    "from tkinter import *  \n",
    "root = Tk()\n",
    "\n",
    "\n",
    "s1=Scale(root,from_=0, to =42,tickinterval =5,resolution=0.1,length=200)\n",
    "s1.pack()\n",
    "s2=Scale(root,from_=0, to =42 ,orient=HORIZONTAL)\n",
    "s2.pack()\n",
    "def show():\n",
    "    print(s1.get(),s2.get())\n",
    "\n",
    "Button(root,text='获取位置',command=show).pack()\n",
    "mainloop()\n"
   ]
  },
  {
   "cell_type": "markdown",
   "metadata": {},
   "source": [
    "### Text文本  indexes  Marks见文档"
   ]
  },
  {
   "cell_type": "code",
   "execution_count": null,
   "metadata": {},
   "outputs": [],
   "source": [
    "\n",
    "\n",
    "#例10   Text文本  indexes  Marks见文档\n",
    "from tkinter import *  \n",
    "root = Tk()\n",
    "\n",
    "text=Text(root,width=40,height=25)\n",
    "text.pack()\n",
    "\n",
    "text.insert(INSERT,'i love')\n",
    "text.insert(END ,'i fishc')\n",
    "\n",
    "\n",
    "photo = PhotoImage(file='8.gif')\n",
    "\n",
    "def show():\n",
    "    print('ok')\n",
    "    text.image_create(INSERT,image=photo)\n",
    "    \n",
    "b1=Button(text,text='点我',command=show)\n",
    "text.window_create(INSERT,window=b1)\n",
    "mainloop()\n",
    "\n"
   ]
  },
  {
   "cell_type": "markdown",
   "metadata": {},
   "source": [
    "### tag标签"
   ]
  },
  {
   "cell_type": "code",
   "execution_count": null,
   "metadata": {},
   "outputs": [],
   "source": [
    "\n",
    "\n",
    "#例11  tag标签\n",
    "from tkinter import *  \n",
    "import webbrowser\n",
    "root = Tk() \n",
    "\n",
    "text=Text(root,width=30,height=15,font =('楷体',15))\n",
    "text.pack()\n",
    "\n",
    "text.insert(INSERT,'i love fishc.com')\n",
    "\n",
    "text.tag_add('tag1','1.7','1.16')\n",
    "text.tag_config('tag1',background='yellow',foreground='red',underline=True)\n",
    "\n",
    "def show_arrow_cursor(event):\n",
    "    text.config(cursor='arrow')\n",
    "    \n",
    "def show_xterm_cursor(event):\n",
    "    text.config(cursor='xterm')\n",
    "    \n",
    "def click(event):\n",
    "    webbrowser.open('http://www.fishc.com')\n",
    "    \n",
    "text.tag_bind('tag1','<Enter>',show_arrow_cursor)#标签的事件绑定!\n",
    "text.tag_bind('tag1','<Leave>',show_xterm_cursor)\n",
    "text.tag_bind('tag1','<Button>',click)\n",
    "\n",
    "mainloop()\n",
    "\n"
   ]
  },
  {
   "cell_type": "markdown",
   "metadata": {},
   "source": [
    "### hashlib检测文本是否变化"
   ]
  },
  {
   "cell_type": "code",
   "execution_count": null,
   "metadata": {},
   "outputs": [],
   "source": [
    "\n",
    "\n",
    "#例12  hashlib检测文本是否变化\n",
    "from tkinter import *  \n",
    "import hashlib\n",
    "\n",
    "root = Tk() \n",
    "\n",
    "text=Text(root,width=30,height=15,font =('楷体',15))\n",
    "text.pack()\n",
    "\n",
    "text.insert(INSERT,'i love fishc.com')\n",
    "contents=text.get('1.0',END)\n",
    "print(contents)\n",
    "\n",
    "def getsig(contents):\n",
    "    m=hashlib.md5(contents.encode())\n",
    "    print(m)\n",
    "    print(m.digest())\n",
    "    return m.digest()\n",
    "sig=getsig(contents)\n",
    "\n",
    "def check():\n",
    "    contents=text.get('1.0',END)\n",
    "    if sig!=getsig(contents):\n",
    "        print('内容发生变化是否保存')\n",
    "\n",
    "Button(root,text='check',command=check).pack()\n",
    "mainloop()\n",
    "\n"
   ]
  },
  {
   "cell_type": "markdown",
   "metadata": {},
   "source": [
    "### search查询关键字位置"
   ]
  },
  {
   "cell_type": "code",
   "execution_count": null,
   "metadata": {},
   "outputs": [],
   "source": [
    "\n",
    "\n",
    "#例13  search查询关键字位置\n",
    "from tkinter import *  \n",
    "import hashlib\n",
    "\n",
    "root = Tk() \n",
    "text=Text(root,width=30,height=15,font =('楷体',15))\n",
    "text.pack()\n",
    "\n",
    "text.insert(INSERT,'i love fishc.com')\n",
    "def getindex(text,index):\n",
    "    print(index)\n",
    "    print(text.index(index))\n",
    "    print(str.split(text.index(index),'.'))\n",
    "    print(map(int,str.split(text.index(index),'.')))#map(函数，可迭代对象)返回一个构造器\n",
    "    return tuple(map(int,str.split(text.index(index),'.')))\n",
    "\n",
    "start='1.0'\n",
    "while True:\n",
    "    pos =text.search('o',start,stopindex=END)\n",
    "    if not pos:\n",
    "        break\n",
    "    print(getindex(text,pos))\n",
    "    start=pos+'+1c'\n",
    "\n",
    "mainloop()\n",
    "\n"
   ]
  },
  {
   "cell_type": "markdown",
   "metadata": {},
   "source": [
    "### undo撤销操作"
   ]
  },
  {
   "cell_type": "code",
   "execution_count": null,
   "metadata": {},
   "outputs": [],
   "source": [
    "\n",
    "\n",
    "#例14 undo撤销操作\n",
    "import hashlib\n",
    "from tkinter import *  \n",
    "root = Tk() \n",
    "text=Text(root,width=30,height=15,font =('楷体',15),\\\n",
    "        autoseparators=False,undo=True)\n",
    "text.pack()\n",
    "\n",
    "text.insert(INSERT,'i love fishc.com')\n",
    "\n",
    "\n",
    "def callback(event):\n",
    "    text.edit_separator()\n",
    "    \n",
    "text.bind('<Key>',callback)\n",
    "\n",
    "def show():\n",
    "    text.edit_undo()\n",
    "    \n",
    "Button(root,text='撤销',command=show).pack()\n",
    "mainloop()\n",
    "\n"
   ]
  },
  {
   "cell_type": "markdown",
   "metadata": {},
   "source": [
    "###  Canvas绘图"
   ]
  },
  {
   "cell_type": "code",
   "execution_count": null,
   "metadata": {},
   "outputs": [],
   "source": [
    "\n",
    "#例15  Canvas绘图\n",
    "from tkinter import *  \n",
    "root = Tk()\n",
    "\n",
    "w=Canvas(root,width=500,height=400,background='black')\n",
    "w.pack()\n",
    "\n",
    "line1=w.create_line(0,250,500,250,fill='yellow',width=5)\n",
    "line2=w.create_line(250,400,250,400,fill='red',width=5,dash=(4,4))\n",
    "line3=w.create_line(250,0,250,400,fill='yellow')\n",
    "rect1=w.create_rectangle(100,100,400,300,fill='blue',dash=(4,4))\n",
    "rect2=w.create_oval(130,130,370,270,fill='yellow')\n",
    "\n",
    "\n",
    "\n",
    "w.coords(line1,0,200,500,200)#修改\n",
    "w.itemconfig(rect1,fill='green')\n",
    "w.delete(line2)\n",
    "\n",
    "Button(root,text='删除全部',command=(lambda x=ALL:w.delete(x))).pack()\n",
    "\n",
    "w.create_text(250,200,text='滕苗苗',font =('楷体',20))\n",
    "\n",
    "mainloop()\n",
    "\n"
   ]
  },
  {
   "cell_type": "markdown",
   "metadata": {},
   "source": [
    "### Canvas五角星"
   ]
  },
  {
   "cell_type": "code",
   "execution_count": null,
   "metadata": {},
   "outputs": [],
   "source": [
    "\n",
    "#例16  Canvas五角星\n",
    "from tkinter import *  \n",
    "import math as m\n",
    "root = Tk()\n",
    "\n",
    "w=Canvas(root,width=500,height=400,background='black')\n",
    "w.pack()\n",
    "\n",
    "center_x=250 \n",
    "center_y=200\n",
    "r=200\n",
    "\n",
    "pionts=[\n",
    "    #左上\n",
    "    center_x-r*m.sin(2*m.pi/5),\n",
    "    center_y-r*m.cos(2*m.pi/5),\n",
    "    #右上\n",
    "    center_x+r*m.sin(2*m.pi/5),\n",
    "    center_y-r*m.cos(2*m.pi/5),\n",
    "    #左下\n",
    "    center_x-r*m.sin(4*m.pi/5),\n",
    "    center_y-r*m.cos(4*m.pi/5),\n",
    "    #上\n",
    "    center_x,\n",
    "    center_y-r,  \n",
    "    #右下\n",
    "    center_x+r*m.sin(4*m.pi/5),\n",
    "    center_y-r*m.cos(4*m.pi/5),\n",
    "    #左上\n",
    "    center_x-r*m.sin(2*m.pi/5),\n",
    "    center_y-r*m.cos(2*m.pi/5),\n",
    "    ]\n",
    "for i in range(6):\n",
    "    line1=w.create_line(pionts[i*2],pionts[i*2+1],pionts[i*2+2],pionts[i*2+3],fill='yellow',width=5)\n",
    "\n",
    "mainloop()\n",
    "\n"
   ]
  },
  {
   "cell_type": "markdown",
   "metadata": {},
   "source": [
    "###  绘图板"
   ]
  },
  {
   "cell_type": "code",
   "execution_count": null,
   "metadata": {},
   "outputs": [],
   "source": [
    "\n",
    "#例16  绘图板\n",
    "from tkinter import *  \n",
    "\n",
    "import math as m\n",
    "root = Tk()\n",
    "\n",
    "w=Canvas(root,width=500,height=400,background='black')\n",
    "w.pack()\n",
    "\n",
    "def paint(event):\n",
    "    x1,y1=(event.x-1),(event.y-1)\n",
    "    x2,y2=(event.x+1),(event.y+1)\n",
    "    w.create_oval(x1,y1,x2,y2,fill='yellow')\n",
    "w.bind('<B1-Motion>',paint)\n",
    "\n",
    "\n",
    "mainloop()\n",
    "\n"
   ]
  },
  {
   "cell_type": "markdown",
   "metadata": {},
   "source": [
    "###  绘图哆啦A梦"
   ]
  },
  {
   "cell_type": "code",
   "execution_count": null,
   "metadata": {},
   "outputs": [],
   "source": [
    "\n",
    "#例17  绘图哆啦A梦\n",
    "\n",
    "from tkinter import *  # 导入tkinter包\n",
    " \n",
    "f = Tk(className=\"哆啦A梦\")  # 创建一个窗口\n",
    "b = \"#0AB0EE\"  # 天蓝色的16进制数\n",
    "ca = Canvas(f, width=500, height=570, bg=\"white\")  # 设置画布\n",
    "# 头部\n",
    "ca.create_line(0, 300, 500, 300, dash=1)\n",
    "ca.create_line(250, 0, 250, 600, dash=1)\n",
    "ca.create_oval(130, 100, 370, 340, fill=b)\n",
    "ca.create_oval(150, 140, 350, 340, fill=\"white\")\n",
    "ca.create_oval(205, 120, 250, 175, fill=\"white\")\n",
    "ca.create_oval(250, 120, 295, 175, fill=\"white\")\n",
    "ca.create_oval(230, 135, 245, 157, fill=\"black\")\n",
    "ca.create_oval(255, 135, 270, 157, fill=\"black\")\n",
    "ca.create_oval(236, 141, 240, 150, fill=\"white\")\n",
    "ca.create_oval(260, 141, 264, 150, fill=\"white\")\n",
    "ca.create_oval(242, 164, 258, 180, fill=\"red\")\n",
    "ca.create_line(250, 180, 250, 265)\n",
    "ca.create_line(180, 185, 230, 198)\n",
    "ca.create_line(270, 198, 320, 185)\n",
    "ca.create_line(170, 213, 230, 213)\n",
    "ca.create_line(270, 213, 330, 213)\n",
    "ca.create_line(180, 241, 230, 228)\n",
    "ca.create_line(270, 228, 320, 241)\n",
    "ca.create_arc(177, 153, 323, 265, style=\"arc\", start=225, extent=90)\n",
    "# 身体\n",
    "ca.create_rectangle(163, 300, 337, 433, fill=b)\n",
    "ca.create_arc(183, 276, 317, 410, fill=\"white\", style=\"chord\", start=140, extent=260)\n",
    "ca.create_arc(203, 296, 297, 390, style=\"arc\", start=181, extent=179)\n",
    "ca.create_line(203, 343, 297, 343)\n",
    "ca.create_line(165, 300, 335, 300, width=12, fill=\"black\", capstyle=\"round\")\n",
    "ca.create_line(165, 300, 335, 300, width=10, fill=\"red\", capstyle=\"round\")\n",
    "ca.create_oval(236, 299, 263, 327, fill=\"yellow\")\n",
    "ca.create_line(237, 313, 263, 313, width=5, fill=\"black\")\n",
    "ca.create_line(237, 313, 263, 313, width=3, fill=\"yellow\")\n",
    "ca.create_oval(247, 318, 253, 324, fill=\"red\")\n",
    "ca.create_line(250, 324, 250, 327)\n",
    "# 脚\n",
    "ca.create_oval(235, 422, 265, 444, fill=\"white\")\n",
    "ca.create_arc(235, 422, 265, 444, outline=\"white\", style=\"arc\", start=182, extent=175)\n",
    "ca.create_oval(145, 423, 241, 455, fill=\"white\")\n",
    "ca.create_oval(259, 423, 355, 455, fill=\"white\")\n",
    "# 手\n",
    "ca.create_polygon(163, 306, 163, 350, 142, 361, 125, 344, fill=b, outline=\"black\")\n",
    "ca.create_oval(112, 337, 147, 372, fill=\"white\")\n",
    "ca.create_polygon(337, 306, 337, 350, 358, 361, 375, 344, fill=b, outline=\"black\")\n",
    "ca.create_oval(353, 337, 388, 372, fill=\"white\")\n",
    "\n",
    "ca.pack()  # 显示Canvas组件\n",
    "f.mainloop()  # 显示窗口\n",
    "\n"
   ]
  },
  {
   "cell_type": "markdown",
   "metadata": {},
   "source": [
    "### 主框架菜单"
   ]
  },
  {
   "cell_type": "code",
   "execution_count": null,
   "metadata": {},
   "outputs": [],
   "source": [
    "\n",
    "#例18  主框架菜单\n",
    "import sys\n",
    "from tkinter import *  \n",
    "root = Tk()\n",
    "\n",
    "def callback():\n",
    "    print('callback ing...')\n",
    "\n",
    "def myquit():\n",
    "    root.quit()\n",
    "    sys.exit()\n",
    "    \n",
    "menubar =Menu(root,tearoff=True)#菜单可以移除\n",
    "filemenu=Menu(menubar)\n",
    "filemenu.add_command(label='打开',command=myquit)\n",
    "filemenu.add_command(label='保存',command=myquit)\n",
    "filemenu.add_separator()\n",
    "filemenu.add_command(label='退出',command=myquit)\n",
    "menubar.add_cascade(label='文件',menu=filemenu)#绑定\n",
    "\n",
    "editmenu=Menu(menubar,tearoff=False)\n",
    "editmenu.add_command(label='剪切',command=myquit)\n",
    "editmenu.add_command(label='拷贝',command=myquit)\n",
    "menubar.add_cascade(label='编辑',menu=editmenu)\n",
    "\n",
    "#menubar.pack() 菜单不用pack放置，需要关联root\n",
    "root.config(menu=menubar)\n",
    "\n",
    "mainloop()\n",
    "\n"
   ]
  },
  {
   "cell_type": "markdown",
   "metadata": {},
   "source": [
    "### 右键命令行菜单"
   ]
  },
  {
   "cell_type": "code",
   "execution_count": null,
   "metadata": {},
   "outputs": [],
   "source": [
    "\n",
    "#例19  右键命令行菜单\n",
    "from tkinter import *  \n",
    "root = Tk()\n",
    "menubar =Menu(root)\n",
    "\n",
    "def callback():\n",
    "    print('callback ing...')\n",
    "\n",
    "def myquit():\n",
    "    root.quit()\n",
    "    sys.exit()\n",
    "    \n",
    "menubar.add_command(label='打开',command=callback)\n",
    "menubar.add_command(label='保存',command=myquit)\n",
    "\n",
    "#frame = Frame(root,width=512,height=512)\n",
    "#frame.pack()\n",
    "\n",
    "def pop(event):\n",
    "    menubar.post(event.x_root,event.y_root)\n",
    "    \n",
    "root.bind('<Button-3>',pop)\n",
    "\n",
    "mainloop()\n",
    "\n"
   ]
  },
  {
   "cell_type": "markdown",
   "metadata": {},
   "source": [
    "###   联合checkbutton，radiobutton 菜单"
   ]
  },
  {
   "cell_type": "code",
   "execution_count": 2,
   "metadata": {},
   "outputs": [],
   "source": [
    "\n",
    "\n",
    "#例20  联合checkbutton，radiobutton 菜单\n",
    "from tkinter import *  \n",
    "import sys\n",
    "\n",
    "root = Tk()\n",
    "\n",
    "def callback():\n",
    "    print('callback ing...')\n",
    "\n",
    "def myquit():\n",
    "    pass\n",
    "    #root.quit()\n",
    "    #sys.exit()\n",
    "\n",
    "menubar =Menu(root,tearoff=True)#菜单可以移除\n",
    "\n",
    "openVar = IntVar()\n",
    "saveVar = IntVar()\n",
    "quitVar = IntVar()\n",
    "\n",
    "filemenu=Menu(menubar)\n",
    "filemenu.add_checkbutton(label='打开',command=myquit,variable=openVar)\n",
    "filemenu.add_checkbutton(label='保存',command=myquit,variable=saveVar)\n",
    "filemenu.add_separator()\n",
    "filemenu.add_checkbutton(label='退出',command=myquit,variable=quitVar)\n",
    "menubar.add_cascade(label='文件',menu=filemenu)#绑定\n",
    "\n",
    "editVar = IntVar()\n",
    "\n",
    "editmenu=Menu(menubar,tearoff=True)\n",
    "editmenu.add_radiobutton(label='剪切',command=myquit)\n",
    "editmenu.add_radiobutton(label='拷贝',command=myquit)\n",
    "editmenu.add_radiobutton(label='粘贴',command=myquit)\n",
    "menubar.add_cascade(label='编辑',menu=editmenu)\n",
    "\n",
    "#错误  menubar.pack() 菜单不用pack放置，\n",
    "root.config(menu=menubar) #需要关联root，用config进行配置菜单\n",
    "\n",
    "mainloop()\n"
   ]
  },
  {
   "cell_type": "markdown",
   "metadata": {},
   "source": [
    "\n",
    "###    Menubutton 略\n",
    "###    OptionMenu"
   ]
  },
  {
   "cell_type": "code",
   "execution_count": null,
   "metadata": {},
   "outputs": [],
   "source": [
    "from tkinter import *  \n",
    "root = Tk()\n",
    "\n",
    "options=[\n",
    "    'one',\n",
    "    'two',\n",
    "    'three',\n",
    "    'four',\n",
    "    'five',\n",
    "    ]\n",
    "variable = StringVar()\n",
    "variable.set('one')\n",
    "\n",
    "#w= OptionMenu(root,variable,'one','two','three')\n",
    "w= OptionMenu(root,variable,*options)#*号具有解包的功能\n",
    "w.pack()\n",
    "\n",
    "mainloop()\n"
   ]
  }
 ],
 "metadata": {
  "kernelspec": {
   "display_name": "Python 3.10.4 64-bit",
   "language": "python",
   "name": "python3"
  },
  "language_info": {
   "codemirror_mode": {
    "name": "ipython",
    "version": 3
   },
   "file_extension": ".py",
   "mimetype": "text/x-python",
   "name": "python",
   "nbconvert_exporter": "python",
   "pygments_lexer": "ipython3",
   "version": "3.10.4"
  },
  "orig_nbformat": 4,
  "vscode": {
   "interpreter": {
    "hash": "d533ad8ead974ef2863af58c6dd965ec76a73ec9b0d6bfff6efc64af475660a3"
   }
  }
 },
 "nbformat": 4,
 "nbformat_minor": 2
}
