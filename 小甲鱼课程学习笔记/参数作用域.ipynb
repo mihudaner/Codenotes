{
 "cells": [
  {
   "cell_type": "markdown",
   "metadata": {},
   "source": [
    "### 参数作用域和传递\n"
   ]
  },
  {
   "cell_type": "markdown",
   "metadata": {},
   "source": [
    "int传入函数就是值，sharevalue的值是一个指针"
   ]
  },
  {
   "cell_type": "code",
   "execution_count": 1,
   "metadata": {},
   "outputs": [
    {
     "name": "stdout",
     "output_type": "stream",
     "text": [
      "5\n",
      "5\n",
      "<Synchronized wrapper for c_long(6)>\n",
      "<Synchronized wrapper for c_long(8)>\n"
     ]
    }
   ],
   "source": [
    "\n",
    "import multiprocessing as mp\n",
    "def func(para):\n",
    "    global y\n",
    "    y=para\n",
    "    print(y)\n",
    "\n",
    "x1=5\n",
    "x2=mp.Value('i',6)\n",
    "func(x1)\n",
    "x1=7\n",
    "print(y)\n",
    "\n",
    "func(x2)\n",
    "x2.value=8\n",
    "print(y)"
   ]
  },
  {
   "cell_type": "markdown",
   "metadata": {},
   "source": [
    "迭代器也一样，传进去是一个对象，不是指针就不能跟随修改"
   ]
  },
  {
   "cell_type": "code",
   "execution_count": 2,
   "metadata": {},
   "outputs": [
    {
     "name": "stdout",
     "output_type": "stream",
     "text": [
      "[1, 2, 3]\n",
      "[1, 2, 3]\n",
      "<filter object at 0x000002FAAA652C20>\n",
      "<filter object at 0x000002FAAA652C20>\n"
     ]
    }
   ],
   "source": [
    "def func(para):\n",
    "    global y\n",
    "    y=para\n",
    "    print(y)\n",
    "\n",
    "x1=[1,2,3]\n",
    "x2=filter(lambda x:x%2,range(10))\n",
    "func(x1)\n",
    "x1=[2,3,4]\n",
    "print(y)\n",
    "func(x2)\n",
    "x2=[2,3,4]\n",
    "print(y)\n"
   ]
  },
  {
   "cell_type": "markdown",
   "metadata": {},
   "source": [
    "global是为了外层访问局部变量，内部函数是可以直接访问外面变量的\n"
   ]
  },
  {
   "cell_type": "code",
   "execution_count": 3,
   "metadata": {},
   "outputs": [
    {
     "name": "stdout",
     "output_type": "stream",
     "text": [
      "funcA11\n",
      "11\n",
      "funcB12\n",
      "11\n"
     ]
    }
   ],
   "source": [
    "def funcA(para):\n",
    "    global y\n",
    "    y=para+1\n",
    "    print('funcA'+str(y))\n",
    "\n",
    "def funcB(para):\n",
    "    y=para+1\n",
    "    print('funcB'+str(y))\n",
    "\n",
    "global y\n",
    "y=10\n",
    "funcA(y)\n",
    "print(y)\n",
    "\n",
    "funcB(y)\n",
    "print(y)\n",
    "\n"
   ]
  },
  {
   "cell_type": "code",
   "execution_count": 4,
   "metadata": {},
   "outputs": [
    {
     "name": "stdout",
     "output_type": "stream",
     "text": [
      "funcA11\n",
      "11\n",
      "funcB12\n",
      "12\n"
     ]
    }
   ],
   "source": [
    "def funcA(para):\n",
    "    global y\n",
    "    y=para+1\n",
    "    print('funcA'+str(y))\n",
    "\n",
    "def funcB(para):\n",
    "    global y\n",
    "    y=para+1\n",
    "    print('funcB'+str(y))\n",
    "\n",
    "y=10\n",
    "funcA(y)\n",
    "print(y)\n",
    "\n",
    "funcB(y)\n",
    "print(y)\n"
   ]
  },
  {
   "cell_type": "markdown",
   "metadata": {},
   "source": [
    "\n",
    "所有的y都是全局变量的y"
   ]
  },
  {
   "cell_type": "code",
   "execution_count": 12,
   "metadata": {},
   "outputs": [
    {
     "name": "stdout",
     "output_type": "stream",
     "text": [
      "func1 11\n",
      "func2 12\n",
      "func1 12\n",
      "out 12\n"
     ]
    }
   ],
   "source": [
    "def func1(para):\n",
    "    def func2(para):\n",
    "        global y\n",
    "        y=para+1\n",
    "        print('func2 '+str(y))\n",
    "    \n",
    "    global y\n",
    "    y=para+1\n",
    "    print('func1 '+str(y))\n",
    "    func2(y)\n",
    "    print('func1 '+str(y))\n",
    "\n",
    "y=10\n",
    "func1(y)\n",
    "print('out '+str(y))\n",
    "\n"
   ]
  },
  {
   "cell_type": "markdown",
   "metadata": {},
   "source": [
    "global是为了外层访问局部变量，内部函数是可以直接访问外面变量的，y是全局变量\n"
   ]
  },
  {
   "cell_type": "code",
   "execution_count": 13,
   "metadata": {},
   "outputs": [
    {
     "name": "stdout",
     "output_type": "stream",
     "text": [
      "func2 11\n",
      "func2 10\n",
      "out 10\n"
     ]
    }
   ],
   "source": [
    "def func1(para):\n",
    "    x=para+1\n",
    "    print('func2 '+str(x))\n",
    "    print('func2 '+str(y))\n",
    "    \n",
    "\n",
    "y=10\n",
    "func1(y)\n",
    "print('out '+str(y))"
   ]
  },
  {
   "cell_type": "code",
   "execution_count": 15,
   "metadata": {},
   "outputs": [
    {
     "name": "stdout",
     "output_type": "stream",
     "text": [
      "30\n",
      "10\n",
      "10\n"
     ]
    }
   ],
   "source": [
    "\n",
    "\n",
    "def fun():\n",
    "    y=30\n",
    "\n",
    "    def funa():\n",
    "        global x\n",
    "        x = 10\n",
    "        print(y)\n",
    "        print(10)\n",
    "        \n",
    "    funa()\n",
    "\n",
    "fun()\n",
    "print(x)"
   ]
  }
 ],
 "metadata": {
  "kernelspec": {
   "display_name": "Python 3.10.4 64-bit",
   "language": "python",
   "name": "python3"
  },
  "language_info": {
   "codemirror_mode": {
    "name": "ipython",
    "version": 3
   },
   "file_extension": ".py",
   "mimetype": "text/x-python",
   "name": "python",
   "nbconvert_exporter": "python",
   "pygments_lexer": "ipython3",
   "version": "3.10.4"
  },
  "orig_nbformat": 4,
  "vscode": {
   "interpreter": {
    "hash": "d533ad8ead974ef2863af58c6dd965ec76a73ec9b0d6bfff6efc64af475660a3"
   }
  }
 },
 "nbformat": 4,
 "nbformat_minor": 2
}
