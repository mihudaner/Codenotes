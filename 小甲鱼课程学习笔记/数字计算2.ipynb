{
 "cells": [
  {
   "cell_type": "markdown",
   "metadata": {},
   "source": [
    "# 数学变量类型"
   ]
  },
  {
   "cell_type": "markdown",
   "metadata": {},
   "source": [
    "int变量的copy\n",
    "\n",
    "需要用return和share value来传递"
   ]
  },
  {
   "cell_type": "code",
   "execution_count": 2,
   "metadata": {},
   "outputs": [
    {
     "name": "stdout",
     "output_type": "stream",
     "text": [
      "10\n",
      "False\n"
     ]
    }
   ],
   "source": [
    "a=10\n",
    "b=id(a)\n",
    "a += 1\n",
    "print(b)\n",
    "print(a is b)"
   ]
  },
  {
   "cell_type": "markdown",
   "metadata": {},
   "source": [
    "浮点数不是严格相等"
   ]
  },
  {
   "cell_type": "code",
   "execution_count": 5,
   "metadata": {},
   "outputs": [
    {
     "data": {
      "text/plain": [
       "False"
      ]
     },
     "execution_count": 5,
     "metadata": {},
     "output_type": "execute_result"
    }
   ],
   "source": [
    "0.3 == 0.1+0.2 \n"
   ]
  },
  {
   "cell_type": "code",
   "execution_count": 6,
   "metadata": {},
   "outputs": [],
   "source": [
    "#  decimal.Decimal(\"0.1\")\n",
    "\n",
    "#  x.real x.imag 都是浮点数\n",
    "\n"
   ]
  },
  {
   "cell_type": "markdown",
   "metadata": {},
   "source": [
    "地板除"
   ]
  },
  {
   "cell_type": "code",
   "execution_count": 7,
   "metadata": {},
   "outputs": [
    {
     "name": "stdout",
     "output_type": "stream",
     "text": [
      "2\n"
     ]
    }
   ],
   "source": [
    "\n",
    "print(8//3)#向下取整除 !\n",
    "\n"
   ]
  },
  {
   "cell_type": "markdown",
   "metadata": {},
   "source": [
    "divmod获得地板除和余数"
   ]
  },
  {
   "cell_type": "code",
   "execution_count": 8,
   "metadata": {},
   "outputs": [
    {
     "data": {
      "text/plain": [
       "(1, 2)"
      ]
     },
     "execution_count": 8,
     "metadata": {},
     "output_type": "execute_result"
    }
   ],
   "source": [
    "divmod(8,6)"
   ]
  },
  {
   "cell_type": "markdown",
   "metadata": {},
   "source": [
    "abs绝对值，取模"
   ]
  },
  {
   "cell_type": "code",
   "execution_count": 9,
   "metadata": {},
   "outputs": [
    {
     "data": {
      "text/plain": [
       "5"
      ]
     },
     "execution_count": 9,
     "metadata": {},
     "output_type": "execute_result"
    }
   ],
   "source": [
    "abs(-5)"
   ]
  },
  {
   "cell_type": "markdown",
   "metadata": {},
   "source": [
    "int 是转换成整数"
   ]
  },
  {
   "cell_type": "code",
   "execution_count": 10,
   "metadata": {},
   "outputs": [
    {
     "name": "stdout",
     "output_type": "stream",
     "text": [
      "<class 'int'>\n"
     ]
    }
   ],
   "source": [
    "x=int(\"1\")\n",
    "print(type(x))"
   ]
  },
  {
   "cell_type": "markdown",
   "metadata": {},
   "source": [
    "in 用于检查一个值是否在序列中，在序列中返回 True，否则返回 False。"
   ]
  },
  {
   "cell_type": "code",
   "execution_count": 11,
   "metadata": {},
   "outputs": [
    {
     "data": {
      "text/plain": [
       "True"
      ]
     },
     "execution_count": 11,
     "metadata": {},
     "output_type": "execute_result"
    }
   ],
   "source": [
    "1 in [1,2,3]"
   ]
  },
  {
   "cell_type": "markdown",
   "metadata": {},
   "source": [
    "break语句的作用是***终止当前循环***，跳出循环体\n",
    "\n",
    "continue语句的作用是***终止本轮循环并开始下一轮循环***"
   ]
  },
  {
   "cell_type": "markdown",
   "metadata": {},
   "source": [
    "### 猜数字游戏"
   ]
  },
  {
   "cell_type": "code",
   "execution_count": 13,
   "metadata": {},
   "outputs": [
    {
     "name": "stdout",
     "output_type": "stream",
     "text": [
      "大了\n",
      "dui\n",
      "游戏结束\n"
     ]
    }
   ],
   "source": [
    "\n",
    "import random\n",
    "counts = 3;\n",
    "answer = random.randint(1,10)\n",
    "while counts > 0:\n",
    "    temp = input(\"猜猜数字\")      #1.空格和对齐，2. pyhon不用；\n",
    "    guss = int(temp)               #  dir(__builtins__) 查看 bif内置函数\n",
    "\n",
    "    if guss == answer:\n",
    "        print(\"dui\")\n",
    "        break\n",
    "    else:\n",
    "        if guss<answer  :           #clrt c 停止\n",
    "            print(\"小了\")        #不用打括号！缩进来判断层级:引出\n",
    "        else  :                 #\n",
    "            print(\"大了\")\n",
    "        counts =   counts-1\n",
    "print(\"游戏结束\")\n"
   ]
  },
  {
   "cell_type": "markdown",
   "metadata": {},
   "source": [
    "### 请写一个程序打印出 0~100 所有的奇数。"
   ]
  },
  {
   "cell_type": "code",
   "execution_count": null,
   "metadata": {},
   "outputs": [
    {
     "name": "stdout",
     "output_type": "stream",
     "text": [
      "1\n",
      "3\n",
      "5\n",
      "7\n",
      "9\n",
      "11\n",
      "13\n",
      "15\n",
      "17\n",
      "19\n",
      "21\n",
      "23\n",
      "25\n",
      "27\n",
      "29\n",
      "31\n",
      "33\n",
      "35\n",
      "37\n",
      "39\n",
      "41\n",
      "43\n",
      "45\n",
      "47\n",
      "49\n",
      "51\n",
      "53\n",
      "55\n",
      "57\n",
      "59\n",
      "61\n",
      "63\n",
      "65\n",
      "67\n",
      "69\n",
      "71\n",
      "73\n",
      "75\n",
      "77\n",
      "79\n",
      "81\n",
      "83\n",
      "85\n",
      "87\n",
      "89\n",
      "91\n",
      "93\n",
      "95\n",
      "97\n",
      "99\n"
     ]
    }
   ],
   "source": [
    "\n",
    "i=0\n",
    "while i<100:\n",
    "    if(i%2==1):\n",
    "        print(i)\n",
    "    i+=1\n",
    "\n"
   ]
  },
  {
   "cell_type": "markdown",
   "metadata": {},
   "source": [
    "### 不妨写一个小代码，让你的计算机为之崩溃？"
   ]
  },
  {
   "cell_type": "code",
   "execution_count": 14,
   "metadata": {},
   "outputs": [],
   "source": [
    "\n",
    "print( 2 ** 2 )\n",
    "print( (2 ** 2) ** 32)\n",
    "print (2 ** 2 ** 32)#会直接崩溃\n"
   ]
  },
  {
   "cell_type": "markdown",
   "metadata": {},
   "source": [
    "### 爱因斯坦的难题\n",
    "爱因斯坦曾出过这样一道有趣的数学题：有一个长阶梯，若每步上2阶，\n",
    "最后剩1阶；若每步上3阶，最后剩2阶；若每步上5阶，最后剩4阶；\n",
    "\n",
    "若每步上6阶，最后剩5阶；只有每步上7阶，最后刚好一阶也不剩。\n",
    "题目：请编程求解该阶梯至少有多少阶？"
   ]
  },
  {
   "cell_type": "code",
   "execution_count": 1,
   "metadata": {},
   "outputs": [
    {
     "name": "stdout",
     "output_type": "stream",
     "text": [
      "阶梯数不是： 14\n",
      "阶梯数不是： 21\n",
      "阶梯数不是： 28\n",
      "阶梯数不是： 35\n",
      "阶梯数不是： 42\n",
      "阶梯数不是： 49\n",
      "阶梯数不是： 56\n",
      "阶梯数不是： 63\n",
      "阶梯数不是： 70\n",
      "阶梯数不是： 77\n",
      "阶梯数不是： 84\n",
      "阶梯数不是： 91\n",
      "阶梯数不是： 98\n",
      "阶梯数不是： 105\n",
      "阶梯数不是： 112\n",
      "阶梯数不是： 119\n",
      "阶梯数是： 119\n"
     ]
    }
   ],
   "source": [
    "x = 7\n",
    "i = 1\n",
    "flag = 0\n",
    "while i <= 300:\n",
    "    if (x%2 == 1) and (x%3 == 2) and (x%5 == 4) and (x%6==5):\n",
    "        flag = 1#不需要break ,只有flag=0 if else 语句才执行！！！！\n",
    "    else:\n",
    "        x = 7 * (i+1) # 根据题意，x一定是7的整数倍，所以每次乘以7\n",
    "        print('阶梯数不是：', x)\n",
    "    i += 1\n",
    "\n",
    "if flag == 1:\n",
    "    print('阶梯数是：', x)\n",
    "else:\n",
    "    print('在程序限定的范围内找不到答案！')"
   ]
  },
  {
   "cell_type": "markdown",
   "metadata": {},
   "source": [
    "### 成绩打等级"
   ]
  },
  {
   "cell_type": "code",
   "execution_count": 2,
   "metadata": {},
   "outputs": [
    {
     "name": "stdout",
     "output_type": "stream",
     "text": [
      "B\n"
     ]
    }
   ],
   "source": [
    "\n",
    "score = int(input('请输入一个分数：'))\n",
    "if 80 > score >= 60:\n",
    "    print('C')\n",
    "elif 90 > score >= 80:#elif 相当于 else if \n",
    "    print('B')\n",
    "elif 60 > score >= 0:\n",
    "    print('D')\n",
    "elif 100 >= score >= 90:\n",
    "    print('A')\n",
    "else:\n",
    "    print('输入错误！')\n"
   ]
  },
  {
   "cell_type": "markdown",
   "metadata": {},
   "source": [
    "### 下面代码等同三单元操作  small = x if (x < y and x < z) else (y if y < z else z)"
   ]
  },
  {
   "cell_type": "code",
   "execution_count": null,
   "metadata": {},
   "outputs": [],
   "source": [
    "\n",
    "x, y, z = 6, 5, 4\n",
    "if x < y:\n",
    "    small = x\n",
    "    if z < small:\n",
    "        small = z\n",
    "elif y < z:\n",
    "    small = y\n",
    "else:\n",
    "    small = z\n"
   ]
  },
  {
   "cell_type": "markdown",
   "metadata": {},
   "source": [
    "### 设计一个验证用户密码程序，用户只有三次机会输入错误，不过如果用户输入的内容中包含\"*\"则不计算在内。"
   ]
  },
  {
   "cell_type": "code",
   "execution_count": null,
   "metadata": {},
   "outputs": [],
   "source": [
    "\n",
    "cnt=3\n",
    "key= \"wk2000\"\n",
    "while cnt :\n",
    "    temp = input(\"请输入密码\")\n",
    "    if(temp==key):\n",
    "        print(\"ture\")\n",
    "        break\n",
    "    else:\n",
    "        cnt-=1\n",
    "        print(\"one more time\")\n",
    "if(cnt==0):\n",
    "    print(\"times out\")\n"
   ]
  },
  {
   "cell_type": "markdown",
   "metadata": {},
   "source": [
    "###  编写一个程序，求 100~999 之间的所有水仙花数。"
   ]
  },
  {
   "cell_type": "code",
   "execution_count": null,
   "metadata": {},
   "outputs": [],
   "source": [
    "\n",
    "count=100\n",
    "while count<1000:\n",
    "    sum=0\n",
    "    temp=count\n",
    "    while temp:\n",
    "        sum=sum+(temp%10)**3\n",
    "        temp=temp//10     \n",
    "    if count==sum:\n",
    "       print(sum)\n",
    "    count+=1  \n"
   ]
  },
  {
   "cell_type": "markdown",
   "metadata": {},
   "source": [
    "### 有红、黄、蓝三种颜色的求，其中红球 3 个，黄球 3 个，绿球 6 个。先将这 12 个球混合放在一个盒子中，从中任意摸出 8 个球，编程计算\n",
    "### 摸出球的各种颜色搭配。"
   ]
  },
  {
   "cell_type": "code",
   "execution_count": null,
   "metadata": {},
   "outputs": [],
   "source": [
    "\n",
    "print('red\\tyellow\\tgreen')\n",
    "for red in range(0, 4):\n",
    "    for yellow in range(0, 4):\n",
    "        for green in range(0, 7):\n",
    "            if red + yellow + green == 8:\n",
    "                # 下边不是字符串拼接，因此不用+,会报错\n",
    "                #TypeError: unsupported operand type(s) for +: 'int' and 'str'\n",
    "                print(red,'\\t', yellow, '\\t', green)\n"
   ]
  }
 ],
 "metadata": {
  "kernelspec": {
   "display_name": "Python 3.10.4 64-bit",
   "language": "python",
   "name": "python3"
  },
  "language_info": {
   "codemirror_mode": {
    "name": "ipython",
    "version": 3
   },
   "file_extension": ".py",
   "mimetype": "text/x-python",
   "name": "python",
   "nbconvert_exporter": "python",
   "pygments_lexer": "ipython3",
   "version": "3.10.4"
  },
  "orig_nbformat": 4,
  "vscode": {
   "interpreter": {
    "hash": "d533ad8ead974ef2863af58c6dd965ec76a73ec9b0d6bfff6efc64af475660a3"
   }
  }
 },
 "nbformat": 4,
 "nbformat_minor": 2
}
