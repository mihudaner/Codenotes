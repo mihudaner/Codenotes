{
 "cells": [
  {
   "cell_type": "markdown",
   "metadata": {},
   "source": [
    "# 字典\n",
    "\n",
    "### 字典：映射关系\n",
    "\n",
    "字典通过键与值获取对应的数值的，顺序没有保证的"
   ]
  },
  {
   "cell_type": "code",
   "execution_count": 19,
   "metadata": {},
   "outputs": [],
   "source": [
    "\n",
    "a={\"吕布\":\"lvbu\",\"关羽\":\"guanyu\"}\n",
    "a[\"刘备\"]=\"liubei\"\n"
   ]
  },
  {
   "cell_type": "markdown",
   "metadata": {},
   "source": [
    "### 字典的创建方法"
   ]
  },
  {
   "cell_type": "code",
   "execution_count": 20,
   "metadata": {},
   "outputs": [],
   "source": [
    "\n",
    "\n",
    "a={'1':\"lvbu\",\"关羽\":\"guanyu\"}\n",
    "b=dict(吕布=\"lvbu\",关羽=\"guanyu\")#前面不能加引号\n",
    "c=dict([('吕布','lvbu'),('关羽','guanyu')])\n",
    "d=dict(zip(['吕布','关羽'],['lvbu','guanyu']))\n",
    "\n"
   ]
  },
  {
   "cell_type": "markdown",
   "metadata": {},
   "source": [
    "字典推导式"
   ]
  },
  {
   "cell_type": "code",
   "execution_count": 21,
   "metadata": {},
   "outputs": [
    {
     "name": "stdout",
     "output_type": "stream",
     "text": [
      "{0: True, 1: False, 2: True, 3: False, 4: True, 5: False, 6: True, 7: False, 8: True, 9: False}\n"
     ]
    }
   ],
   "source": [
    "\n",
    "b={i:i%2 ==0 for i in range(10)}\n",
    "print(b)\n"
   ]
  },
  {
   "cell_type": "markdown",
   "metadata": {},
   "source": [
    "### 字典的修改"
   ]
  },
  {
   "cell_type": "code",
   "execution_count": 22,
   "metadata": {},
   "outputs": [
    {
     "name": "stdout",
     "output_type": "stream",
     "text": [
      "{'F': 250, 'i': 250, 's': 250, 'h': 250}\n",
      "{'F': 70}\n"
     ]
    }
   ],
   "source": [
    "\n",
    "d=dict.fromkeys('Fish',250)\n",
    "print(d)\n",
    "d['F']=70# 字典元素的修改\n",
    "#字典中的元素是不能重复的\n",
    "d.pop('s')\n",
    "d.popitem()#弹出最后一个的键值对\n",
    "del d['i']\n",
    "print(d)\n",
    "d.clear()"
   ]
  },
  {
   "cell_type": "code",
   "execution_count": 2,
   "metadata": {},
   "outputs": [
    {
     "name": "stdout",
     "output_type": "stream",
     "text": [
      "{'F': None, 'i': None, 's': None, 'h': None}\n",
      "{'F': None, 'i': '105', 's': '157', 'h': None, 'c': 'code'}\n"
     ]
    }
   ],
   "source": [
    "#元素在序列中的查找需要查找算法，但是字典的存储是哈希算法，查找元素一步到位，更加高效\n",
    "#dict.formkeys是新建一个字典，不能用来修改值，不然会被覆盖掉。\n",
    "\n",
    "e= d=dict.fromkeys('Fish')\n",
    "print(e)\n",
    "e.update({'i':'105'})\n",
    "e.update(s='157')\n",
    "e.get('g','没有')\n",
    "e.setdefault('c',\"code\")#如果字典里没有则加入c:code\n",
    "print(e)"
   ]
  },
  {
   "cell_type": "markdown",
   "metadata": {},
   "source": [
    "### 字典的copy\n",
    "\n",
    "深复制"
   ]
  },
  {
   "cell_type": "code",
   "execution_count": 3,
   "metadata": {},
   "outputs": [
    {
     "name": "stdout",
     "output_type": "stream",
     "text": [
      "{'F': None, 'i': '105', 's': '157', 'h': None, 'c': 'code'}\n",
      "5\n",
      "{'F': None, 'i': '105', 's': '157', 'h': None, 'c': 'code', 'f': 200}\n",
      "{'F': None, 'i': '105', 's': '157', 'h': None, 'c': 'code'}\n",
      "True\n",
      "False\n",
      "False\n"
     ]
    }
   ],
   "source": [
    "\n",
    "# d.items d.keys d.values 获取视图对象\n",
    "print(d)\n",
    "f=d.copy()#深拷贝修改g，e不会修改\n",
    "print(len(f))\n",
    "d['f']=200\n",
    "print(d)\n",
    "print(f)\n",
    "print('i' in f)\n",
    "print('c'  not in f)\n",
    "print(d is f)"
   ]
  },
  {
   "cell_type": "markdown",
   "metadata": {},
   "source": [
    "深复制"
   ]
  },
  {
   "cell_type": "code",
   "execution_count": 4,
   "metadata": {},
   "outputs": [
    {
     "name": "stdout",
     "output_type": "stream",
     "text": [
      "6\n",
      "{'F': None, 'i': '105', 's': '157', 'h': None, 'c': 'code', 'f': 300}\n",
      "{'F': None, 'i': '105', 's': '157', 'h': None, 'c': 'code', 'f': 200}\n",
      "False\n"
     ]
    }
   ],
   "source": [
    "import copy\n",
    "\n",
    "f=copy.deepcopy(d)#深拷贝修改g，e不会修改\n",
    "print(len(f))\n",
    "d['f']=300\n",
    "print(d)\n",
    "print(f)\n",
    "print(d is f)"
   ]
  },
  {
   "cell_type": "markdown",
   "metadata": {},
   "source": [
    "浅复制"
   ]
  },
  {
   "cell_type": "code",
   "execution_count": 5,
   "metadata": {},
   "outputs": [
    {
     "name": "stdout",
     "output_type": "stream",
     "text": [
      "6\n",
      "{'F': None, 'i': '105', 's': '157', 'h': None, 'c': 'code', 'f': 100}\n",
      "{'F': None, 'i': '105', 's': '157', 'h': None, 'c': 'code', 'f': 100}\n",
      "True\n"
     ]
    }
   ],
   "source": [
    "f=d#深拷贝修改g，e不会修改\n",
    "print(len(f))\n",
    "d['f']=100\n",
    "print(d)\n",
    "print(f)\n",
    "\n",
    "\n",
    "\n",
    "dict1={1:'one',2:'two',3:'three'}\n",
    "dict2= dict1#浅拷贝\n",
    "#字典容易犯得错误，这样只是拷贝了引用的对象\n",
    "print(d is f)\n"
   ]
  },
  {
   "cell_type": "markdown",
   "metadata": {},
   "source": [
    "字典到列表"
   ]
  },
  {
   "cell_type": "code",
   "execution_count": 26,
   "metadata": {},
   "outputs": [
    {
     "data": {
      "text/plain": [
       "[None, '105', '157', None, 'code', 250]"
      ]
     },
     "execution_count": 26,
     "metadata": {},
     "output_type": "execute_result"
    }
   ],
   "source": [
    "\n",
    "list(f)#字典生产键组成的列表\n",
    "list(f.values())#字典生产值组成的列表\n"
   ]
  },
  {
   "cell_type": "markdown",
   "metadata": {},
   "source": [
    "字典到迭代器"
   ]
  },
  {
   "cell_type": "code",
   "execution_count": 27,
   "metadata": {},
   "outputs": [
    {
     "data": {
      "text/plain": [
       "'f'"
      ]
     },
     "execution_count": 27,
     "metadata": {},
     "output_type": "execute_result"
    }
   ],
   "source": [
    "\n",
    "g=iter(f)#字典生产键组成的迭代器\n",
    "next(g)\n",
    "h=reversed(f)#reversed生产的h也是迭代器，但是反向\n",
    "next(h)\n"
   ]
  },
  {
   "cell_type": "markdown",
   "metadata": {},
   "source": [
    "### 字典的嵌套"
   ]
  },
  {
   "cell_type": "markdown",
   "metadata": {},
   "source": [
    "item（）"
   ]
  },
  {
   "cell_type": "code",
   "execution_count": 1,
   "metadata": {},
   "outputs": [
    {
     "name": "stdout",
     "output_type": "stream",
     "text": [
      "{70: 'f', 80: 'i', 90: 'c'}\n"
     ]
    }
   ],
   "source": [
    "\n",
    "#字典同样也是可以嵌套的，需要两次索引\n",
    "i={\"张三\":{\"语文\":70,\"数学\":80,\"英语\":90}}\n",
    "i[\"张三\"][\"数学\"]\n",
    "\n",
    "d={'f':70,'i':80,'c':90,'h':10}\n",
    "b={v:k for k,v in d.items() if v>50}#这里必须要items,应该是因为items的映射关系是一个可迭代对象\n",
    "print(b)\n",
    "#>>>d.items()\n",
    "#>>>dict_items([('f', 70), ('i', 80), ('c', 90), ('h', 10)])\n"
   ]
  },
  {
   "cell_type": "code",
   "execution_count": null,
   "metadata": {},
   "outputs": [],
   "source": [
    "e={x:ord(x) for x in \"fishc\"}\n",
    "d={x:y for x in[1,3,5] for y in [2,4,6]}\n",
    "#>>>{1: 6, 3: 6, 5: 6}  这种写法是错误的，键值对应只会被最后一次覆盖\n"
   ]
  },
  {
   "cell_type": "markdown",
   "metadata": {},
   "source": [
    "### 第二十五讲 编写一个通讯录查询功能的程序"
   ]
  },
  {
   "cell_type": "code",
   "execution_count": null,
   "metadata": {},
   "outputs": [],
   "source": [
    "\n",
    "\n",
    "Mydict = dict([('F','70'),('C','67'),('h','67'),('i','67'),('s','67')])\n",
    "Mydict['C']\n",
    "\n",
    "NotDict={1,2,3,4,5}\n",
    "type(NotDict)#由于没有反应映射关系，不是字典，而叫集合\n",
    "#字典强大主要就是他的映射关系\n",
    "\n",
    "data =\"008,王凯,男\"\n",
    "dict1= {}\n",
    "[dict1['id'],dict1['name'],dict1['sex']]=data.split(',')\n",
    "print('id:'+dict1['id'])\n",
    "print('name:'+dict1['name'])\n",
    "print('sex:'+dict1['sex'])\n",
    "\n",
    "\n",
    "#编写一个通讯录查询功能的程序\n",
    "\n",
    "print('''---欢迎进入通讯录程序---\n",
    "---1.查询联系人资料---\n",
    "---2.插入新的联系人---\n",
    "---3.删除已有联系人---\n",
    "---4.退出通信路程序---\n",
    "    ''')\n",
    "book= {}\n",
    "while(1):\n",
    "    code=input(\"请输入指令代码：\")\n",
    "    if(code=='1'):\n",
    "        name=input(\"请输入联系人姓名：\")\n",
    "        print(name+\":\"+book.get(name,\"没有\"))\n",
    "        continue\n",
    "    elif(code=='2'):    \n",
    "        name=input(\"请输入联系人姓名：\")\n",
    "\n",
    "        if(name in book):      \n",
    "            asw=input(\"联系人已存在：是否修改\")\n",
    "            if(asw==\"yes\"):\n",
    "                call=input(\"请输入联系人电话：\")\n",
    "                book[name]=call\n",
    "                continue\n",
    "            elif(asw==\"no\"):\n",
    "                continue\n",
    "        else:\n",
    "            call=input(\"请输入联系人电话：\")\n",
    "            book[name]=call\n",
    "            continue\n",
    "    elif(code=='3'):    \n",
    "        name=input(\"请输入联系人姓名：\")\n",
    "        call=input(\"请输入联系人电话：\")\n",
    "        book[name].pop()#或者del()\n",
    "        continue\n",
    "    elif(code=='4'):\n",
    "        print(\"已退出程序\")\n",
    "        break \n"
   ]
  },
  {
   "cell_type": "markdown",
   "metadata": {},
   "source": [
    "### 用户登录程序函数编写\n"
   ]
  },
  {
   "cell_type": "code",
   "execution_count": 42,
   "metadata": {},
   "outputs": [
    {
     "name": "stdout",
     "output_type": "stream",
     "text": [
      "注册成功，赶紧试试登录吧O∩_∩O\n"
     ]
    }
   ],
   "source": [
    "\n",
    "\n",
    "\n",
    "user_data = {}\n",
    "def new_user():\n",
    "    prompt = '请输入用户名'\n",
    "    while True:\n",
    "        name=input(prompt)\n",
    "        if name in user_data:\n",
    "            prompt = '此用户名已被使用,请重新输入'\n",
    "            continue\n",
    "        else:\n",
    "            break;\n",
    "    passwd = input('请输入密码：')\n",
    "    user_data[name]=passwd\n",
    "    print('注册成功，赶紧试试登录吧O∩_∩O')\n",
    "\n",
    "def old_user():\n",
    "    prompt = '请输入用户名'\n",
    "    while True:\n",
    "        name=input(prompt)\n",
    "        if name not in user_data:\n",
    "            prompt = '用户名不存在，重新输入'\n",
    "            continue\n",
    "        else:\n",
    "            break;\n",
    "    passwd = input('请输入密码：')\n",
    "    psw=user_data.get(name)\n",
    "    if psw ==passwd:\n",
    "        print('欢迎登陆')\n",
    "    else:\n",
    "        print('密码错误！')\n",
    "def showmenu():\n",
    "        prompt=('''---欢迎进入通讯录程序---\n",
    "---新建用户：N/n---\n",
    "---登录账号：E/e---\n",
    "---退出程序：Q/q---\n",
    "--请输入指令代码：---\n",
    "''')\n",
    "        while True:\n",
    "            chosen = False\n",
    "            while not chosen:\n",
    "                choice = input(prompt)\n",
    "                if choice not in 'NnEeQq':\n",
    "                    print('输入错误，重新输入')\n",
    "                else:\n",
    "                    chosen = True\n",
    "            if choice == 'q' or choice =='Q':\n",
    "                break\n",
    "            if choice == 'n' or choice =='N':\n",
    "                new_user()\n",
    "            if choice == 'e' or choice =='E':\n",
    "                old_user()\n",
    "showmenu()\n",
    "\n"
   ]
  }
 ],
 "metadata": {
  "kernelspec": {
   "display_name": "Python 3.10.4 64-bit",
   "language": "python",
   "name": "python3"
  },
  "language_info": {
   "codemirror_mode": {
    "name": "ipython",
    "version": 3
   },
   "file_extension": ".py",
   "mimetype": "text/x-python",
   "name": "python",
   "nbconvert_exporter": "python",
   "pygments_lexer": "ipython3",
   "version": "3.10.4"
  },
  "orig_nbformat": 4,
  "vscode": {
   "interpreter": {
    "hash": "d533ad8ead974ef2863af58c6dd965ec76a73ec9b0d6bfff6efc64af475660a3"
   }
  }
 },
 "nbformat": 4,
 "nbformat_minor": 2
}
