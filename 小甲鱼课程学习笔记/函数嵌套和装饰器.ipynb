{
 "cells": [
  {
   "cell_type": "markdown",
   "metadata": {},
   "source": [
    "### 全局变量"
   ]
  },
  {
   "cell_type": "code",
   "execution_count": 6,
   "metadata": {},
   "outputs": [],
   "source": [
    "\n",
    "#局部变量作用域只在函数中\n",
    "#全局变量可以在函数内被访问到，但是一但赋值就会新建一个变量覆盖\n",
    "x=880\n",
    "def tex():\n",
    "    global x\n",
    "    x=330\n",
    "\n"
   ]
  },
  {
   "cell_type": "markdown",
   "metadata": {},
   "source": [
    "### 函数嵌套 \n",
    "\n",
    "嵌套的内部函数无法直接调用，只能在funA调用"
   ]
  },
  {
   "cell_type": "code",
   "execution_count": 7,
   "metadata": {},
   "outputs": [
    {
     "name": "stdout",
     "output_type": "stream",
     "text": [
      "IN funB ,x = 880\n",
      "IN funA ,x = 880\n"
     ]
    }
   ],
   "source": [
    "\n",
    "#函数嵌套\n",
    "def funA():\n",
    "    x=520\n",
    "    def funB():\n",
    "        nonlocal x#使得内部的x就是外部的x\n",
    "        x=880\n",
    "        print(\"IN funB ,x =\",x)\n",
    "    funB()    \n",
    "    print(\"IN funA ,x =\",x)   \n",
    "funA()\n",
    "#嵌套的内部函数无法直接调用，只能在funA调用\n",
    "\n",
    "\n",
    "#LEGB规则，在发生冲突时的优先级是 local eu enclosed n global > bif\n",
    "\n"
   ]
  },
  {
   "cell_type": "markdown",
   "metadata": {},
   "source": [
    "### 闭包返回函数引用，获取嵌套内部函数"
   ]
  },
  {
   "cell_type": "code",
   "execution_count": 8,
   "metadata": {},
   "outputs": [
    {
     "name": "stdout",
     "output_type": "stream",
     "text": [
      "<function funout.<locals>.funin at 0x00000235168ACC10>\n",
      "ok\n",
      "6\n",
      "7\n",
      "8\n"
     ]
    },
    {
     "data": {
      "text/plain": [
       "6"
      ]
     },
     "execution_count": 8,
     "metadata": {},
     "output_type": "execute_result"
    }
   ],
   "source": [
    "\n",
    "def funout():\n",
    "    def funin():\n",
    "        print('ok')\n",
    "    return funin#闭包返回函数\n",
    "x=funout()#已经取到了内部嵌套函数的引用值\n",
    "print(x)\n",
    "funout()()\n",
    "\n",
    "\n",
    "def funx():\n",
    "    x=5\n",
    "    def funy():\n",
    "        nonlocal x\n",
    "        x+=1\n",
    "        return x\n",
    "    return funy#闭包返回函数\n",
    "a=funx()\n",
    "print(a())#x=5那一行代码并不会被执行\n",
    "print(a())\n",
    "print(a())\n",
    "funx()()#x=5那一行代码并被执行"
   ]
  },
  {
   "cell_type": "markdown",
   "metadata": {},
   "source": [
    "### '代工厂函数'\n",
    "通过嵌套函数返回实现"
   ]
  },
  {
   "cell_type": "code",
   "execution_count": 9,
   "metadata": {},
   "outputs": [
    {
     "name": "stdout",
     "output_type": "stream",
     "text": [
      "x=1,y=2\n",
      "x=4,y=6\n"
     ]
    }
   ],
   "source": [
    "\n",
    "\n",
    "def power(exp):\n",
    "    '代工厂函数'\n",
    "    def exp_of(base):\n",
    "        return base **exp\n",
    "    return exp_of\n",
    "squre = power(2)#由power生产的平方函数，外出函数的作用域被保留了下来\n",
    "cube = power(3)#由power生产的立方函数\n",
    "\n",
    "\n",
    "#通过这种调用方式，可以实现调用内部函数修改外部变量\n",
    "def outer():\n",
    "    x=0\n",
    "    y=0\n",
    "    def inner(x1,y1):\n",
    "        nonlocal x,y\n",
    "        x+=x1\n",
    "        y+=y1\n",
    "        print(f\"x={x},y={y}\")\n",
    "    return inner\n",
    "move=outer()\n",
    "move(1,2)\n",
    "#>>x=1,y=2\n",
    "move(3,4)\n",
    "#>>x=4,y=6\n",
    "#这种闭包函数的好处就是值不容易修改，但是还是可以通过return 内部函数名修改的\n",
    "\n"
   ]
  },
  {
   "cell_type": "markdown",
   "metadata": {},
   "source": [
    "### 函数名一样可以被作为参数传递"
   ]
  },
  {
   "cell_type": "code",
   "execution_count": 5,
   "metadata": {},
   "outputs": [
    {
     "name": "stdout",
     "output_type": "stream",
     "text": [
      "唤醒\n"
     ]
    }
   ],
   "source": [
    "\n",
    "import time\n",
    "\n",
    "def report(text):\n",
    "    text() \n",
    "def myfunc():\n",
    "    time.sleep(1)\n",
    "    print('唤醒')\n",
    "\n",
    "report(myfunc)\n"
   ]
  },
  {
   "cell_type": "markdown",
   "metadata": {},
   "source": [
    "### 装饰器"
   ]
  },
  {
   "cell_type": "markdown",
   "metadata": {},
   "source": [
    "***@time_master  等同   myfunc = call_func(myfunc)***"
   ]
  },
  {
   "cell_type": "code",
   "execution_count": 10,
   "metadata": {},
   "outputs": [
    {
     "name": "stdout",
     "output_type": "stream",
     "text": [
      "唤醒\n",
      "耗时{} 1.0061330795288086\n"
     ]
    }
   ],
   "source": [
    "\n",
    "def time_master(func):\n",
    "    def call_func():\n",
    "        start=time.time()\n",
    "        func()\n",
    "        stop=time.time()\n",
    "        print('耗时{}',stop-start)\n",
    "    return call_func\n",
    "\n",
    "@time_master#相当于在后面加了myfunc = time_master(myfunc)，效果是一样\n",
    "            #作用是说明myfunc()函数就是相当于给time_master传入了myfunc\n",
    "def myfunc():\n",
    "    time.sleep(1)\n",
    "    print('唤醒')   \n",
    "#myfunc = time_master(myfunc)#与用糖等同\n",
    "myfunc()"
   ]
  },
  {
   "cell_type": "markdown",
   "metadata": {},
   "source": [
    "***调用多个装饰器和调用的顺序***\n",
    "\n",
    "@squre#后调用\n",
    "\n",
    "@add#先调用\n",
    "\n",
    "等同\n",
    "\n",
    "myfunc1 = add(text)\n",
    "\n",
    "myfunc2 = squre(myfunc1)\n",
    "\n",
    "print(myfunc2())#与用糖等同\n"
   ]
  },
  {
   "cell_type": "code",
   "execution_count": 11,
   "metadata": {},
   "outputs": [
    {
     "name": "stdout",
     "output_type": "stream",
     "text": [
      "25\n"
     ]
    }
   ],
   "source": [
    "\n",
    "#调用多个装饰器和调用的顺序\n",
    "def add(func):\n",
    "    def inner():\n",
    "        x=func()\n",
    "        return x+1\n",
    "    return inner\n",
    "    \n",
    "def squre(func):\n",
    "    def inner():\n",
    "        x=func()\n",
    "        return x*x\n",
    "    return inner\n",
    "\n",
    "@squre#后调用\n",
    "@add#先调用\n",
    "def text():\n",
    "    return 4\n",
    "print(text())\n",
    "\n"
   ]
  },
  {
   "cell_type": "code",
   "execution_count": 13,
   "metadata": {},
   "outputs": [
    {
     "name": "stdout",
     "output_type": "stream",
     "text": [
      "正在调用funA\n",
      "耗时A 1.0089750289916992\n"
     ]
    }
   ],
   "source": [
    "\n",
    "\n",
    "#装饰器传入参数\n",
    "\n",
    "def logger(msg):\n",
    "    def time_master(func):\n",
    "        def call_func():\n",
    "            start=time.time() \n",
    "            func()                     \n",
    "            stop=time.time()\n",
    "            print(f'耗时{msg}',stop-start)\n",
    "        return call_func\n",
    "    return time_master    \n",
    "\n",
    "@logger(msg='A')\n",
    "def funA():\n",
    "    print(\"正在调用funA\")\n",
    "    time.sleep(1) \n",
    "\n",
    "#funA=logger(\"任务A\")(funA)#与用糖等同\n",
    "funA()\n",
    "\n"
   ]
  }
 ],
 "metadata": {
  "kernelspec": {
   "display_name": "Python 3.10.4 64-bit",
   "language": "python",
   "name": "python3"
  },
  "language_info": {
   "codemirror_mode": {
    "name": "ipython",
    "version": 3
   },
   "file_extension": ".py",
   "mimetype": "text/x-python",
   "name": "python",
   "nbconvert_exporter": "python",
   "pygments_lexer": "ipython3",
   "version": "3.10.4"
  },
  "orig_nbformat": 4,
  "vscode": {
   "interpreter": {
    "hash": "d533ad8ead974ef2863af58c6dd965ec76a73ec9b0d6bfff6efc64af475660a3"
   }
  }
 },
 "nbformat": 4,
 "nbformat_minor": 2
}
